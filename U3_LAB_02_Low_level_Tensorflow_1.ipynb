{
  "cells": [
    {
      "cell_type": "markdown",
      "metadata": {
        "id": "lB2k7Jor4DhX"
      },
      "source": [
        "# LAB 3.2 - Low level `tensorflow`"
      ]
    },
    {
      "cell_type": "code",
      "execution_count": null,
      "metadata": {
        "colab": {
          "base_uri": "https://localhost:8080/",
          "height": 34
        },
        "id": "sdKsr3104Dha",
        "outputId": "cabb2e3b-30d9-4a5f-e177-3e6f1119c841"
      },
      "outputs": [
        {
          "output_type": "display_data",
          "data": {
            "text/plain": [
              "<IPython.core.display.HTML object>"
            ],
            "text/html": [
              "\n",
              "<meta name=\"google-signin-client_id\"\n",
              "      content=\"461673936472-kdjosv61up3ac1ajeuq6qqu72upilmls.apps.googleusercontent.com\"/>\n",
              "<script src=\"https://apis.google.com/js/client:platform.js?onload=google_button_start\"></script>\n",
              "    "
            ]
          },
          "metadata": {}
        },
        {
          "output_type": "stream",
          "name": "stdout",
          "text": [
            "replicating local resources\n"
          ]
        }
      ],
      "source": [
        "!wget -nc --no-cache -O init.py -q https://raw.githubusercontent.com/rramosp/2021.deeplearning/main/content/init.py\n",
        "import init; init.init(force_download=False); "
      ]
    },
    {
      "cell_type": "code",
      "execution_count": null,
      "metadata": {
        "scrolled": true,
        "colab": {
          "base_uri": "https://localhost:8080/",
          "height": 138,
          "referenced_widgets": [
            "420c4ca491004268a916545862b25ea2",
            "0a97e43cc5d44a09a8e14a0c0303c0e5",
            "796bc586d5b142238fbf53cea85fd305",
            "cee6f343e2fb4203b406ee85fb429c74",
            "57fd441e921a43c59ba8799dc9c5c576",
            "5b26e6dc629b4629849b84bc56ac1f18",
            "7cb67f5cbae446228eb98224f7e5ef67",
            "3f28def2fc874d4abd87489fc5ca29e9",
            "c40bd925585b4c2382f956f8765d2ffe",
            "beeec0786cb94a378aa8c6dbe7f6c413",
            "99347367e2524cd08d75fc7c2162f4a2",
            "28d230482a8a4297b9f5b78fc003fd91",
            "2ba72d1825d74c24aa356469defb2f78",
            "7d5d7d57e68a4ae7b477f78db3b81076",
            "357e7a09b06a4e199a9b488181069193",
            "1fe888f425c5417c988f9cd0e598b909",
            "90dbc76821bc40f58b2218d348fd0bc6",
            "6d68d87d7fff4974b42f76ccd713520a",
            "2c9e3f2ba16840a6a8c4a7f42bde7d77"
          ]
        },
        "id": "LlLCI9VK4Dhd",
        "outputId": "5bf091ef-7704-480f-fe27-6e8e557dbfcf"
      },
      "outputs": [
        {
          "output_type": "stream",
          "name": "stdout",
          "text": [
            "logging in as sebastian.restrepo9@udea.edu.co... please wait\n",
            "using course session 2021.deeplearning::udea.pos.20222\n",
            "success!! you are logged in\n"
          ]
        }
      ],
      "source": [
        "from local.lib.rlxmoocapi import submit, session\n",
        "import inspect\n",
        "session.LoginSequence(endpoint=init.endpoint, course_id=init.course_id, lab_id=\"L03.02\", varname=\"student\");"
      ]
    },
    {
      "cell_type": "code",
      "execution_count": null,
      "metadata": {
        "colab": {
          "base_uri": "https://localhost:8080/",
          "height": 36
        },
        "id": "W4mM46_14Dhe",
        "outputId": "bcc9c6a6-9a7a-4e7f-c81a-d3eb37dd8ff0"
      },
      "outputs": [
        {
          "output_type": "execute_result",
          "data": {
            "text/plain": [
              "'2.9.2'"
            ],
            "application/vnd.google.colaboratory.intrinsic+json": {
              "type": "string"
            }
          },
          "metadata": {},
          "execution_count": 3
        }
      ],
      "source": [
        "import numpy as np\n",
        "import os\n",
        "import tensorflow as tf\n",
        "from tensorflow.keras.models import Model, Sequential\n",
        "from tensorflow.keras.layers import Dense, BatchNormalization\n",
        "\n",
        "tf.__version__"
      ]
    },
    {
      "cell_type": "markdown",
      "metadata": {
        "id": "3UdcTpgk4Dhe"
      },
      "source": [
        "## TASK 1: Obtain layer output\n"
      ]
    },
    {
      "cell_type": "markdown",
      "metadata": {
        "id": "-KJfhDgX4Dhf"
      },
      "source": [
        "**COMPLETE** the following function so that, when given a TF `model` and input  `X` returns the output of the model at layer `layer_name` when feeding `X` to the model.\n",
        "\n",
        "\n",
        "You **MUST RETURN** a `numpy` array, **NOT** a tensor.\n",
        "\n",
        "**HINT**: Use the [`tf.keras.Model`](https://www.tensorflow.org/api_docs/python/tf/keras/Model) class like in the functional API with `outputs` from the desired layer.\n",
        "\n",
        "**CHALLENGE**: Solve it with a single line of code (not counting the `import`)"
      ]
    },
    {
      "cell_type": "code",
      "execution_count": null,
      "metadata": {
        "id": "FvVCcfSX4Dhg"
      },
      "outputs": [],
      "source": [
        "def output_at_layer(X, model, layer_name):\n",
        "    from tensorflow.keras.models import Model\n",
        "    r = (Model(inputs=model.input, outputs=model.get_layer(layer_name).output)).predict(X)\n",
        "    return r#.numpy()"
      ]
    },
    {
      "cell_type": "markdown",
      "metadata": {
        "id": "zQfacXzC4Dhg"
      },
      "source": [
        "check your answer manually. With the following model and weights below you should get this answer:\n",
        "\n",
        "\n",
        "        >> output_at_layer(X, model, \"layer_A\")\n",
        "        array([[0.91274303, 0.69886017, 0.8832942 ],\n",
        "               [0.9311633 , 0.7634138 , 0.8924969 ],\n",
        "               [0.85661894, 0.5696809 , 0.8091405 ],\n",
        "               [0.8952345 , 0.6803274 , 0.8326857 ]], dtype=float32)\n",
        "\n",
        "        >> output_at_layer(X, model, \"layer_B\")\n",
        "        array([[0.87063193, 0.8240411 ],\n",
        "               [0.8774254 , 0.83376545],\n",
        "               [0.84875023, 0.7963983 ],\n",
        "               [0.86286545, 0.81590414]], dtype=float32)\n",
        "\n",
        "        >> output_at_layer(X, model, \"layer_C\")\n",
        "        array([[0.8959839 , 0.65980244],\n",
        "               [0.9032545 , 0.66435313],\n",
        "               [0.8733646 , 0.646801  ],\n",
        "               [0.8883195 , 0.6559416 ]], dtype=float32)"
      ]
    },
    {
      "cell_type": "code",
      "execution_count": null,
      "metadata": {
        "id": "sx4moL7x4Dhi"
      },
      "outputs": [],
      "source": [
        "def get_model(n1,n2,n3):\n",
        "    model = Sequential()\n",
        "    model.add(Dense(n1, name=\"layer_A\", activation=\"tanh\", input_dim=2))\n",
        "    model.add(Dense(n2, name=\"layer_B\", activation=\"sigmoid\"))\n",
        "    model.add(Dense(n3, name=\"layer_C\", activation=\"linear\"))\n",
        "    return model\n",
        "\n",
        "\n",
        "w = [np.array([[0.3336241 , 0.26024526, 0.37238857],\n",
        "               [0.6344426 , 0.67660165, 0.31070882]], dtype=np.float32),\n",
        "     np.array([0.97280777, 0.3447949 , 0.91722184], dtype=np.float32),\n",
        "     \n",
        "     np.array([[0.12999585, 0.31851983],\n",
        "               [0.7763866 , 0.8777575 ],\n",
        "               [0.99977154, 0.65771514]], dtype=np.float32),\n",
        "     np.array([0.36222705, 0.05885772], dtype=np.float32),\n",
        "\n",
        "     np.array([[0.75918376, 0.02541249],\n",
        "               [0.21730722, 0.45021895]], dtype=np.float32),\n",
        "     np.array([0.05594416, 0.26667854], dtype=np.float32)]\n",
        "\n",
        "\n",
        "X = np.array([[0.9269997 , 0.41239464],\n",
        "              [0.8461177 , 0.64935404],\n",
        "              [0.27092433, 0.34251866],\n",
        "              [0.22509325, 0.6301328 ]], dtype=np.float32)\n",
        "\n",
        "\n",
        "model=get_model(3,2,2)\n",
        "model.set_weights(w)\n",
        "\n"
      ]
    },
    {
      "cell_type": "code",
      "execution_count": null,
      "metadata": {
        "colab": {
          "base_uri": "https://localhost:8080/"
        },
        "id": "dQtD8Srv4Dhk",
        "outputId": "85cf615e-1e1f-4ce3-f1c2-d0b29826ba03"
      },
      "outputs": [
        {
          "output_type": "stream",
          "name": "stdout",
          "text": [
            "1/1 [==============================] - 0s 38ms/step\n"
          ]
        },
        {
          "output_type": "execute_result",
          "data": {
            "text/plain": [
              "array([[0.91274303, 0.69886017, 0.8832942 ],\n",
              "       [0.9311633 , 0.7634138 , 0.8924969 ],\n",
              "       [0.85661894, 0.5696809 , 0.8091405 ],\n",
              "       [0.8952345 , 0.6803274 , 0.8326857 ]], dtype=float32)"
            ]
          },
          "metadata": {},
          "execution_count": 421
        }
      ],
      "source": [
        "output_at_layer(X, model, \"layer_A\")"
      ]
    },
    {
      "cell_type": "code",
      "execution_count": null,
      "metadata": {
        "colab": {
          "base_uri": "https://localhost:8080/"
        },
        "id": "vjnFqjXl4Dhl",
        "outputId": "904a31b6-09fa-4029-d52c-36a3c218c0d2"
      },
      "outputs": [
        {
          "output_type": "execute_result",
          "data": {
            "text/plain": [
              "array([[0.912743  , 0.69886017, 0.88329417],\n",
              "       [0.9311634 , 0.7634138 , 0.89249694],\n",
              "       [0.8566189 , 0.5696809 , 0.8091404 ],\n",
              "       [0.89523464, 0.6803274 , 0.8326857 ]], dtype=float32)"
            ]
          },
          "metadata": {},
          "execution_count": 422
        }
      ],
      "source": [
        "# which corresponds to a tanh activation from the input data\n",
        "np.tanh(X.dot(w[0])+w[1])"
      ]
    },
    {
      "cell_type": "code",
      "execution_count": null,
      "metadata": {
        "colab": {
          "base_uri": "https://localhost:8080/"
        },
        "id": "zkMbqzKH4Dhl",
        "outputId": "c6ca33c3-8ac1-47cc-8e79-1d899afb18f9"
      },
      "outputs": [
        {
          "output_type": "stream",
          "name": "stdout",
          "text": [
            "1/1 [==============================] - 0s 47ms/step\n"
          ]
        },
        {
          "output_type": "execute_result",
          "data": {
            "text/plain": [
              "array([[0.87063193, 0.8240411 ],\n",
              "       [0.8774253 , 0.83376545],\n",
              "       [0.84875023, 0.7963982 ],\n",
              "       [0.8628655 , 0.81590414]], dtype=float32)"
            ]
          },
          "metadata": {},
          "execution_count": 423
        }
      ],
      "source": [
        "output_at_layer(X, model, \"layer_B\")"
      ]
    },
    {
      "cell_type": "code",
      "execution_count": null,
      "metadata": {
        "colab": {
          "base_uri": "https://localhost:8080/"
        },
        "id": "Y-Ui6rJR4Dhm",
        "outputId": "cd3b7c1e-83a4-4a4b-e40f-b62b818aa034"
      },
      "outputs": [
        {
          "output_type": "stream",
          "name": "stdout",
          "text": [
            "1/1 [==============================] - 0s 38ms/step\n"
          ]
        },
        {
          "output_type": "execute_result",
          "data": {
            "text/plain": [
              "array([[0.870632  , 0.8240412 ],\n",
              "       [0.8774254 , 0.8337655 ],\n",
              "       [0.8487503 , 0.7963983 ],\n",
              "       [0.86286545, 0.81590414]], dtype=float32)"
            ]
          },
          "metadata": {},
          "execution_count": 424
        }
      ],
      "source": [
        "# which corresponds to a sigmoid activation from the output of layer A\n",
        "sigm = lambda x: 1/(1+np.exp(-x))\n",
        "sigm(output_at_layer(X, model, \"layer_A\").dot(w[2])+w[3])\n"
      ]
    },
    {
      "cell_type": "code",
      "execution_count": null,
      "metadata": {
        "colab": {
          "base_uri": "https://localhost:8080/"
        },
        "id": "tc_WrFWa4Dhm",
        "outputId": "ae75338c-fe1b-448b-ecad-0371179fc273"
      },
      "outputs": [
        {
          "output_type": "stream",
          "name": "stdout",
          "text": [
            "1/1 [==============================] - 0s 53ms/step\n"
          ]
        },
        {
          "output_type": "execute_result",
          "data": {
            "text/plain": [
              "array([[0.8959839 , 0.6598024 ],\n",
              "       [0.90325445, 0.66435313],\n",
              "       [0.8733646 , 0.646801  ],\n",
              "       [0.8883195 , 0.6559416 ]], dtype=float32)"
            ]
          },
          "metadata": {},
          "execution_count": 425
        }
      ],
      "source": [
        "output_at_layer(X, model, \"layer_C\")"
      ]
    },
    {
      "cell_type": "code",
      "execution_count": null,
      "metadata": {
        "colab": {
          "base_uri": "https://localhost:8080/"
        },
        "id": "f15g_C-_4Dhn",
        "outputId": "b76822b3-9e87-4978-ecd9-9002762db008"
      },
      "outputs": [
        {
          "output_type": "stream",
          "name": "stdout",
          "text": [
            "1/1 [==============================] - 0s 40ms/step\n"
          ]
        },
        {
          "output_type": "execute_result",
          "data": {
            "text/plain": [
              "array([[0.8959839 , 0.65980244],\n",
              "       [0.90325445, 0.66435313],\n",
              "       [0.8733646 , 0.646801  ],\n",
              "       [0.8883195 , 0.6559416 ]], dtype=float32)"
            ]
          },
          "metadata": {},
          "execution_count": 426
        }
      ],
      "source": [
        "# which corresponds to a linear activation from the output of layer B\n",
        "output_at_layer(X, model, \"layer_B\").dot(w[-2])+w[-1]"
      ]
    },
    {
      "cell_type": "markdown",
      "metadata": {
        "id": "nMAL4wff4Dhn"
      },
      "source": [
        "**Registra tu solución en linea**"
      ]
    },
    {
      "cell_type": "code",
      "execution_count": null,
      "metadata": {
        "scrolled": false,
        "colab": {
          "base_uri": "https://localhost:8080/",
          "height": 128
        },
        "id": "t-LIv2o94Dhz",
        "outputId": "e6c0c6a8-6c08-4ee2-8167-8ddfaf6e3079"
      },
      "outputs": [
        {
          "output_type": "display_data",
          "data": {
            "text/plain": [
              "<IPython.core.display.HTML object>"
            ],
            "text/html": [
              "\n",
              "                    <b>T1 submitted.</b> <b><font color=\"blue\">your grade is 5</font></b> \n",
              "                    <p/><pre>----- grader message -------</pre>testing your code with 100 random calls<br/><b>correct</b><pre>----------------------------</pre>\n",
              "                    <p/><p/>\n",
              "                    <div style=\"font-size:10px\"><b>SUBMISSION CODE</b> 15StGieP8vuCZ4hUPPAIjvlcsLKuUnoWCxvxNtQLU5Zevx2AmBO+dn6AWGku8TIJ8XtB0+CWKK6Icsxt2PXy5B0pE52jS1NKCR6vx8yxUs7MvfxFyb1hNvcFbLGSPDHtYTPi4Rq/b+qvjIgOvuS76BZwLVuEYo1O06F9/vjS6+s=</div>\n",
              "                    "
            ]
          },
          "metadata": {}
        }
      ],
      "source": [
        "student.submit_task(namespace=globals(), task_id='T1');"
      ]
    },
    {
      "cell_type": "markdown",
      "metadata": {
        "id": "eLcB0F_Z4Dhz"
      },
      "source": [
        "## TASK 2: Implement batch normalization\n",
        "\n",
        "Observe how we create a **ONE LAYER** model with **TANH** activation and batch normalization"
      ]
    },
    {
      "cell_type": "code",
      "execution_count": null,
      "metadata": {
        "id": "kLJcQFmq4Dh0"
      },
      "outputs": [],
      "source": [
        "def get_model(input_dim, n):\n",
        "    model = Sequential()\n",
        "    model.add(Dense(n, name=\"layer_A\", activation=\"tanh\", input_dim=input_dim))\n",
        "    model.add(BatchNormalization())\n",
        "    return model    "
      ]
    },
    {
      "cell_type": "markdown",
      "metadata": {
        "id": "jqLJG2sq4Dh0"
      },
      "source": [
        "we manually initialize it with random weights and apply it to some random input"
      ]
    },
    {
      "cell_type": "code",
      "execution_count": null,
      "metadata": {
        "colab": {
          "base_uri": "https://localhost:8080/"
        },
        "id": "dk6yAKGr4Dh1",
        "outputId": "b3a0cd6b-1972-4cb2-f50f-84b658ebea69"
      },
      "outputs": [
        {
          "output_type": "stream",
          "name": "stdout",
          "text": [
            "input_dim 2 , n 8\n"
          ]
        }
      ],
      "source": [
        "input_dim = np.random.randint(3)+2\n",
        "n = np.random.randint(5)+5\n",
        "X = np.random.random((6,input_dim)).astype(np.float32)\n",
        "print (\"input_dim\", input_dim, \", n\", n)"
      ]
    },
    {
      "cell_type": "code",
      "execution_count": null,
      "metadata": {
        "colab": {
          "base_uri": "https://localhost:8080/"
        },
        "id": "6vFDvoTh4Dh2",
        "outputId": "13ce796e-4ba8-43b2-dd4e-2899a935887b"
      },
      "outputs": [
        {
          "output_type": "execute_result",
          "data": {
            "text/plain": [
              "array([[0.6939751 , 0.8619683 , 0.91443986, 0.54134387, 1.3640531 ,\n",
              "        0.8906609 , 1.0529704 , 0.68417317],\n",
              "       [0.5661464 , 0.83603513, 0.8848833 , 0.53011   , 0.8864138 ,\n",
              "        0.8350307 , 0.92424566, 0.39250642],\n",
              "       [0.7950077 , 0.8933056 , 0.90510553, 0.5416404 , 1.2681649 ,\n",
              "        0.91957307, 1.0795405 , 0.7232526 ],\n",
              "       [0.53258026, 0.82732147, 0.8803368 , 0.5274553 , 0.793789  ,\n",
              "        0.82118046, 0.8937802 , 0.32214946],\n",
              "       [0.5914066 , 0.8410533 , 0.89109105, 0.5328667 , 1.0017195 ,\n",
              "        0.8465558 , 0.95340264, 0.46162957],\n",
              "       [0.7313106 , 0.8710352 , 0.91948855, 0.5430165 , 1.4276702 ,\n",
              "        0.9043704 , 1.0766197 , 0.73163414]], dtype=float32)"
            ]
          },
          "metadata": {},
          "execution_count": 270
        }
      ],
      "source": [
        "model = get_model(input_dim=input_dim, n=n)\n",
        "model.set_weights([np.random.random(i.shape) for i in model.get_weights()])\n",
        "model(X).numpy()"
      ]
    },
    {
      "cell_type": "markdown",
      "metadata": {
        "id": "koQC6UNm4Dh2"
      },
      "source": [
        "and we can extract the weights of the dense layer and the batch normalization layer"
      ]
    },
    {
      "cell_type": "code",
      "execution_count": null,
      "metadata": {
        "colab": {
          "base_uri": "https://localhost:8080/"
        },
        "id": "y3mN-kmS4Dh3",
        "outputId": "a9e6fff0-32ef-4ae4-b386-10e8249f786f"
      },
      "outputs": [
        {
          "output_type": "execute_result",
          "data": {
            "text/plain": [
              "((2, 8), (8,), (8,), (8,), (8,))"
            ]
          },
          "metadata": {},
          "execution_count": 271
        }
      ],
      "source": [
        "\n",
        "W, b, gamma, beta, moving_mean, moving_var = model.get_weights()\n",
        "W.shape, b.shape, beta.shape, moving_mean.shape, moving_var.shape\n"
      ]
    },
    {
      "cell_type": "markdown",
      "metadata": {
        "id": "4x7H-kju4Dh4"
      },
      "source": [
        "**COMPLETE** the following function **WITHOUT USING TENSORFLOW** such that you get the same output as the model above, given the input and the weights.\n",
        "\n",
        "In specific, the Dense layer output must be\n",
        "\n",
        "$$A = \\text{tanh}(XW+b)$$\n",
        "\n",
        "And the batch normalization layer after that output is\n",
        "\n",
        "$$\\frac{A-m_\\mu}{\\sqrt{m_\\sigma+\\varepsilon}}\\gamma + \\beta$$\n",
        "\n",
        "You **MUST RETURN** a `numpy` array, **NOT** a tensor.\n",
        "\n",
        "**CHALLENGE**: Solve it with one single line of Python code."
      ]
    },
    {
      "cell_type": "code",
      "execution_count": null,
      "metadata": {
        "id": "ttT_Kv-44Dh4"
      },
      "outputs": [],
      "source": [
        "def apply_model(X, W, b, gamma, beta, moving_mean, moving_var, epsilon=1e-3):\n",
        "    r = (gamma*((np.tanh(X.dot(W)+b))-moving_mean)/(np.sqrt(moving_var+epsilon)))+beta\n",
        "    return r"
      ]
    },
    {
      "cell_type": "markdown",
      "metadata": {
        "id": "G_4AB1fJ4Dh4"
      },
      "source": [
        "check manually your code, the output should be the same as above."
      ]
    },
    {
      "cell_type": "code",
      "execution_count": null,
      "metadata": {
        "colab": {
          "base_uri": "https://localhost:8080/"
        },
        "id": "4Jw_JIA94Dh4",
        "outputId": "338d35bc-b234-41be-912a-3dc320bdb351"
      },
      "outputs": [
        {
          "output_type": "execute_result",
          "data": {
            "text/plain": [
              "array([[0.6939751 , 0.8619683 , 0.9144399 , 0.54134387, 1.3640529 ,\n",
              "        0.89066094, 1.0529704 , 0.6841731 ],\n",
              "       [0.56614614, 0.83603513, 0.8848832 , 0.53011   , 0.8864137 ,\n",
              "        0.8350307 , 0.92424566, 0.39250645],\n",
              "       [0.79500765, 0.8933056 , 0.90510553, 0.5416404 , 1.2681648 ,\n",
              "        0.91957307, 1.0795405 , 0.7232524 ],\n",
              "       [0.53258026, 0.8273214 , 0.8803368 , 0.5274553 , 0.79378897,\n",
              "        0.8211805 , 0.8937801 , 0.3221494 ],\n",
              "       [0.59140646, 0.8410533 , 0.891091  , 0.5328667 , 1.0017194 ,\n",
              "        0.8465558 , 0.9534025 , 0.46162948],\n",
              "       [0.7313104 , 0.8710352 , 0.91948855, 0.5430165 , 1.4276702 ,\n",
              "        0.9043705 , 1.0766196 , 0.7316341 ]], dtype=float32)"
            ]
          },
          "metadata": {},
          "execution_count": 273
        }
      ],
      "source": [
        "apply_model(X, W, b, gamma, beta, moving_mean, moving_var)"
      ]
    },
    {
      "cell_type": "markdown",
      "metadata": {
        "id": "kxXZfIsz4Dh5"
      },
      "source": [
        "**Registra tu solución en linea**"
      ]
    },
    {
      "cell_type": "code",
      "execution_count": null,
      "metadata": {
        "scrolled": false,
        "colab": {
          "base_uri": "https://localhost:8080/"
        },
        "id": "y1-4bFmR4Dh5",
        "outputId": "de1f3ef4-d9d9-4136-c993-891b509dd16f"
      },
      "outputs": [
        {
          "output_type": "stream",
          "name": "stderr",
          "text": [
            "error: ERROR EXECUTING YOUR CODE\n",
            "---------------------------------\n",
            "2022-10-15 21:12:25.514237: E tensorflow/stream_executor/cuda/cuda_driver.cc:271] failed call to cuInit: CUDA_ERROR_NO_DEVICE: no CUDA-capable device is detected\n",
            "Traceback (most recent call last):\n",
            "  File \"calling_script.py\", line 24, in <module>\n",
            "    r = eval(\"nuxnqakh.{}(source_functions, source_variables, 'sebastian.restrepo9@udea.edu.co')\".format(grader_function_name), namespace)\n",
            "  File \"<string>\", line 1, in <module>\n",
            "  File \"/content/nuxnqakh.py\", line 47, in grader_02\n",
            "    t_output = model.apply(X).numpy()        \n",
            "AttributeError: 'Sequential' object has no attribute 'apply'\n",
            " (set session.debug=True for tracebacks)"
          ]
        }
      ],
      "source": [
        "student.submit_task(namespace=globals(), task_id='T2');"
      ]
    },
    {
      "cell_type": "markdown",
      "metadata": {
        "id": "2dGsNIlY4Dh6"
      },
      "source": [
        "## TASK 3: Compute the Hessian\n",
        "\n",
        "Complete the function below so that computes the Hessian of a function with respect to a set of variables. Remember that the Hessian is the matrix with all combinations of double partial derivatives. See [https://en.wikipedia.org/wiki/Hessian_matrix](https://en.wikipedia.org/wiki/Hessian_matrix)\n",
        "\n",
        "\n",
        "The arguments for your code below:\n",
        "\n",
        "- `expression_fn`: is a Python function that, when executed, will return a Tensor depending on the variables in `svars`.\n",
        "- `svars`: a list of $n$ `tf.Variable`s against which  the derivatives are to be taken.\n",
        "\n",
        "The result:\n",
        "\n",
        "- a `numpy` array of dimension $n\\times n$, containing in each position the value of the corresponding double derivative evaluated with the value attached to each variable in `svars`.\n",
        "\n",
        "See the example call below to understand what you have to produce.\n",
        "\n",
        "**NOTE**: Observe that `expression_fn` is a function that you **must call** inside some `GradientTape` to obtain the expresion. This needs to be done this way because `GradientTape` needs to _watch_ how expressions are built to be able to access the computational graph and compute the gradient. This is a technique which is very often used in Tensorflow.\n",
        "\n",
        "\n",
        "\n",
        "**WARN**: You cannot use `tf.hessian` or `GradientTape.jacobian` or `sympy`. Do not use the name `hessian` to name any variable within your code.\n",
        "\n",
        "**HINT 1**: use a `GradientTape` inside another `GradientTape`.\n",
        "\n",
        "**HINT 2**: use `unconnected_gradients=tf.UnconnectedGradients.ZERO` as argument to `GradientTape.gradient` to have the variables not participating in an expresion result in gradient zero. For instance with $f=xy$, we have $\\frac{\\partial f}{\\partial y\\partial y}=0$, since $\\frac{\\partial f}{\\partial y}=1$. Or if we have $f=x$ we have $\\frac{\\partial f}{\\partial y\\partial x}=0$, since $\\frac{\\partial f}{\\partial y}=0$. If you do not include this argument, Tensorflow will return these values as `None` and you would have to fix them later."
      ]
    },
    {
      "cell_type": "code",
      "execution_count": null,
      "metadata": {
        "id": "HGj4Q10H4Dh6"
      },
      "outputs": [],
      "source": [
        "def get_double_derivatives(expression_fn,svars):\n",
        "    import tensorflow as tf\n",
        "\n",
        "    result = []\n",
        "    \n",
        "  \n",
        "    for i in svars:\n",
        "      columns = []\n",
        "      for j in svars:\n",
        "    \n",
        "        with tf.GradientTape() as g:\n",
        "            g.watch(i)\n",
        "            g.watch(j)\n",
        "    \n",
        "            with tf.GradientTape() as gg:\n",
        "              g.watch(i)\n",
        "              g.watch(j)\n",
        "\n",
        "              expr = expression_fn()\n",
        "\n",
        "            derivate1 = gg.gradient(expr, i, unconnected_gradients=tf.UnconnectedGradients.ZERO)\n",
        "        derivate2 = g.gradient(derivate1, j,  unconnected_gradients=tf.UnconnectedGradients.ZERO)\n",
        "        \n",
        "        columns.append(derivate2.numpy())\n",
        "      result.append(columns) \n",
        "\n",
        "    result = np.array(result)\n",
        "    \n",
        "    return result\n",
        "    "
      ]
    },
    {
      "cell_type": "code",
      "execution_count": null,
      "metadata": {
        "id": "sKnkvypG4Dh7",
        "colab": {
          "base_uri": "https://localhost:8080/"
        },
        "outputId": "d265b82b-f605-4728-a371-10be045933ac"
      },
      "outputs": [
        {
          "output_type": "stream",
          "name": "stdout",
          "text": [
            "<class 'numpy.ndarray'>\n"
          ]
        },
        {
          "output_type": "execute_result",
          "data": {
            "text/plain": [
              "array([[72.00751  , 74.23906  ,  4.1598644],\n",
              "       [74.23905  , 33.314972 ,  0.       ],\n",
              "       [ 4.1598644,  0.       ,  7.139834 ]], dtype=float32)"
            ]
          },
          "metadata": {},
          "execution_count": 263
        }
      ],
      "source": [
        "x = tf.Variable(-1.0608553, dtype=tf.float32)\n",
        "y = tf.Variable(-1.5622399, dtype=tf.float32)\n",
        "z = tf.Variable(-1.8277323, dtype=tf.float32)\n",
        "expr = lambda: 3*x**3*y**3+tf.tanh(y)*tf.sin(x)+x*tf.cos(z)*z**2\n",
        "\n",
        "get_double_derivatives(expr, [x,y,z])"
      ]
    },
    {
      "cell_type": "markdown",
      "metadata": {
        "id": "PRSVLC8q4Dh7"
      },
      "source": [
        "check your code. The following expression\n",
        "\n",
        "$$f = 2xy^2 + 3x\\cos{y}$$\n",
        "\n",
        "has as first derivatives:\n",
        "\n",
        "- $\\frac{\\partial f }{\\partial x} = 2y^2 +3\\cos{y}$\n",
        "- $\\frac{\\partial f }{\\partial y} = 4xy - 3x\\sin{y}$\n",
        "\n",
        "and as second derivatives:\n",
        "\n",
        "- $\\frac{\\partial f }{\\partial x \\partial x} = 0$\n",
        "- $\\frac{\\partial f }{\\partial x \\partial y} = 4y - 3\\sin{y}$\n",
        "- $\\frac{\\partial f }{\\partial y \\partial x} = 4y - 3\\sin{y}$\n",
        "- $\\frac{\\partial f }{\\partial y \\partial y} = 4x - 3x\\cos{y}$\n",
        "\n",
        "which, when evaluated at $x=2$ and $y=-3$ yields\n",
        "\n",
        "    [[  0     ,  -11.58],\n",
        "     [ -11.58 ,   13.94]]"
      ]
    },
    {
      "cell_type": "code",
      "execution_count": null,
      "metadata": {
        "id": "8WyinXTn4Dh8",
        "colab": {
          "base_uri": "https://localhost:8080/"
        },
        "outputId": "960729ae-80c4-4c0f-ec9f-0496d48906a5"
      },
      "outputs": [
        {
          "output_type": "stream",
          "name": "stdout",
          "text": [
            "[0.0, -11.57664, -11.57664, 13.939955]\n"
          ]
        }
      ],
      "source": [
        "svars = [x,y]\n",
        "\n",
        "resultado = []\n",
        "\n",
        "for i in svars:\n",
        "  for j in svars:\n",
        "    #print(i,j)\n",
        "\n",
        "    with tf.GradientTape() as g:\n",
        "        g.watch(i)\n",
        "        g.watch(j)\n",
        "    \n",
        "        with tf.GradientTape() as gg:\n",
        "          g.watch(i)\n",
        "          g.watch(j)\n",
        "          expr = 2*x*y**2 + 3*x*tf.cos(y)\n",
        "          \n",
        "        derivate1 = gg.gradient(expr, i, unconnected_gradients=tf.UnconnectedGradients.ZERO)\n",
        "    derivate2 = g.gradient(derivate1, j,  unconnected_gradients=tf.UnconnectedGradients.ZERO)\n",
        "    resultado.append(derivate2.numpy())\n",
        "print(resultado)"
      ]
    },
    {
      "cell_type": "markdown",
      "metadata": {
        "id": "IcsmqQ0G4Dh8"
      },
      "source": [
        "**Registra tu solución en linea**"
      ]
    },
    {
      "cell_type": "code",
      "execution_count": null,
      "metadata": {
        "scrolled": false,
        "id": "UUGpWhMa4Dh8",
        "colab": {
          "base_uri": "https://localhost:8080/",
          "height": 128
        },
        "outputId": "08d84627-dd1c-4b74-9bd7-a7a73d289e59"
      },
      "outputs": [
        {
          "output_type": "display_data",
          "data": {
            "text/plain": [
              "<IPython.core.display.HTML object>"
            ],
            "text/html": [
              "\n",
              "                    <b>T3 submitted.</b> <b><font color=\"blue\">your grade is 5</font></b> \n",
              "                    <p/><pre>----- grader message -------</pre>testing your code with 100 random calls<br/><b>correct</b><pre>----------------------------</pre>\n",
              "                    <p/><p/>\n",
              "                    <div style=\"font-size:10px\"><b>SUBMISSION CODE</b> Pi1Lgw5tDz3mqxPYWi6meYedpxVHHTe79fCwR7NuI5hVrR+hKr/UnB9XaRqi9XmlvA+281+6m3B9KJIz8Fa3qXPtDof9ml7NbMppoG4GskMz7DRkRmRc77bTroYP6+BpQJfhqF1MBlZ6kzdaUJm7KnsVwFa+sW/OOvdh5MkS8Qc=</div>\n",
              "                    "
            ]
          },
          "metadata": {}
        }
      ],
      "source": [
        "student.submit_task(namespace=globals(), task_id='T3');"
      ]
    },
    {
      "cell_type": "code",
      "execution_count": null,
      "metadata": {
        "id": "ecFqmk-e4Dh8"
      },
      "outputs": [],
      "source": []
    },
    {
      "cell_type": "code",
      "execution_count": null,
      "metadata": {
        "id": "tkhAFnq54Dh8"
      },
      "outputs": [],
      "source": []
    }
  ],
  "metadata": {
    "kernelspec": {
      "display_name": "p38",
      "language": "python",
      "name": "p38"
    },
    "language_info": {
      "codemirror_mode": {
        "name": "ipython",
        "version": 3
      },
      "file_extension": ".py",
      "mimetype": "text/x-python",
      "name": "python",
      "nbconvert_exporter": "python",
      "pygments_lexer": "ipython3",
      "version": "3.8.5"
    },
    "colab": {
      "provenance": []
    },
    "widgets": {
      "application/vnd.jupyter.widget-state+json": {
        "420c4ca491004268a916545862b25ea2": {
          "model_module": "@jupyter-widgets/controls",
          "model_name": "HBoxModel",
          "model_module_version": "1.5.0",
          "state": {
            "_dom_classes": [],
            "_model_module": "@jupyter-widgets/controls",
            "_model_module_version": "1.5.0",
            "_model_name": "HBoxModel",
            "_view_count": null,
            "_view_module": "@jupyter-widgets/controls",
            "_view_module_version": "1.5.0",
            "_view_name": "HBoxView",
            "box_style": "",
            "children": [
              "IPY_MODEL_0a97e43cc5d44a09a8e14a0c0303c0e5",
              "IPY_MODEL_796bc586d5b142238fbf53cea85fd305",
              "IPY_MODEL_cee6f343e2fb4203b406ee85fb429c74",
              "IPY_MODEL_57fd441e921a43c59ba8799dc9c5c576"
            ],
            "layout": "IPY_MODEL_5b26e6dc629b4629849b84bc56ac1f18"
          }
        },
        "0a97e43cc5d44a09a8e14a0c0303c0e5": {
          "model_module": "@jupyter-widgets/controls",
          "model_name": "VBoxModel",
          "model_module_version": "1.5.0",
          "state": {
            "_dom_classes": [],
            "_model_module": "@jupyter-widgets/controls",
            "_model_module_version": "1.5.0",
            "_model_name": "VBoxModel",
            "_view_count": null,
            "_view_module": "@jupyter-widgets/controls",
            "_view_module_version": "1.5.0",
            "_view_name": "VBoxView",
            "box_style": "",
            "children": [
              "IPY_MODEL_7cb67f5cbae446228eb98224f7e5ef67",
              "IPY_MODEL_3f28def2fc874d4abd87489fc5ca29e9"
            ],
            "layout": "IPY_MODEL_c40bd925585b4c2382f956f8765d2ffe"
          }
        },
        "796bc586d5b142238fbf53cea85fd305": {
          "model_module": "@jupyter-widgets/controls",
          "model_name": "ButtonModel",
          "model_module_version": "1.5.0",
          "state": {
            "_dom_classes": [
              "login_button"
            ],
            "_model_module": "@jupyter-widgets/controls",
            "_model_module_version": "1.5.0",
            "_model_name": "ButtonModel",
            "_view_count": null,
            "_view_module": "@jupyter-widgets/controls",
            "_view_module_version": "1.5.0",
            "_view_name": "ButtonView",
            "button_style": "",
            "description": "Login with email",
            "disabled": false,
            "icon": "",
            "layout": "IPY_MODEL_beeec0786cb94a378aa8c6dbe7f6c413",
            "style": "IPY_MODEL_99347367e2524cd08d75fc7c2162f4a2",
            "tooltip": ""
          }
        },
        "cee6f343e2fb4203b406ee85fb429c74": {
          "model_module": "@jupyter-widgets/controls",
          "model_name": "HTMLModel",
          "model_module_version": "1.5.0",
          "state": {
            "_dom_classes": [],
            "_model_module": "@jupyter-widgets/controls",
            "_model_module_version": "1.5.0",
            "_model_name": "HTMLModel",
            "_view_count": null,
            "_view_module": "@jupyter-widgets/controls",
            "_view_module_version": "1.5.0",
            "_view_name": "HTMLView",
            "description": "",
            "description_tooltip": null,
            "layout": "IPY_MODEL_28d230482a8a4297b9f5b78fc003fd91",
            "placeholder": "​",
            "style": "IPY_MODEL_2ba72d1825d74c24aa356469defb2f78",
            "value": "<center><big>or</big></center>"
          }
        },
        "57fd441e921a43c59ba8799dc9c5c576": {
          "model_module": "@jupyter-widgets/controls",
          "model_name": "ButtonModel",
          "model_module_version": "1.5.0",
          "state": {
            "_dom_classes": [
              "google_button"
            ],
            "_model_module": "@jupyter-widgets/controls",
            "_model_module_version": "1.5.0",
            "_model_name": "ButtonModel",
            "_view_count": null,
            "_view_module": "@jupyter-widgets/controls",
            "_view_module_version": "1.5.0",
            "_view_name": "ButtonView",
            "button_style": "",
            "description": "Login with Google",
            "disabled": false,
            "icon": "",
            "layout": "IPY_MODEL_7d5d7d57e68a4ae7b477f78db3b81076",
            "style": "IPY_MODEL_357e7a09b06a4e199a9b488181069193",
            "tooltip": ""
          }
        },
        "5b26e6dc629b4629849b84bc56ac1f18": {
          "model_module": "@jupyter-widgets/base",
          "model_name": "LayoutModel",
          "model_module_version": "1.2.0",
          "state": {
            "_model_module": "@jupyter-widgets/base",
            "_model_module_version": "1.2.0",
            "_model_name": "LayoutModel",
            "_view_count": null,
            "_view_module": "@jupyter-widgets/base",
            "_view_module_version": "1.2.0",
            "_view_name": "LayoutView",
            "align_content": null,
            "align_items": null,
            "align_self": null,
            "border": null,
            "bottom": null,
            "display": null,
            "flex": null,
            "flex_flow": null,
            "grid_area": null,
            "grid_auto_columns": null,
            "grid_auto_flow": null,
            "grid_auto_rows": null,
            "grid_column": null,
            "grid_gap": null,
            "grid_row": null,
            "grid_template_areas": null,
            "grid_template_columns": null,
            "grid_template_rows": null,
            "height": null,
            "justify_content": null,
            "justify_items": null,
            "left": null,
            "margin": null,
            "max_height": null,
            "max_width": null,
            "min_height": null,
            "min_width": null,
            "object_fit": null,
            "object_position": null,
            "order": null,
            "overflow": null,
            "overflow_x": null,
            "overflow_y": null,
            "padding": null,
            "right": null,
            "top": null,
            "visibility": null,
            "width": null
          }
        },
        "7cb67f5cbae446228eb98224f7e5ef67": {
          "model_module": "@jupyter-widgets/controls",
          "model_name": "TextModel",
          "model_module_version": "1.5.0",
          "state": {
            "_dom_classes": [],
            "_model_module": "@jupyter-widgets/controls",
            "_model_module_version": "1.5.0",
            "_model_name": "TextModel",
            "_view_count": null,
            "_view_module": "@jupyter-widgets/controls",
            "_view_module_version": "1.5.0",
            "_view_name": "TextView",
            "continuous_update": true,
            "description": "email",
            "description_tooltip": null,
            "disabled": false,
            "layout": "IPY_MODEL_1fe888f425c5417c988f9cd0e598b909",
            "placeholder": "​",
            "style": "IPY_MODEL_90dbc76821bc40f58b2218d348fd0bc6",
            "value": ""
          }
        },
        "3f28def2fc874d4abd87489fc5ca29e9": {
          "model_module": "@jupyter-widgets/controls",
          "model_name": "PasswordModel",
          "model_module_version": "1.5.0",
          "state": {
            "_dom_classes": [],
            "_model_module": "@jupyter-widgets/controls",
            "_model_module_version": "1.5.0",
            "_model_name": "PasswordModel",
            "_view_count": null,
            "_view_module": "@jupyter-widgets/controls",
            "_view_module_version": "1.5.0",
            "_view_name": "PasswordView",
            "continuous_update": true,
            "description": "password",
            "description_tooltip": null,
            "disabled": false,
            "layout": "IPY_MODEL_6d68d87d7fff4974b42f76ccd713520a",
            "placeholder": "​",
            "style": "IPY_MODEL_2c9e3f2ba16840a6a8c4a7f42bde7d77",
            "value": ""
          }
        },
        "c40bd925585b4c2382f956f8765d2ffe": {
          "model_module": "@jupyter-widgets/base",
          "model_name": "LayoutModel",
          "model_module_version": "1.2.0",
          "state": {
            "_model_module": "@jupyter-widgets/base",
            "_model_module_version": "1.2.0",
            "_model_name": "LayoutModel",
            "_view_count": null,
            "_view_module": "@jupyter-widgets/base",
            "_view_module_version": "1.2.0",
            "_view_name": "LayoutView",
            "align_content": null,
            "align_items": null,
            "align_self": null,
            "border": null,
            "bottom": null,
            "display": null,
            "flex": null,
            "flex_flow": null,
            "grid_area": null,
            "grid_auto_columns": null,
            "grid_auto_flow": null,
            "grid_auto_rows": null,
            "grid_column": null,
            "grid_gap": null,
            "grid_row": null,
            "grid_template_areas": null,
            "grid_template_columns": null,
            "grid_template_rows": null,
            "height": null,
            "justify_content": null,
            "justify_items": null,
            "left": null,
            "margin": null,
            "max_height": null,
            "max_width": null,
            "min_height": null,
            "min_width": null,
            "object_fit": null,
            "object_position": null,
            "order": null,
            "overflow": null,
            "overflow_x": null,
            "overflow_y": null,
            "padding": null,
            "right": null,
            "top": null,
            "visibility": null,
            "width": null
          }
        },
        "beeec0786cb94a378aa8c6dbe7f6c413": {
          "model_module": "@jupyter-widgets/base",
          "model_name": "LayoutModel",
          "model_module_version": "1.2.0",
          "state": {
            "_model_module": "@jupyter-widgets/base",
            "_model_module_version": "1.2.0",
            "_model_name": "LayoutModel",
            "_view_count": null,
            "_view_module": "@jupyter-widgets/base",
            "_view_module_version": "1.2.0",
            "_view_name": "LayoutView",
            "align_content": null,
            "align_items": null,
            "align_self": null,
            "border": null,
            "bottom": null,
            "display": null,
            "flex": null,
            "flex_flow": null,
            "grid_area": null,
            "grid_auto_columns": null,
            "grid_auto_flow": null,
            "grid_auto_rows": null,
            "grid_column": null,
            "grid_gap": null,
            "grid_row": null,
            "grid_template_areas": null,
            "grid_template_columns": null,
            "grid_template_rows": null,
            "height": "53px",
            "justify_content": null,
            "justify_items": null,
            "left": null,
            "margin": null,
            "max_height": null,
            "max_width": null,
            "min_height": null,
            "min_width": null,
            "object_fit": null,
            "object_position": null,
            "order": null,
            "overflow": null,
            "overflow_x": null,
            "overflow_y": null,
            "padding": null,
            "right": null,
            "top": null,
            "visibility": null,
            "width": "150px"
          }
        },
        "99347367e2524cd08d75fc7c2162f4a2": {
          "model_module": "@jupyter-widgets/controls",
          "model_name": "ButtonStyleModel",
          "model_module_version": "1.5.0",
          "state": {
            "_model_module": "@jupyter-widgets/controls",
            "_model_module_version": "1.5.0",
            "_model_name": "ButtonStyleModel",
            "_view_count": null,
            "_view_module": "@jupyter-widgets/base",
            "_view_module_version": "1.2.0",
            "_view_name": "StyleView",
            "button_color": null,
            "font_weight": ""
          }
        },
        "28d230482a8a4297b9f5b78fc003fd91": {
          "model_module": "@jupyter-widgets/base",
          "model_name": "LayoutModel",
          "model_module_version": "1.2.0",
          "state": {
            "_model_module": "@jupyter-widgets/base",
            "_model_module_version": "1.2.0",
            "_model_name": "LayoutModel",
            "_view_count": null,
            "_view_module": "@jupyter-widgets/base",
            "_view_module_version": "1.2.0",
            "_view_name": "LayoutView",
            "align_content": null,
            "align_items": null,
            "align_self": null,
            "border": null,
            "bottom": null,
            "display": null,
            "flex": null,
            "flex_flow": null,
            "grid_area": null,
            "grid_auto_columns": null,
            "grid_auto_flow": null,
            "grid_auto_rows": null,
            "grid_column": null,
            "grid_gap": null,
            "grid_row": null,
            "grid_template_areas": null,
            "grid_template_columns": null,
            "grid_template_rows": null,
            "height": null,
            "justify_content": null,
            "justify_items": null,
            "left": null,
            "margin": null,
            "max_height": null,
            "max_width": null,
            "min_height": null,
            "min_width": null,
            "object_fit": null,
            "object_position": null,
            "order": null,
            "overflow": null,
            "overflow_x": null,
            "overflow_y": null,
            "padding": null,
            "right": null,
            "top": null,
            "visibility": null,
            "width": "100px"
          }
        },
        "2ba72d1825d74c24aa356469defb2f78": {
          "model_module": "@jupyter-widgets/controls",
          "model_name": "DescriptionStyleModel",
          "model_module_version": "1.5.0",
          "state": {
            "_model_module": "@jupyter-widgets/controls",
            "_model_module_version": "1.5.0",
            "_model_name": "DescriptionStyleModel",
            "_view_count": null,
            "_view_module": "@jupyter-widgets/base",
            "_view_module_version": "1.2.0",
            "_view_name": "StyleView",
            "description_width": ""
          }
        },
        "7d5d7d57e68a4ae7b477f78db3b81076": {
          "model_module": "@jupyter-widgets/base",
          "model_name": "LayoutModel",
          "model_module_version": "1.2.0",
          "state": {
            "_model_module": "@jupyter-widgets/base",
            "_model_module_version": "1.2.0",
            "_model_name": "LayoutModel",
            "_view_count": null,
            "_view_module": "@jupyter-widgets/base",
            "_view_module_version": "1.2.0",
            "_view_name": "LayoutView",
            "align_content": null,
            "align_items": null,
            "align_self": null,
            "border": null,
            "bottom": null,
            "display": null,
            "flex": null,
            "flex_flow": null,
            "grid_area": null,
            "grid_auto_columns": null,
            "grid_auto_flow": null,
            "grid_auto_rows": null,
            "grid_column": null,
            "grid_gap": null,
            "grid_row": null,
            "grid_template_areas": null,
            "grid_template_columns": null,
            "grid_template_rows": null,
            "height": "53px",
            "justify_content": null,
            "justify_items": null,
            "left": null,
            "margin": null,
            "max_height": null,
            "max_width": null,
            "min_height": null,
            "min_width": null,
            "object_fit": null,
            "object_position": null,
            "order": null,
            "overflow": null,
            "overflow_x": null,
            "overflow_y": null,
            "padding": null,
            "right": null,
            "top": null,
            "visibility": null,
            "width": "200px"
          }
        },
        "357e7a09b06a4e199a9b488181069193": {
          "model_module": "@jupyter-widgets/controls",
          "model_name": "ButtonStyleModel",
          "model_module_version": "1.5.0",
          "state": {
            "_model_module": "@jupyter-widgets/controls",
            "_model_module_version": "1.5.0",
            "_model_name": "ButtonStyleModel",
            "_view_count": null,
            "_view_module": "@jupyter-widgets/base",
            "_view_module_version": "1.2.0",
            "_view_name": "StyleView",
            "button_color": null,
            "font_weight": ""
          }
        },
        "1fe888f425c5417c988f9cd0e598b909": {
          "model_module": "@jupyter-widgets/base",
          "model_name": "LayoutModel",
          "model_module_version": "1.2.0",
          "state": {
            "_model_module": "@jupyter-widgets/base",
            "_model_module_version": "1.2.0",
            "_model_name": "LayoutModel",
            "_view_count": null,
            "_view_module": "@jupyter-widgets/base",
            "_view_module_version": "1.2.0",
            "_view_name": "LayoutView",
            "align_content": null,
            "align_items": null,
            "align_self": null,
            "border": null,
            "bottom": null,
            "display": null,
            "flex": null,
            "flex_flow": null,
            "grid_area": null,
            "grid_auto_columns": null,
            "grid_auto_flow": null,
            "grid_auto_rows": null,
            "grid_column": null,
            "grid_gap": null,
            "grid_row": null,
            "grid_template_areas": null,
            "grid_template_columns": null,
            "grid_template_rows": null,
            "height": "25px",
            "justify_content": null,
            "justify_items": null,
            "left": null,
            "margin": null,
            "max_height": null,
            "max_width": null,
            "min_height": null,
            "min_width": null,
            "object_fit": null,
            "object_position": null,
            "order": null,
            "overflow": null,
            "overflow_x": null,
            "overflow_y": null,
            "padding": null,
            "right": null,
            "top": null,
            "visibility": null,
            "width": "300px"
          }
        },
        "90dbc76821bc40f58b2218d348fd0bc6": {
          "model_module": "@jupyter-widgets/controls",
          "model_name": "DescriptionStyleModel",
          "model_module_version": "1.5.0",
          "state": {
            "_model_module": "@jupyter-widgets/controls",
            "_model_module_version": "1.5.0",
            "_model_name": "DescriptionStyleModel",
            "_view_count": null,
            "_view_module": "@jupyter-widgets/base",
            "_view_module_version": "1.2.0",
            "_view_name": "StyleView",
            "description_width": ""
          }
        },
        "6d68d87d7fff4974b42f76ccd713520a": {
          "model_module": "@jupyter-widgets/base",
          "model_name": "LayoutModel",
          "model_module_version": "1.2.0",
          "state": {
            "_model_module": "@jupyter-widgets/base",
            "_model_module_version": "1.2.0",
            "_model_name": "LayoutModel",
            "_view_count": null,
            "_view_module": "@jupyter-widgets/base",
            "_view_module_version": "1.2.0",
            "_view_name": "LayoutView",
            "align_content": null,
            "align_items": null,
            "align_self": null,
            "border": null,
            "bottom": null,
            "display": null,
            "flex": null,
            "flex_flow": null,
            "grid_area": null,
            "grid_auto_columns": null,
            "grid_auto_flow": null,
            "grid_auto_rows": null,
            "grid_column": null,
            "grid_gap": null,
            "grid_row": null,
            "grid_template_areas": null,
            "grid_template_columns": null,
            "grid_template_rows": null,
            "height": "24px",
            "justify_content": null,
            "justify_items": null,
            "left": null,
            "margin": null,
            "max_height": null,
            "max_width": null,
            "min_height": null,
            "min_width": null,
            "object_fit": null,
            "object_position": null,
            "order": null,
            "overflow": null,
            "overflow_x": null,
            "overflow_y": null,
            "padding": null,
            "right": null,
            "top": null,
            "visibility": null,
            "width": "300px"
          }
        },
        "2c9e3f2ba16840a6a8c4a7f42bde7d77": {
          "model_module": "@jupyter-widgets/controls",
          "model_name": "DescriptionStyleModel",
          "model_module_version": "1.5.0",
          "state": {
            "_model_module": "@jupyter-widgets/controls",
            "_model_module_version": "1.5.0",
            "_model_name": "DescriptionStyleModel",
            "_view_count": null,
            "_view_module": "@jupyter-widgets/base",
            "_view_module_version": "1.2.0",
            "_view_name": "StyleView",
            "description_width": ""
          }
        }
      }
    }
  },
  "nbformat": 4,
  "nbformat_minor": 0
}