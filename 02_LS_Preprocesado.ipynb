{
  "nbformat": 4,
  "nbformat_minor": 0,
  "metadata": {
    "colab": {
      "provenance": []
    },
    "kernelspec": {
      "name": "python3",
      "display_name": "Python 3"
    },
    "language_info": {
      "name": "python"
    },
    "accelerator": "TPU",
    "gpuClass": "standard"
  },
  "cells": [
    {
      "cell_type": "code",
      "source": [
        "!wget -nc --no-cache -O init.py -q https://raw.githubusercontent.com/leonidasf300/dl22_2/main/content/init.py\n",
        "import init; init.init(force_download=False); "
      ],
      "metadata": {
        "colab": {
          "base_uri": "https://localhost:8080/",
          "height": 17
        },
        "id": "yUfXONx03VsX",
        "outputId": "f67189df-700f-49da-f2cf-e93de9869712"
      },
      "execution_count": 121,
      "outputs": [
        {
          "output_type": "display_data",
          "data": {
            "text/plain": [
              "<IPython.core.display.HTML object>"
            ],
            "text/html": [
              "\n",
              "<meta name=\"google-signin-client_id\"\n",
              "      content=\"461673936472-kdjosv61up3ac1ajeuq6qqu72upilmls.apps.googleusercontent.com\"/>\n",
              "<script src=\"https://apis.google.com/js/client:platform.js?onload=google_button_start\"></script>\n",
              "    "
            ]
          },
          "metadata": {}
        }
      ]
    },
    {
      "cell_type": "code",
      "execution_count": 122,
      "metadata": {
        "id": "35-d8sj7xN1E"
      },
      "outputs": [],
      "source": [
        "#instalar librerias utiles\n",
        "import pandas as pd\n",
        "import numpy as np\n",
        "import io\n",
        "import holidays\n",
        "import seaborn as sns\n",
        "import matplotlib.pyplot as plt\n",
        "from math import sqrt\n",
        "from statistics import median\n",
        "from datetime import datetime, timedelta, date\n",
        "from copy import copy\n",
        "import random\n",
        "import json\n",
        "\n",
        "from sklearn.linear_model import LinearRegression, Lasso"
      ]
    },
    {
      "cell_type": "markdown",
      "source": [
        "# **Energy forecasting**\n",
        "\n",
        "Los datos son tomados de kaggle. \n",
        "\n",
        "Fuente: [Energy forecasting](http://blog.drhongtao.com/2016/10/gefcom2017-hierarchical-probabilistic-load-forecasting.html)\n",
        "\n",
        "Tamaño en disco: 19.1 MB\n",
        "Cantidad de datos: 43824"
      ],
      "metadata": {
        "id": "QxS7ZyqAHqQe"
      }
    },
    {
      "cell_type": "code",
      "source": [
        "dem_hist0 = pd.read_excel('local/data/GEFCom2013-2017.xlsx',sheet_name='ISO NE CA') \n",
        "dem_hist0"
      ],
      "metadata": {
        "colab": {
          "base_uri": "https://localhost:8080/",
          "height": 424
        },
        "id": "WIZZvseT3SIf",
        "outputId": "652b414e-c711-47da-fccb-49844eb75a62"
      },
      "execution_count": 123,
      "outputs": [
        {
          "output_type": "execute_result",
          "data": {
            "text/plain": [
              "            Date  Hour  DA_DEMD     DEMAND  DA_LMP   DA_EC  DA_CC  DA_MLC  \\\n",
              "0     2013-01-01     1  11828.0  12598.000   79.80   79.34   0.00    0.46   \n",
              "1     2013-01-01     2  11785.0  11953.000   66.28   65.81   0.00    0.47   \n",
              "2     2013-01-01     3  11600.0  11489.000   68.89   68.47   0.00    0.42   \n",
              "3     2013-01-01     4  11252.0  11239.000   50.22   50.01   0.00    0.21   \n",
              "4     2013-01-01     5  11399.0  11253.000   51.67   51.47   0.00    0.20   \n",
              "...          ...   ...      ...        ...     ...     ...    ...     ...   \n",
              "43819 2017-12-31    20   1531.1   1696.392  212.49  217.30   0.00   -4.81   \n",
              "43820 2017-12-31    21   1459.3   1652.438  209.58  215.37  -0.37   -5.42   \n",
              "43821 2017-12-31    22   1352.6   1577.769  176.66  182.20   0.00   -5.54   \n",
              "43822 2017-12-31    23   1189.0   1523.502  161.28  166.99  -0.50   -5.21   \n",
              "43823 2017-12-31    24   1145.8   1471.648  148.64  153.74  -0.33   -4.77   \n",
              "\n",
              "       RT_LMP   RT_EC  RT_CC  RT_MLC  DryBulb  DewPnt  SYSLoad  RegCP  \\\n",
              "0       99.23   98.56   0.00    0.67       33      22  12825.0  11.00   \n",
              "1      120.08  119.20   0.00    0.88       33      22  12167.0   7.34   \n",
              "2       35.71   35.41   0.00    0.30       33      22  11697.0   6.77   \n",
              "3       32.87   32.61   0.00    0.26       34      22  11440.0   7.15   \n",
              "4       35.44   35.14   0.00    0.30       33      22  11450.0   6.80   \n",
              "...       ...     ...    ...     ...      ...     ...      ...    ...   \n",
              "43819  179.49  188.42  -1.73   -7.20        2     -11      NaN    NaN   \n",
              "43820  164.02  172.41  -1.31   -7.08        1     -12      NaN    NaN   \n",
              "43821  132.54  140.41  -1.81   -6.06        0     -12      NaN    NaN   \n",
              "43822  149.22  158.45  -2.41   -6.82       -1     -14      NaN    NaN   \n",
              "43823  121.26  129.53  -1.98   -6.29       -2     -15      NaN    NaN   \n",
              "\n",
              "       Unnamed: 16  \n",
              "0              NaN  \n",
              "1              NaN  \n",
              "2              NaN  \n",
              "3              NaN  \n",
              "4              NaN  \n",
              "...            ...  \n",
              "43819          NaN  \n",
              "43820          NaN  \n",
              "43821          NaN  \n",
              "43822          NaN  \n",
              "43823          NaN  \n",
              "\n",
              "[43824 rows x 17 columns]"
            ],
            "text/html": [
              "\n",
              "  <div id=\"df-db9e4aaf-6a88-4a09-841c-b13237eeb71d\">\n",
              "    <div class=\"colab-df-container\">\n",
              "      <div>\n",
              "<style scoped>\n",
              "    .dataframe tbody tr th:only-of-type {\n",
              "        vertical-align: middle;\n",
              "    }\n",
              "\n",
              "    .dataframe tbody tr th {\n",
              "        vertical-align: top;\n",
              "    }\n",
              "\n",
              "    .dataframe thead th {\n",
              "        text-align: right;\n",
              "    }\n",
              "</style>\n",
              "<table border=\"1\" class=\"dataframe\">\n",
              "  <thead>\n",
              "    <tr style=\"text-align: right;\">\n",
              "      <th></th>\n",
              "      <th>Date</th>\n",
              "      <th>Hour</th>\n",
              "      <th>DA_DEMD</th>\n",
              "      <th>DEMAND</th>\n",
              "      <th>DA_LMP</th>\n",
              "      <th>DA_EC</th>\n",
              "      <th>DA_CC</th>\n",
              "      <th>DA_MLC</th>\n",
              "      <th>RT_LMP</th>\n",
              "      <th>RT_EC</th>\n",
              "      <th>RT_CC</th>\n",
              "      <th>RT_MLC</th>\n",
              "      <th>DryBulb</th>\n",
              "      <th>DewPnt</th>\n",
              "      <th>SYSLoad</th>\n",
              "      <th>RegCP</th>\n",
              "      <th>Unnamed: 16</th>\n",
              "    </tr>\n",
              "  </thead>\n",
              "  <tbody>\n",
              "    <tr>\n",
              "      <th>0</th>\n",
              "      <td>2013-01-01</td>\n",
              "      <td>1</td>\n",
              "      <td>11828.0</td>\n",
              "      <td>12598.000</td>\n",
              "      <td>79.80</td>\n",
              "      <td>79.34</td>\n",
              "      <td>0.00</td>\n",
              "      <td>0.46</td>\n",
              "      <td>99.23</td>\n",
              "      <td>98.56</td>\n",
              "      <td>0.00</td>\n",
              "      <td>0.67</td>\n",
              "      <td>33</td>\n",
              "      <td>22</td>\n",
              "      <td>12825.0</td>\n",
              "      <td>11.00</td>\n",
              "      <td>NaN</td>\n",
              "    </tr>\n",
              "    <tr>\n",
              "      <th>1</th>\n",
              "      <td>2013-01-01</td>\n",
              "      <td>2</td>\n",
              "      <td>11785.0</td>\n",
              "      <td>11953.000</td>\n",
              "      <td>66.28</td>\n",
              "      <td>65.81</td>\n",
              "      <td>0.00</td>\n",
              "      <td>0.47</td>\n",
              "      <td>120.08</td>\n",
              "      <td>119.20</td>\n",
              "      <td>0.00</td>\n",
              "      <td>0.88</td>\n",
              "      <td>33</td>\n",
              "      <td>22</td>\n",
              "      <td>12167.0</td>\n",
              "      <td>7.34</td>\n",
              "      <td>NaN</td>\n",
              "    </tr>\n",
              "    <tr>\n",
              "      <th>2</th>\n",
              "      <td>2013-01-01</td>\n",
              "      <td>3</td>\n",
              "      <td>11600.0</td>\n",
              "      <td>11489.000</td>\n",
              "      <td>68.89</td>\n",
              "      <td>68.47</td>\n",
              "      <td>0.00</td>\n",
              "      <td>0.42</td>\n",
              "      <td>35.71</td>\n",
              "      <td>35.41</td>\n",
              "      <td>0.00</td>\n",
              "      <td>0.30</td>\n",
              "      <td>33</td>\n",
              "      <td>22</td>\n",
              "      <td>11697.0</td>\n",
              "      <td>6.77</td>\n",
              "      <td>NaN</td>\n",
              "    </tr>\n",
              "    <tr>\n",
              "      <th>3</th>\n",
              "      <td>2013-01-01</td>\n",
              "      <td>4</td>\n",
              "      <td>11252.0</td>\n",
              "      <td>11239.000</td>\n",
              "      <td>50.22</td>\n",
              "      <td>50.01</td>\n",
              "      <td>0.00</td>\n",
              "      <td>0.21</td>\n",
              "      <td>32.87</td>\n",
              "      <td>32.61</td>\n",
              "      <td>0.00</td>\n",
              "      <td>0.26</td>\n",
              "      <td>34</td>\n",
              "      <td>22</td>\n",
              "      <td>11440.0</td>\n",
              "      <td>7.15</td>\n",
              "      <td>NaN</td>\n",
              "    </tr>\n",
              "    <tr>\n",
              "      <th>4</th>\n",
              "      <td>2013-01-01</td>\n",
              "      <td>5</td>\n",
              "      <td>11399.0</td>\n",
              "      <td>11253.000</td>\n",
              "      <td>51.67</td>\n",
              "      <td>51.47</td>\n",
              "      <td>0.00</td>\n",
              "      <td>0.20</td>\n",
              "      <td>35.44</td>\n",
              "      <td>35.14</td>\n",
              "      <td>0.00</td>\n",
              "      <td>0.30</td>\n",
              "      <td>33</td>\n",
              "      <td>22</td>\n",
              "      <td>11450.0</td>\n",
              "      <td>6.80</td>\n",
              "      <td>NaN</td>\n",
              "    </tr>\n",
              "    <tr>\n",
              "      <th>...</th>\n",
              "      <td>...</td>\n",
              "      <td>...</td>\n",
              "      <td>...</td>\n",
              "      <td>...</td>\n",
              "      <td>...</td>\n",
              "      <td>...</td>\n",
              "      <td>...</td>\n",
              "      <td>...</td>\n",
              "      <td>...</td>\n",
              "      <td>...</td>\n",
              "      <td>...</td>\n",
              "      <td>...</td>\n",
              "      <td>...</td>\n",
              "      <td>...</td>\n",
              "      <td>...</td>\n",
              "      <td>...</td>\n",
              "      <td>...</td>\n",
              "    </tr>\n",
              "    <tr>\n",
              "      <th>43819</th>\n",
              "      <td>2017-12-31</td>\n",
              "      <td>20</td>\n",
              "      <td>1531.1</td>\n",
              "      <td>1696.392</td>\n",
              "      <td>212.49</td>\n",
              "      <td>217.30</td>\n",
              "      <td>0.00</td>\n",
              "      <td>-4.81</td>\n",
              "      <td>179.49</td>\n",
              "      <td>188.42</td>\n",
              "      <td>-1.73</td>\n",
              "      <td>-7.20</td>\n",
              "      <td>2</td>\n",
              "      <td>-11</td>\n",
              "      <td>NaN</td>\n",
              "      <td>NaN</td>\n",
              "      <td>NaN</td>\n",
              "    </tr>\n",
              "    <tr>\n",
              "      <th>43820</th>\n",
              "      <td>2017-12-31</td>\n",
              "      <td>21</td>\n",
              "      <td>1459.3</td>\n",
              "      <td>1652.438</td>\n",
              "      <td>209.58</td>\n",
              "      <td>215.37</td>\n",
              "      <td>-0.37</td>\n",
              "      <td>-5.42</td>\n",
              "      <td>164.02</td>\n",
              "      <td>172.41</td>\n",
              "      <td>-1.31</td>\n",
              "      <td>-7.08</td>\n",
              "      <td>1</td>\n",
              "      <td>-12</td>\n",
              "      <td>NaN</td>\n",
              "      <td>NaN</td>\n",
              "      <td>NaN</td>\n",
              "    </tr>\n",
              "    <tr>\n",
              "      <th>43821</th>\n",
              "      <td>2017-12-31</td>\n",
              "      <td>22</td>\n",
              "      <td>1352.6</td>\n",
              "      <td>1577.769</td>\n",
              "      <td>176.66</td>\n",
              "      <td>182.20</td>\n",
              "      <td>0.00</td>\n",
              "      <td>-5.54</td>\n",
              "      <td>132.54</td>\n",
              "      <td>140.41</td>\n",
              "      <td>-1.81</td>\n",
              "      <td>-6.06</td>\n",
              "      <td>0</td>\n",
              "      <td>-12</td>\n",
              "      <td>NaN</td>\n",
              "      <td>NaN</td>\n",
              "      <td>NaN</td>\n",
              "    </tr>\n",
              "    <tr>\n",
              "      <th>43822</th>\n",
              "      <td>2017-12-31</td>\n",
              "      <td>23</td>\n",
              "      <td>1189.0</td>\n",
              "      <td>1523.502</td>\n",
              "      <td>161.28</td>\n",
              "      <td>166.99</td>\n",
              "      <td>-0.50</td>\n",
              "      <td>-5.21</td>\n",
              "      <td>149.22</td>\n",
              "      <td>158.45</td>\n",
              "      <td>-2.41</td>\n",
              "      <td>-6.82</td>\n",
              "      <td>-1</td>\n",
              "      <td>-14</td>\n",
              "      <td>NaN</td>\n",
              "      <td>NaN</td>\n",
              "      <td>NaN</td>\n",
              "    </tr>\n",
              "    <tr>\n",
              "      <th>43823</th>\n",
              "      <td>2017-12-31</td>\n",
              "      <td>24</td>\n",
              "      <td>1145.8</td>\n",
              "      <td>1471.648</td>\n",
              "      <td>148.64</td>\n",
              "      <td>153.74</td>\n",
              "      <td>-0.33</td>\n",
              "      <td>-4.77</td>\n",
              "      <td>121.26</td>\n",
              "      <td>129.53</td>\n",
              "      <td>-1.98</td>\n",
              "      <td>-6.29</td>\n",
              "      <td>-2</td>\n",
              "      <td>-15</td>\n",
              "      <td>NaN</td>\n",
              "      <td>NaN</td>\n",
              "      <td>NaN</td>\n",
              "    </tr>\n",
              "  </tbody>\n",
              "</table>\n",
              "<p>43824 rows × 17 columns</p>\n",
              "</div>\n",
              "      <button class=\"colab-df-convert\" onclick=\"convertToInteractive('df-db9e4aaf-6a88-4a09-841c-b13237eeb71d')\"\n",
              "              title=\"Convert this dataframe to an interactive table.\"\n",
              "              style=\"display:none;\">\n",
              "        \n",
              "  <svg xmlns=\"http://www.w3.org/2000/svg\" height=\"24px\"viewBox=\"0 0 24 24\"\n",
              "       width=\"24px\">\n",
              "    <path d=\"M0 0h24v24H0V0z\" fill=\"none\"/>\n",
              "    <path d=\"M18.56 5.44l.94 2.06.94-2.06 2.06-.94-2.06-.94-.94-2.06-.94 2.06-2.06.94zm-11 1L8.5 8.5l.94-2.06 2.06-.94-2.06-.94L8.5 2.5l-.94 2.06-2.06.94zm10 10l.94 2.06.94-2.06 2.06-.94-2.06-.94-.94-2.06-.94 2.06-2.06.94z\"/><path d=\"M17.41 7.96l-1.37-1.37c-.4-.4-.92-.59-1.43-.59-.52 0-1.04.2-1.43.59L10.3 9.45l-7.72 7.72c-.78.78-.78 2.05 0 2.83L4 21.41c.39.39.9.59 1.41.59.51 0 1.02-.2 1.41-.59l7.78-7.78 2.81-2.81c.8-.78.8-2.07 0-2.86zM5.41 20L4 18.59l7.72-7.72 1.47 1.35L5.41 20z\"/>\n",
              "  </svg>\n",
              "      </button>\n",
              "      \n",
              "  <style>\n",
              "    .colab-df-container {\n",
              "      display:flex;\n",
              "      flex-wrap:wrap;\n",
              "      gap: 12px;\n",
              "    }\n",
              "\n",
              "    .colab-df-convert {\n",
              "      background-color: #E8F0FE;\n",
              "      border: none;\n",
              "      border-radius: 50%;\n",
              "      cursor: pointer;\n",
              "      display: none;\n",
              "      fill: #1967D2;\n",
              "      height: 32px;\n",
              "      padding: 0 0 0 0;\n",
              "      width: 32px;\n",
              "    }\n",
              "\n",
              "    .colab-df-convert:hover {\n",
              "      background-color: #E2EBFA;\n",
              "      box-shadow: 0px 1px 2px rgba(60, 64, 67, 0.3), 0px 1px 3px 1px rgba(60, 64, 67, 0.15);\n",
              "      fill: #174EA6;\n",
              "    }\n",
              "\n",
              "    [theme=dark] .colab-df-convert {\n",
              "      background-color: #3B4455;\n",
              "      fill: #D2E3FC;\n",
              "    }\n",
              "\n",
              "    [theme=dark] .colab-df-convert:hover {\n",
              "      background-color: #434B5C;\n",
              "      box-shadow: 0px 1px 3px 1px rgba(0, 0, 0, 0.15);\n",
              "      filter: drop-shadow(0px 1px 2px rgba(0, 0, 0, 0.3));\n",
              "      fill: #FFFFFF;\n",
              "    }\n",
              "  </style>\n",
              "\n",
              "      <script>\n",
              "        const buttonEl =\n",
              "          document.querySelector('#df-db9e4aaf-6a88-4a09-841c-b13237eeb71d button.colab-df-convert');\n",
              "        buttonEl.style.display =\n",
              "          google.colab.kernel.accessAllowed ? 'block' : 'none';\n",
              "\n",
              "        async function convertToInteractive(key) {\n",
              "          const element = document.querySelector('#df-db9e4aaf-6a88-4a09-841c-b13237eeb71d');\n",
              "          const dataTable =\n",
              "            await google.colab.kernel.invokeFunction('convertToInteractive',\n",
              "                                                     [key], {});\n",
              "          if (!dataTable) return;\n",
              "\n",
              "          const docLinkHtml = 'Like what you see? Visit the ' +\n",
              "            '<a target=\"_blank\" href=https://colab.research.google.com/notebooks/data_table.ipynb>data table notebook</a>'\n",
              "            + ' to learn more about interactive tables.';\n",
              "          element.innerHTML = '';\n",
              "          dataTable['output_type'] = 'display_data';\n",
              "          await google.colab.output.renderOutput(dataTable, element);\n",
              "          const docLink = document.createElement('div');\n",
              "          docLink.innerHTML = docLinkHtml;\n",
              "          element.appendChild(docLink);\n",
              "        }\n",
              "      </script>\n",
              "    </div>\n",
              "  </div>\n",
              "  "
            ]
          },
          "metadata": {},
          "execution_count": 123
        }
      ]
    },
    {
      "cell_type": "code",
      "source": [
        "# Días para entrenar\n",
        "dq=30\n",
        "ndd = int(565+31) # ndd: numero de dias para entrenar\n",
        "d_atr = 90 #Cantidad de días atras del día donde terminan los datos de entrenamiento.\n",
        "#fecha de inicio de datos de entrenamiento\n",
        "d_cero = date(2015,1,1) #d_cero: dia cero\n",
        "# Fecha inicial de pronostico\n",
        "d_fin = date(2015,1,1)+(565+31-15)*timedelta(days=1) # Día donde terminan los datos de entrenamiento\n",
        "\n",
        "# Fechas entre las que estaran los datos para sacar valores tipicos.\n",
        "f_fin = d_fin - d_atr*timedelta(days=1)\n",
        "f_ini = f_fin - 180*timedelta(days=1) # 180 es la forma de calular 6 meses de manera rapida (6*30=180)\n",
        "\n",
        "if f_ini < d_cero:\n",
        "    print('Error: Usted selecciono un dia inicial, para calcular los valores, tipicos no permitido')"
      ],
      "metadata": {
        "id": "7JAIsJpXAPsY"
      },
      "execution_count": 124,
      "outputs": []
    },
    {
      "cell_type": "code",
      "source": [
        "indices = pd.date_range(start=dem_hist0['Date'].iloc[0],end =dem_hist0['Date'].iloc[-1]+timedelta(hours=23), freq='h')\n",
        "meteo_hist=pd.DataFrame()\n",
        "meteo_hist['T_DryBulb'] = list(dem_hist0['DryBulb']) #traer datos de la base de datos inicial\n",
        "meteo_hist['T_DewPnt'] = list(dem_hist0['DewPnt']) #traer datos de la base de datos inicial\n",
        "meteo_hist.index = indices"
      ],
      "metadata": {
        "id": "OYLAAYc3_CSD"
      },
      "execution_count": 125,
      "outputs": []
    },
    {
      "cell_type": "code",
      "source": [
        "#Crear dataframe con estructura del codigo\n",
        "l_horas = ['0','1','2','3','4','5','6','7','8','9','10','11','12','13','14','15','16','17','18','19','20','21','22','23']\n",
        "indices = pd.date_range(start=dem_hist0['Date'].iloc[0],end =dem_hist0['Date'].iloc[-1], freq='D')\n",
        "df_zona1_dem_t=pd.DataFrame(columns=l_horas, index=indices) # se creael data frame con la informacion de demanda\n",
        "for i in l_horas:\n",
        "    lista = dem_hist0.index[dem_hist0['Hour']==int(i)+1].tolist() #se busca la demdanda de cada hora. Por ejemplo: todos los indices de las demandas de la 1.\n",
        "    df_zona1_dem_t[i]=dem_hist0['DEMAND'].iloc[lista].tolist() # se busca la demanda y se agrega al nuevo dataframe\n",
        "\n",
        "df_zona1_dem_t.insert(0,'Zona','ISO NE CA',allow_duplicates=False) # se agrega una columna con la informacion de la zona\n",
        "df_zona1_dem_t.insert(0,'Fecha',indices,allow_duplicates=False) # se agrega un columna con la informacion de la fecha"
      ],
      "metadata": {
        "id": "_YwwMUYd_831"
      },
      "execution_count": 126,
      "outputs": []
    },
    {
      "cell_type": "code",
      "source": [
        "# Escalar los datos de demanda\n",
        "\n",
        "# Aumentar las unidades de los datos para mayor facilidad con los numeros. De MW a GW.\n",
        "df_zona1_dem_t[l_horas] = df_zona1_dem_t[l_horas]\n",
        "\n",
        "df_minmax = df_zona1_dem_t[d_cero:d_cero + (ndd-15)*timedelta(days=1)]# dataframe que se utilizará para sacar los minimos y maximos, teniendo en cuenta que solo se debe usar la informacion de entrenamiento\n",
        "# Se encuantran los valores minimos y maximos de todo el dataframe.\n",
        "v_min = df_minmax[l_horas].min(skipna=True).min(skipna=True) # v_min: valor minimo\n",
        "v_max = df_minmax[l_horas].max(skipna=True).max(skipna=True) # v_max: valor maximo\n",
        "\n",
        "df_zona1_dem_t[l_horas] = (df_zona1_dem_t[l_horas] - v_min)/(v_max-v_min)"
      ],
      "metadata": {
        "id": "6gytd5_X__9p"
      },
      "execution_count": 127,
      "outputs": []
    },
    {
      "cell_type": "code",
      "source": [
        "#se resetean los indices de df_zona1_dem_t\n",
        "df_zona1_dem_t = df_zona1_dem_t.reset_index(drop=True)\n",
        "\n",
        "#se le quitan 'dq' días a la base de datos, para comparar con datos completamente crudos.\n",
        "df_zona1_dem = df_zona1_dem_t.iloc[:]\n",
        "df_zona1_dem_p = df_zona1_dem_t.iloc[len(df_zona1_dem)-dq:] # la p quiere decir prueba\n",
        "\n",
        "\n",
        "# dat_zona: Cantidad de datos por zona\n",
        "dat_zona = len(df_zona1_dem)"
      ],
      "metadata": {
        "id": "fcA-ype5AXIv"
      },
      "execution_count": 128,
      "outputs": []
    },
    {
      "cell_type": "code",
      "source": [
        "#Datos en cero por columna\n",
        "(df_zona1_dem == 0).sum(axis=0)"
      ],
      "metadata": {
        "colab": {
          "base_uri": "https://localhost:8080/"
        },
        "id": "ex_naLikA7Qc",
        "outputId": "6a3e03c5-0274-4481-d268-999c0c967945"
      },
      "execution_count": 129,
      "outputs": [
        {
          "output_type": "execute_result",
          "data": {
            "text/plain": [
              "Fecha    0\n",
              "Zona     0\n",
              "0        0\n",
              "1        3\n",
              "2        0\n",
              "3        0\n",
              "4        0\n",
              "5        0\n",
              "6        0\n",
              "7        0\n",
              "8        0\n",
              "9        0\n",
              "10       0\n",
              "11       0\n",
              "12       0\n",
              "13       0\n",
              "14       0\n",
              "15       0\n",
              "16       0\n",
              "17       0\n",
              "18       0\n",
              "19       0\n",
              "20       0\n",
              "21       0\n",
              "22       0\n",
              "23       0\n",
              "dtype: int64"
            ]
          },
          "metadata": {},
          "execution_count": 129
        }
      ]
    },
    {
      "cell_type": "code",
      "source": [
        "#porcentaje exacto de datos en cero\n",
        "suma=0\n",
        "for i in l_horas:\n",
        "    suma+=len(df_zona1_dem.index[df_zona1_dem[i]==int(0)].tolist())\n",
        "print('el porcentaje de datos en cero es: ',(suma/(ndd*24))*100)"
      ],
      "metadata": {
        "colab": {
          "base_uri": "https://localhost:8080/"
        },
        "id": "VgiYhWW0A_-u",
        "outputId": "c01201cc-14ad-4301-92b8-674c3de5c1b0"
      },
      "execution_count": 130,
      "outputs": [
        {
          "output_type": "stream",
          "name": "stdout",
          "text": [
            "el porcentaje de datos en cero es:  0.02097315436241611\n"
          ]
        }
      ]
    },
    {
      "cell_type": "code",
      "source": [
        "#cambiar el indice del dataframe con la informacion a fechas para mas facil manejo\n",
        "df_zona1_dem.index = indices\n",
        "\n",
        "#identificar los dias de la semana y agregarlos al dataframe\n",
        "df_zona1_dem = pd.concat([df_zona1_dem,pd.DataFrame(df_zona1_dem.index.strftime(\"%w\"), columns=[\"d_w\"], index=indices)],axis=1)\n",
        "\n",
        "## Dias festivos\n",
        "us_festivos = holidays.US()\n",
        "#col_festivos = holidays.COL()\n",
        "ind_festivos = pd.DataFrame(index=indices ,columns=['festivo'])\n",
        "for i in indices:\n",
        "    ind_festivos.loc[i,'festivo'] = i in us_festivos\n",
        "c_festivos = ind_festivos[ind_festivos[\"festivo\"]==True].index #Guardar los días festivos en una lista para facilitar su manipulación. \n",
        "ind_festivos=ind_festivos.replace([True,False],[1,0])\n",
        "df_zona1_dem = pd.concat([df_zona1_dem,ind_festivos],axis=1)"
      ],
      "metadata": {
        "id": "g8y2Q-AvBCbH"
      },
      "execution_count": 131,
      "outputs": []
    },
    {
      "cell_type": "code",
      "source": [
        "### Dias Lunes festivos (DLF) y Dias festivos no lunes (DFNL)\n",
        "dlf = pd.DataFrame(index=indices ,columns=['dlf'])\n",
        "dfnl = pd.DataFrame(index=indices ,columns=['dfnl'])\n",
        "for i in indices:\n",
        "  if df_zona1_dem['festivo'].loc[i] == 1:\n",
        "    if df_zona1_dem['d_w'].loc[i] == '1':\n",
        "      dlf['dlf'].loc[i] = 1\n",
        "      dfnl['dfnl'].loc[i] = 0\n",
        "    else:\n",
        "      dfnl['dfnl'].loc[i] = 1\n",
        "      dlf['dlf'].loc[i] = 0\n",
        "  else:\n",
        "    dlf['dlf'].loc[i] = 0\n",
        "    dfnl['dfnl'].loc[i] = 0\n",
        "\n",
        "df_zona1_dem = pd.concat([df_zona1_dem,dlf,dfnl],axis=1)"
      ],
      "metadata": {
        "id": "NYYDG1cyBE_m"
      },
      "execution_count": 132,
      "outputs": []
    },
    {
      "cell_type": "code",
      "source": [
        "# Indicar los dias que estan cercanos a los festivos \n",
        "\n",
        "#creamos un delta de tiempo de un día \n",
        "un_dia = timedelta(days=1)\n",
        "l_cf = [] #creamos una lista con los días cercanos a los festivos\n",
        "dias_atras = [3,2,1] # días atras tenidos en cuenta\n",
        "dias_delante = [1]\n",
        "\n",
        "#for para ir llenando la lista\n",
        "for i in range(0,len(c_festivos)):\n",
        "# se agregan lso condicionales if y elif para no salirse\n",
        "# del rango de los datos originales\n",
        "  if c_festivos[i] == indices[0]:\n",
        "    for j in dias_delante:\n",
        "      l_cf.append(c_festivos[i]+j*un_dia)\n",
        "  elif c_festivos[i] == indices[len(indices)-1]:\n",
        "    for j in dias_atras:\n",
        "      l_cf.append(c_festivos[i]-j*un_dia)\n",
        "  else:\n",
        "    for j in dias_atras:\n",
        "      l_cf.append(c_festivos[i]-j*un_dia)\n",
        "    for j in dias_delante:\n",
        "      l_cf.append(c_festivos[i]+j*un_dia)\n",
        "\n",
        "# Se agregan en el datafrem con toda la informacion los dias cercanos a\n",
        "# días festivos, todavía no se ponen en variables dumming\n",
        "df_zona1_dem.loc[l_cf,'D_cf'] = df_zona1_dem.loc[l_cf].index.strftime(\"%w\")\n",
        "\n",
        "#Remplazar los numeros que identifican los dias de la semana por las\n",
        "# letras que indican que día es, pero haciendo enfasis en que se hace referencia\n",
        "# a los dias cercanos a festivos.\n",
        "df_zona1_dem['D_cf'] = df_zona1_dem['D_cf'].replace({'0': 'd_cf', '1': 'l_cf',\n",
        "                                              '2': 'm_cf', '3': 'w_cf',\n",
        "                                              '4': 'j_cf', '5': 'v_cf',\n",
        "                                              '6': 's_cf'})"
      ],
      "metadata": {
        "id": "KzCH2iG3BXvJ"
      },
      "execution_count": 133,
      "outputs": []
    },
    {
      "cell_type": "code",
      "source": [
        "#Remplazar los numeros que identifican los dias de la semana por letras iniciales\n",
        "df_zona1_dem.d_w = df_zona1_dem.d_w.replace({'0': 'd', '1': 'l', '2': 'm',\n",
        "                                            '3': 'w', '4': 'j', '5': 'v',\n",
        "                                            '6':'s'})"
      ],
      "metadata": {
        "id": "mau3YpWpCIoG"
      },
      "execution_count": 134,
      "outputs": []
    },
    {
      "cell_type": "code",
      "source": [
        "# Identificar indices para saber cuales dias de la semana son festivos o no festivos\n",
        "id_cal_med = {} #id_cal_med: indices para calculo de las medias y desviaciones estandar\n",
        "for d in ['l','m','w','j','v','s','d']:\n",
        "  id_cal_med[d+'nf'] = [] # nf: No Festivo\n",
        "  id_cal_med[d+'f'] = [] # f: Festivo\n",
        "  for i in indices:\n",
        "  #Identificar los dias festivos y no festivos, teniendo en cuanta el tipo de día:\n",
        "    if df_zona1_dem['d_w'].loc[i] == d:\n",
        "      if df_zona1_dem['festivo'].loc[i] == 1:\n",
        "        id_cal_med[d+'f'].append(i)\n",
        "      else:\n",
        "        id_cal_med[d+'nf'].append(i)\n",
        "\n",
        "#Se deja que el codigo identifique los domingos y sabados festivos\n",
        "#debido a que estos corresponden en su mayoria a días muy atipicos."
      ],
      "metadata": {
        "id": "1U8zCY9ECLHv"
      },
      "execution_count": 135,
      "outputs": []
    },
    {
      "cell_type": "code",
      "source": [
        "#eliminar la llave que no tenga ningun día.\n",
        "for d in ['l','m','w','j','v','s','d']:\n",
        "  for k in ['f','nf']:\n",
        "    if id_cal_med[d+k]==[]:\n",
        "      del id_cal_med[d+k]"
      ],
      "metadata": {
        "id": "XsVuTyYiCOUQ"
      },
      "execution_count": 136,
      "outputs": []
    },
    {
      "cell_type": "code",
      "source": [
        "#Calculo de las medianas horarias dependiendo del día\n",
        "medias = {}\n",
        "for j in ['l','m','w','j','v','s','d']:\n",
        "  for k in ['f','nf']:\n",
        "    for i in range(0,24):\n",
        "      try:\n",
        "        medias['h'+str(i)+'_'+j+k]=(df_zona1_dem[str(i)].\n",
        "                                  loc[id_cal_med[j+k]].median())\n",
        "      except:\n",
        "        print('no se tienen', j+k, 'en la base de datos')\n",
        "        break"
      ],
      "metadata": {
        "id": "tiwdumS5CQq4"
      },
      "execution_count": 137,
      "outputs": []
    },
    {
      "cell_type": "code",
      "source": [
        "# Boxplot para la información de demanda.\n",
        "plt.figure(figsize=(13, 8))\n",
        "sns.boxplot(data=df_zona1_dem)"
      ],
      "metadata": {
        "colab": {
          "base_uri": "https://localhost:8080/",
          "height": 501
        },
        "id": "q_sGBD_GCS6a",
        "outputId": "4963d5c1-3d9c-41b5-e9d4-d259f7e6d121"
      },
      "execution_count": 138,
      "outputs": [
        {
          "output_type": "execute_result",
          "data": {
            "text/plain": [
              "<matplotlib.axes._subplots.AxesSubplot at 0x7f14fd0c5f40>"
            ]
          },
          "metadata": {},
          "execution_count": 138
        },
        {
          "output_type": "display_data",
          "data": {
            "text/plain": [
              "<Figure size 936x576 with 1 Axes>"
            ],
            "image/png": "[encoded data removed]"
          },
          "metadata": {
            "needs_background": "light"
          }
        }
      ]
    },
    {
      "cell_type": "code",
      "source": [
        "# Se llenan los datos faltantes del dataframe con las medianas\n",
        "for h in l_horas:\n",
        "    id_dfalta = df_zona1_dem[df_zona1_dem[h].isnull()].index # id_dfalta: Indicies de los datos faltantes.\n",
        "    for d in ['l','m','w','j','v','s','d']:\n",
        "        for i in id_dfalta:\n",
        "            if df_zona1_dem['d_w'].loc[i] == d:\n",
        "                if df_zona1_dem['festivo'].loc[i] == 1:\n",
        "                    df_zona1_dem[h].loc[i] = medias['h'+h+'_'+d+'f']\n",
        "                else:\n",
        "                    df_zona1_dem[h].loc[i] = medias['h'+h+'_'+d+'nf']\n",
        "# Se cambian los datos en cero con las medias cuando el usuario decida tarabajar sin datos en cero.\n",
        "print('Se cambiarán los datos en cero por las medianas')\n",
        "for h in l_horas:\n",
        "    id_dcero=df_zona1_dem.index[df_zona1_dem[h]==int(0)].tolist() #lista de id de los datos en cero\n",
        "    for d in ['l','m','w','j','v','s','d']:\n",
        "        for i in id_dcero:\n",
        "            if df_zona1_dem['d_w'].loc[i] == d:\n",
        "                if df_zona1_dem['festivo'].loc[i] == 1:\n",
        "                    df_zona1_dem.loc[i,h] = medias['h'+h+'_'+d+'f']\n",
        "                else:\n",
        "                    df_zona1_dem.loc[i,h] = medias['h'+h+'_'+d+'nf']"
      ],
      "metadata": {
        "colab": {
          "base_uri": "https://localhost:8080/"
        },
        "id": "Msv047KSCVUU",
        "outputId": "2c4341f3-9340-478a-9cae-53a769fe9837"
      },
      "execution_count": 139,
      "outputs": [
        {
          "output_type": "stream",
          "name": "stdout",
          "text": [
            "Se cambiarán los datos en cero por las medianas\n"
          ]
        }
      ]
    },
    {
      "cell_type": "code",
      "source": [
        "#Se seleccionana solo los datos con los que se va a entrenar\n",
        "df_zona1_dem = df_zona1_dem.loc[pd.date_range(start=d_cero,\n",
        "                            end =d_cero+ndd*timedelta(days=1),\n",
        "                            freq='d')]\n",
        "# Se crea un data frame con sin datos dañados, para facilitar el calculo de los datos tipicos\n",
        "df_zona1_dem_nul =  df_zona1_dem.loc[pd.date_range(start=d_cero,\n",
        "                            end =d_cero+ndd*timedelta(days=1),\n",
        "                            freq='d')]"
      ],
      "metadata": {
        "id": "5QWj9EFFCjD3"
      },
      "execution_count": 140,
      "outputs": []
    },
    {
      "cell_type": "code",
      "source": [
        "\n",
        "data_tipica = df_zona1_dem_nul.loc[f_ini:f_fin]# parte de la base de datos que no se va a dañar y de donde se sacarán los datos tipicos."
      ],
      "metadata": {
        "id": "fK8mFBv-Ci5o"
      },
      "execution_count": 141,
      "outputs": []
    },
    {
      "cell_type": "code",
      "source": [
        "data_tipica_dic = {}\n",
        "for i in range(0,24):\n",
        "    id_aux = data_tipica[str(i)].dropna().index\n",
        "    data_tipica_dic[i] = data_tipica.loc[id_aux,[str(i),'d_w','festivo','dlf','dfnl','D_cf']]\n",
        "    del(id_aux)\n"
      ],
      "metadata": {
        "id": "I0W6O_tpDID-"
      },
      "execution_count": 142,
      "outputs": []
    },
    {
      "cell_type": "code",
      "source": [
        "# Identificar indices para saber cuales dias de la semana son festivos o no festivos\n",
        "id_cal_med = {} #id_cal_med: indices para calculo de las medias y desviaciones estandar\n",
        "for d in ['l','m','w','j','v','s','d']:\n",
        "  for h in range(0,24):\n",
        "    id_cal_med[d+'nf_'+str(h)] = [] # nf: No Festivo\n",
        "    id_cal_med[d+'f_'+str(h)] = [] # f: Festivo\n",
        "    id_cal_med[d+'_'+str(h)] = [] # d: día de la semana\n",
        "    for i in data_tipica_dic[h].index:\n",
        "    #Identificar los dias festivos y no festivos, teniendo en cuanta el tipo de día:\n",
        "      if data_tipica_dic[h]['d_w'].loc[i] == d:\n",
        "        id_cal_med[d+'_'+str(h)].append(i)\n",
        "        if data_tipica_dic[h]['festivo'].loc[i] == 1:\n",
        "          id_cal_med[d+'f_'+str(h)].append(i)\n",
        "        else:\n",
        "          id_cal_med[d+'nf_'+str(h)].append(i)\n",
        "\n",
        "#Se deja que el codigo identifique los domingos y sabados festivos\n",
        "#debido a que estos corresponden en su mayoria a días muy atipicos."
      ],
      "metadata": {
        "id": "hbs8SqoRDstS"
      },
      "execution_count": 143,
      "outputs": []
    },
    {
      "cell_type": "code",
      "source": [
        "# Se recalculan las medianas horarias dependiendo del día\n",
        "medianas={}\n",
        "for j in ['l','m','w','j','v','s','d']:\n",
        "  for k in ['f','nf']:\n",
        "    for i in range(0,24):\n",
        "      try:\n",
        "        if pd.isna(data_tipica_dic[i][str(i)].loc[id_cal_med[j+k+'_'+str(i)]].median()):\n",
        "          medianas['h'+str(i)+'_'+j+k]=(data_tipica_dic[i][str(i)].\n",
        "                                  loc[id_cal_med[j+'_'+str(i)]].median())\n",
        "        else:\n",
        "          medianas['h'+str(i)+'_'+j+k]=(data_tipica_dic[i][str(i)].\n",
        "                                  loc[id_cal_med[j+k+'_'+str(i)]].median())\n",
        "      except:\n",
        "        print('no se tienen', j+k+str(i), 'en la base de datos para la media')\n",
        "        break\n",
        "\n",
        "# Se recalculan las medias horarias dependiendo del día\n",
        "medias={}\n",
        "for j in ['l','m','w','j','v','s','d']:\n",
        "  for k in ['f','nf']:\n",
        "    for i in range(0,24):\n",
        "      try:\n",
        "        if pd.isna(data_tipica_dic[i][str(i)].loc[id_cal_med[j+k+'_'+str(i)]].mean()):\n",
        "          medias['h'+str(i)+'_'+j+k]=(data_tipica_dic[i][str(i)].\n",
        "                                  loc[id_cal_med[j+'_'+str(i)]].mean())\n",
        "        else:\n",
        "          medias['h'+str(i)+'_'+j+k]=(data_tipica_dic[i][str(i)].\n",
        "                                  loc[id_cal_med[j+k+'_'+str(i)]].mean())\n",
        "      except:\n",
        "        print('no se tienen', j+k+str(i), 'en la base de datos para la media')\n",
        "        break"
      ],
      "metadata": {
        "id": "t2JhC194DwDe"
      },
      "execution_count": 144,
      "outputs": []
    },
    {
      "cell_type": "code",
      "source": [
        "l_hd = [] #l_hd: lista horas del día\n",
        "for i in range(0,24):\n",
        "    l_hd.append(str(i))\n",
        "\n",
        "id_sin_nul = data_tipica[l_hd].dropna().index # indices que contienen los indices de los días que no tienen ninguna hora con datos faltantes\n",
        "df_sin_nul = data_tipica.loc[id_sin_nul,l_hd+['d_w','festivo','dlf','dfnl','D_cf']]"
      ],
      "metadata": {
        "id": "DLbQIeOqDx6p"
      },
      "execution_count": 145,
      "outputs": []
    },
    {
      "cell_type": "code",
      "source": [
        "#Grafica para visualizar si con los días que quedaron, al elminiar los NAN, se tiene una buena curva de demanda.\n",
        "df_transp = data_tipica.loc[id_sin_nul,l_hd].transpose()\n",
        "prueba_df = pd.DataFrame(columns=['Data'])\n",
        "for i in df_transp.columns:\n",
        "    prueba_df = pd.concat([prueba_df,df_transp[i]], axis=0)\n",
        "\n",
        "prueba_df = prueba_df.reset_index()\n",
        "\n",
        "plt.figure(figsize=(11, 8))\n",
        "plt.plot(prueba_df.index[:24*20],prueba_df[0][:24*20],'-')#,label = 'Coef hora '+str(i), linewidth=2,alpha = 1.00)\n",
        "plt.show()"
      ],
      "metadata": {
        "colab": {
          "base_uri": "https://localhost:8080/",
          "height": 483
        },
        "id": "YcRzhRF0D1lq",
        "outputId": "ecd55649-ca71-4939-968e-36dcb56e2019"
      },
      "execution_count": 146,
      "outputs": [
        {
          "output_type": "display_data",
          "data": {
            "text/plain": [
              "<Figure size 792x576 with 1 Axes>"
            ],
            "image/png": "[encoded data removed]"
          },
          "metadata": {
            "needs_background": "light"
          }
        }
      ]
    },
    {
      "cell_type": "code",
      "source": [
        "# Identificar indices para saber cuales dias de la semana son festivos o no festivos\n",
        "id_cal_med_d = {} #id_cal_med_d: indices para calculo de las medias y desviaciones estandar diarias\n",
        "for d in ['l','m','w','j','v','s','d']:\n",
        "  id_cal_med_d[d+'nf'] = [] # nf: No Festivo\n",
        "  id_cal_med_d[d+'f'] = [] # f: Festivo\n",
        "  id_cal_med_d[d] = [] # d: día de la semana\n",
        "  for i in df_sin_nul.index:\n",
        "  #Identificar los dias festivos y no festivos, teniendo en cuanta el tipo de día:\n",
        "    if df_sin_nul['d_w'].loc[i] == d:\n",
        "      id_cal_med_d[d].append(i)\n",
        "      if df_sin_nul['festivo'].loc[i] == 1:\n",
        "        id_cal_med_d[d+'f'].append(i)\n",
        "      else:\n",
        "        id_cal_med_d[d+'nf'].append(i)\n",
        "\n",
        "#Se deja que el codigo identifique los domingos y sabados festivos\n",
        "#debido a que estos corresponden en su mayoria a días muy atipicos."
      ],
      "metadata": {
        "id": "QwoUtXQRD4bW"
      },
      "execution_count": 147,
      "outputs": []
    },
    {
      "cell_type": "code",
      "source": [
        "# Encontrar la demanda tipica de cada día #\n",
        "# Se procede a calcular la suma de la demanda en cada día.\n",
        "\n",
        "df_sin_nul['D_d'] = df_sin_nul[l_hd].sum(axis=1) #D_d: Demanda diaria\n",
        "\n",
        "#Calculo de las medianas díarias teniendo en cuenta si es festivo o no\n",
        "medianas_d = {} #medianas_d: medianas diarias.\n",
        "for j in ['l','m','w','j','v','s','d']:\n",
        "  for k in ['f','nf']:\n",
        "    try:\n",
        "      if pd.isna(df_sin_nul['D_d'].loc[id_cal_med_d[j+k]].median()):\n",
        "        medianas_d[j+'_'+k]=(df_sin_nul['D_d'].\n",
        "                                  loc[id_cal_med_d[j]].median())\n",
        "      else:\n",
        "        medianas_d[j+'_'+k]=(df_sin_nul['D_d'].\n",
        "                                  loc[id_cal_med_d[j+k]].median())\n",
        "    except:\n",
        "      print('no se tienen', j+k, 'en la base de datos')\n",
        "\n",
        "#Calculo de las medias díarias teniendo en cuenta si es festivo o no\n",
        "medias_d = {} #medias_d: medias diarias.\n",
        "for j in ['l','m','w','j','v','s','d']:\n",
        "    for k in ['f','nf']:\n",
        "        try:\n",
        "          if pd.isna(df_sin_nul['D_d'].loc[id_cal_med_d[j+k]].mean()):\n",
        "            medias_d[j+'_'+k]=(df_sin_nul['D_d'].\n",
        "                                  loc[id_cal_med_d[j]].mean())\n",
        "          else:\n",
        "            medias_d[j+'_'+k]=(df_sin_nul['D_d'].\n",
        "                                loc[id_cal_med_d[j+k]].mean())\n",
        "        except:\n",
        "            print('no se tienen', j+k, 'en la base de datos')"
      ],
      "metadata": {
        "id": "IGM8EStYD86C"
      },
      "execution_count": 148,
      "outputs": []
    },
    {
      "cell_type": "code",
      "source": [
        "# Se calcula las desviaciones estandar diarias\n",
        "suma_d={}\n",
        "cont_d={}\n",
        "desviacion_d={}\n",
        "for j in ['l','m','w','j','v','s','d']:\n",
        "  for k in ['f','nf']:\n",
        "    try:\n",
        "      if ((df_sin_nul['D_d'].loc[id_cal_med_d[j+k]]\n",
        "          - medias_d[j+'_'+k])**2).sum() == 0:\n",
        "        suma_d[j+k] =(((df_sin_nul['D_d'].\n",
        "                                    loc[id_cal_med_d[j]]\n",
        "                                    - medias_d[j+'_'+k])**2).sum())\n",
        "        cont_d[j+k] = len(id_cal_med_d[j])\n",
        "        #Calculo de las desviacion estandar\n",
        "        desviacion_d[j+'_'+k] = (sqrt(suma_d[j+k]/\n",
        "                                            (cont_d[j+k])))\n",
        "      else:\n",
        "        suma_d[j+k] =(((df_sin_nul['D_d'].\n",
        "                                    loc[id_cal_med_d[j+k]]\n",
        "                                    - medias_d[j+'_'+k])**2).sum())\n",
        "        cont_d[j+k] = len(id_cal_med_d[j+k])\n",
        "        #Calculo de las desviacion estandar\n",
        "        desviacion_d[j+'_'+k] = (sqrt(suma_d[j+k]/\n",
        "                                            (cont_d[j+k])))\n",
        "    except:\n",
        "      print('no se tienen', j+k, 'en la base de datos para la desviación')"
      ],
      "metadata": {
        "id": "dZ4u-F0_EAHk"
      },
      "execution_count": 149,
      "outputs": []
    },
    {
      "cell_type": "code",
      "source": [
        "# Se calcula las desviaciones estandar horarias dependiendo del día\n",
        "suma2={}\n",
        "cont={}\n",
        "desviacion={}\n",
        "for j in ['l','m','w','j','v','s','d']:\n",
        "  for k in ['f','nf']:\n",
        "    for i in range(0,24):\n",
        "      try:\n",
        "        if ((data_tipica_dic[i][str(i)].loc[id_cal_med[j+k+'_'+str(i)]]\n",
        "            - medias['h'+str(i)+'_'+j+k])**2).sum() == 0:\n",
        "          suma2['h'+str(i)+'_'+j+k] =(((data_tipica_dic[i][str(i)].\n",
        "                                      loc[id_cal_med[j+'_'+str(i)]]\n",
        "                                      - medias['h'+str(i)+'_'+j+k])**2).sum())\n",
        "          cont['h'+str(i)+'_'+j+k] = len(id_cal_med[j+'_'+str(i)])\n",
        "          #Calculo de las desviacion estandar\n",
        "          desviacion['h'+str(i)+'_'+j+k] = (sqrt(suma2['h'+str(i)+'_'+j+k]/\n",
        "                                              (cont['h'+str(i)+'_'+j+k])))\n",
        "        else:\n",
        "          suma2['h'+str(i)+'_'+j+k] =(((data_tipica_dic[i][str(i)].\n",
        "                                      loc[id_cal_med[j+k+'_'+str(i)]]\n",
        "                                      - medias['h'+str(i)+'_'+j+k])**2).sum())\n",
        "          cont['h'+str(i)+'_'+j+k] = len(id_cal_med[j+k+'_'+str(i)])\n",
        "          #Calculo de las desviacion estandar\n",
        "          desviacion['h'+str(i)+'_'+j+k] = (sqrt(suma2['h'+str(i)+'_'+j+k]/\n",
        "                                              (cont['h'+str(i)+'_'+j+k])))\n",
        "      except:\n",
        "        print('no se tienen', j+k, 'en la base de datos para la desviación')\n",
        "        break"
      ],
      "metadata": {
        "id": "KQ0qTXjsEDcZ"
      },
      "execution_count": 150,
      "outputs": []
    },
    {
      "cell_type": "code",
      "source": [
        "# Identificar indices para saber cuales dias de la semana son festivos o no festivos\n",
        "cal_med_iloc = {} #cal_med_iloc: indices para calculo de las medias y desviaciones estandar diarias\n",
        "for d in ['l','m','w','j','v','s','d']:\n",
        "  cal_med_iloc[d+'nf'] = [] # nf: No Festivo\n",
        "  cal_med_iloc[d+'f'] = [] # f: Festivo\n",
        "  cal_med_iloc[d] = [] # d: día de la semana\n",
        "  for j,i in enumerate(df_sin_nul.index):\n",
        "  #Identificar los dias festivos y no festivos, teniendo en cuanta el tipo de día:\n",
        "    if df_sin_nul['d_w'].loc[i] == d:\n",
        "      cal_med_iloc[d].append(j)\n",
        "      if df_sin_nul['festivo'].loc[i] == 1:\n",
        "        cal_med_iloc[d+'f'].append(j)\n",
        "      else:\n",
        "        cal_med_iloc[d+'nf'].append(j)\n",
        "\n",
        "#Se deja que el codigo identifique los domingos y sabados festivos\n",
        "#debido a que estos corresponden en su mayoria a días muy atipicos."
      ],
      "metadata": {
        "id": "nhyom6m-EFnm"
      },
      "execution_count": 151,
      "outputs": []
    },
    {
      "cell_type": "code",
      "source": [
        "# Se calculan las pendientes con el data frame que no tiene datos nulos en ninguno de sus días.\n",
        "# Se crea un dataframe con la informacion no afectada por los daños en los datos\n",
        "# Para sacar las pendientes de la demanda\n",
        "id = list(range(0,(len(df_sin_nul))*24))\n",
        "\n",
        "zona1_tipica = pd.DataFrame(index = id, columns=['Dem'])\n",
        "k=0\n",
        "for j in df_sin_nul.index:\n",
        "  for i in range(0,24):\n",
        "    zona1_tipica.iloc[k,0] = df_sin_nul.loc[j,str(i)]\n",
        "    k+=1"
      ],
      "metadata": {
        "id": "G8fmrrCaEIHJ"
      },
      "execution_count": 152,
      "outputs": []
    },
    {
      "cell_type": "code",
      "source": [
        "#Calculo del cambio de la pendiente en cada hora\n",
        "pendientes = pd.DataFrame(columns=range(0,24))\n",
        "for i,k in enumerate(df_sin_nul.index[1:]):\n",
        "  lista=[]\n",
        "  for j in range(0,24):\n",
        "    h=j + (i+1)*24\n",
        "    lista.append(abs(zona1_tipica['Dem'].iloc[h]-zona1_tipica['Dem'].iloc[h-1]))\n",
        "  pendientes.loc[i]=lista"
      ],
      "metadata": {
        "id": "SoXQRyICEJzp"
      },
      "execution_count": 153,
      "outputs": []
    },
    {
      "cell_type": "code",
      "source": [
        "#Crear dataframe en orden para los diccionarios\n",
        "colum = ['Dem','T_DryBulb','T_DewPnt','fest','dlf','dfnl','D_cf','med','des','der','med_d','des_d']\n",
        "id = pd.date_range(start=d_cero, freq=\"h\", periods=24*ndd + 24)\n",
        "zona1 = pd.DataFrame(index = id, columns=colum)"
      ],
      "metadata": {
        "id": "WHAXty5mEL_8"
      },
      "execution_count": 154,
      "outputs": []
    },
    {
      "cell_type": "code",
      "source": [
        "k=0\n",
        "for j in pd.date_range(start=d_cero, freq='D', periods=ndd + 1):\n",
        "  for i in range(0,24):\n",
        "    zona1.iloc[k,0] = df_zona1_dem.loc[j,str(i)]\n",
        "    #zona1['rad'].iloc[k] = df_zona1_tem.loc[j,str(i)]\n",
        "    zona1.iloc[k,3] = df_zona1_dem.loc[j,'festivo']\n",
        "    zona1.iloc[k,4] = df_zona1_dem.loc[j,'dlf']\n",
        "    zona1.iloc[k,5] = df_zona1_dem.loc[j,'dfnl']\n",
        "    zona1.iloc[k,6] = df_zona1_dem.loc[j,'D_cf']\n",
        "    k=k+1\n",
        "\n",
        "zona1['T_DryBulb'] = meteo_hist['T_DryBulb'].loc[pd.date_range(start=d_cero, freq='h', periods=24*ndd + 24)]\n",
        "zona1['T_DewPnt'] =meteo_hist['T_DewPnt'].loc[pd.date_range(start=d_cero, freq='h', periods=24*ndd + 24)]\n",
        "\n",
        "\n",
        "#dia de la semana\n",
        "# El dia 0 corresponde a los domingos, el 1 a los lunes,\n",
        "# así, hasta el 6 que serían los sabados.\n",
        "\n",
        "zona1[\"d_s\"] = zona1.index.strftime(\"%w\") # d_s: Día de la semana\n",
        "zona1.d_s = zona1.d_s.replace({'0': 'd', '1': 'l', '2':'m',\n",
        "                              '3': 'w', '4': 'j', '5':'v',\n",
        "                              '6': 's'})\n",
        "\n",
        "#Crear dataframe con las columnas donde se indica que dia es\n",
        "# en variables dumming\n",
        "zona1 = pd.concat([zona1,pd.get_dummies(zona1.d_s)],axis=1)\n",
        "\n",
        "#Crear dataframe con las columnas donde se indica que dia es,\n",
        "# en variables dumming para los días cercanos a festivos\n",
        "zona1 = pd.concat([zona1,pd.get_dummies(zona1.D_cf)],axis=1)"
      ],
      "metadata": {
        "id": "vOOFw0cyEuqk"
      },
      "execution_count": 155,
      "outputs": []
    },
    {
      "cell_type": "code",
      "source": [
        "# Agregar medias y desviaciones al día y la hora que corresponde\n",
        "for d in ['d','l','m','w','j','v','s']:\n",
        "  for i in zona1.index:\n",
        "    if zona1['d_s'].loc[i] == d:\n",
        "      if zona1['fest'].loc[i] == 1:\n",
        "        zona1.loc[i,'med'] = medianas['h'+str(i.hour)+'_'+d+'f']\n",
        "        zona1.loc[i,'des'] = desviacion['h'+str(i.hour)+'_'+d+'f']\n",
        "        #zona1.loc[i,'der'] = max_pendi['h'+str(i.hour)+'_'+d+'f']\n",
        "        zona1.loc[i,'med_d'] = medianas_d[d+'_f']\n",
        "        zona1.loc[i,'des_d'] = desviacion_d[d+'_f']\n",
        "      else:\n",
        "        zona1.loc[i,'med'] = medianas['h'+str(i.hour)+'_'+d+'nf']\n",
        "        zona1.loc[i,'des'] = desviacion['h'+str(i.hour)+'_'+d+'nf']\n",
        "        #zona1.loc[i,'der'] = max_pendi['h'+str(i.hour)+'_'+d+'nf']\n",
        "        zona1.loc[i,'med_d'] = medianas_d[d+'_nf']\n",
        "        zona1.loc[i,'des_d'] = desviacion_d[d+'_nf']\n"
      ],
      "metadata": {
        "id": "vDe6Wjh5Excm"
      },
      "execution_count": 156,
      "outputs": []
    },
    {
      "cell_type": "code",
      "source": [
        "zona1.to_csv('data0_zone1.csv')"
      ],
      "metadata": {
        "id": "3PeRYrttE2iF"
      },
      "execution_count": 157,
      "outputs": []
    }
  ]
}