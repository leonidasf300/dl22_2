{
  "nbformat": 4,
  "nbformat_minor": 0,
  "metadata": {
    "colab": {
      "provenance": []
    },
    "kernelspec": {
      "name": "python3",
      "display_name": "Python 3"
    },
    "language_info": {
      "name": "python"
    },
    "accelerator": "TPU",
    "gpuClass": "standard"
  },
  "cells": [
    {
      "cell_type": "code",
      "execution_count": 116,
      "metadata": {
        "colab": {
          "base_uri": "https://localhost:8080/",
          "height": 17
        },
        "id": "j3i6NeX2x4tL",
        "outputId": "27767536-b036-41e1-c8d8-6814a7a71dbe"
      },
      "outputs": [
        {
          "output_type": "display_data",
          "data": {
            "text/plain": [
              "<IPython.core.display.HTML object>"
            ],
            "text/html": [
              "\n",
              "<meta name=\"google-signin-client_id\"\n",
              "      content=\"461673936472-kdjosv61up3ac1ajeuq6qqu72upilmls.apps.googleusercontent.com\"/>\n",
              "<script src=\"https://apis.google.com/js/client:platform.js?onload=google_button_start\"></script>\n",
              "    "
            ]
          },
          "metadata": {}
        }
      ],
      "source": [
        "!wget -nc --no-cache -O init.py -q https://raw.githubusercontent.com/leonidasf300/dl22_2/main/content/init.py\n",
        "import init; init.init(force_download=False); \n"
      ]
    },
    {
      "cell_type": "code",
      "source": [
        "import pandas as pd\n",
        "import numpy as np\n",
        "import matplotlib.pyplot as plt\n",
        "import datetime\n",
        "import os\n",
        "import pathlib\n",
        "import joblib\n",
        "\n",
        "pd.options.mode.chained_assignment = None  # default='warn'\n"
      ],
      "metadata": {
        "id": "AxrsTExIF23M"
      },
      "execution_count": 117,
      "outputs": []
    },
    {
      "cell_type": "code",
      "source": [
        "os.listdir('local/data')"
      ],
      "metadata": {
        "colab": {
          "base_uri": "https://localhost:8080/"
        },
        "id": "-8I96T7WoLg4",
        "outputId": "9ca71f1f-8976-4712-fed4-4dab9c6f4cd8"
      },
      "execution_count": 118,
      "outputs": [
        {
          "output_type": "execute_result",
          "data": {
            "text/plain": [
              "['GEFCom2013-2017.xlsx',\n",
              " 'test.txt',\n",
              " 'test2.txt',\n",
              " 'data0_zone1.csv',\n",
              " 'scaler.joblib']"
            ]
          },
          "metadata": {},
          "execution_count": 118
        }
      ]
    },
    {
      "cell_type": "code",
      "source": [
        "os.listdir('local/lib')"
      ],
      "metadata": {
        "colab": {
          "base_uri": "https://localhost:8080/"
        },
        "id": "Fk5q2ariOJqs",
        "outputId": "39b00d6f-37b8-407a-a3f9-689a84b7d45a"
      },
      "execution_count": 119,
      "outputs": [
        {
          "output_type": "execute_result",
          "data": {
            "text/plain": [
              "['__pycache__', 'DataPreparationRNN.py']"
            ]
          },
          "metadata": {},
          "execution_count": 119
        }
      ]
    },
    {
      "cell_type": "code",
      "source": [
        "df0 = pd.read_csv('local/data/data0_zone1.csv',sep=\",\",parse_dates=[0])\n",
        "df0 = df0.rename(columns={\"Unnamed: 0\": \"datetime\"})\n",
        "df0.set_index([\"datetime\"], inplace=True, drop=True, )\n",
        "df0"
      ],
      "metadata": {
        "colab": {
          "base_uri": "https://localhost:8080/",
          "height": 455
        },
        "id": "OKv-8--1GFl8",
        "outputId": "f21b77a1-fe82-429f-f8ae-e26b66b0f092"
      },
      "execution_count": 120,
      "outputs": [
        {
          "output_type": "execute_result",
          "data": {
            "text/plain": [
              "                          Dem  T_DryBulb  T_DewPnt  fest  dlf  dfnl D_cf  \\\n",
              "datetime                                                                   \n",
              "2015-01-01 00:00:00  0.555952         17         6     1    0     1  NaN   \n",
              "2015-01-01 01:00:00  0.532068         19         6     1    0     1  NaN   \n",
              "2015-01-01 02:00:00  0.514954         20         7     1    0     1  NaN   \n",
              "2015-01-01 03:00:00  0.506522         21         7     1    0     1  NaN   \n",
              "2015-01-01 04:00:00  0.507768         22         6     1    0     1  NaN   \n",
              "...                       ...        ...       ...   ...  ...   ...  ...   \n",
              "2016-08-19 19:00:00  0.805296         79        61     0    0     0  NaN   \n",
              "2016-08-19 20:00:00  0.790697         76        63     0    0     0  NaN   \n",
              "2016-08-19 21:00:00  0.745117         75        60     0    0     0  NaN   \n",
              "2016-08-19 22:00:00  0.683712         73        62     0    0     0  NaN   \n",
              "2016-08-19 23:00:00  0.619828         70        62     0    0     0  NaN   \n",
              "\n",
              "                          med       des  der  ...  s  v  w  d_cf  j_cf  l_cf  \\\n",
              "datetime                                      ...                              \n",
              "2015-01-01 00:00:00  0.466188  0.037952  NaN  ...  0  0  0     0     0     0   \n",
              "2015-01-01 01:00:00  0.444504  0.038645  NaN  ...  0  0  0     0     0     0   \n",
              "2015-01-01 02:00:00  0.431254  0.040305  NaN  ...  0  0  0     0     0     0   \n",
              "2015-01-01 03:00:00  0.426227  0.042465  NaN  ...  0  0  0     0     0     0   \n",
              "2015-01-01 04:00:00  0.430506  0.047256  NaN  ...  0  0  0     0     0     0   \n",
              "...                       ...       ...  ...  ... .. .. ..   ...   ...   ...   \n",
              "2016-08-19 19:00:00  0.621521  0.052476  NaN  ...  0  1  0     0     0     0   \n",
              "2016-08-19 20:00:00  0.604878  0.044765  NaN  ...  0  1  0     0     0     0   \n",
              "2016-08-19 21:00:00  0.573959  0.043009  NaN  ...  0  1  0     0     0     0   \n",
              "2016-08-19 22:00:00  0.530461  0.041958  NaN  ...  0  1  0     0     0     0   \n",
              "2016-08-19 23:00:00  0.484458  0.041648  NaN  ...  0  1  0     0     0     0   \n",
              "\n",
              "                     m_cf  s_cf  v_cf  w_cf  \n",
              "datetime                                     \n",
              "2015-01-01 00:00:00     0     0     0     0  \n",
              "2015-01-01 01:00:00     0     0     0     0  \n",
              "2015-01-01 02:00:00     0     0     0     0  \n",
              "2015-01-01 03:00:00     0     0     0     0  \n",
              "2015-01-01 04:00:00     0     0     0     0  \n",
              "...                   ...   ...   ...   ...  \n",
              "2016-08-19 19:00:00     0     0     0     0  \n",
              "2016-08-19 20:00:00     0     0     0     0  \n",
              "2016-08-19 21:00:00     0     0     0     0  \n",
              "2016-08-19 22:00:00     0     0     0     0  \n",
              "2016-08-19 23:00:00     0     0     0     0  \n",
              "\n",
              "[14328 rows x 27 columns]"
            ],
            "text/html": [
              "\n",
              "  <div id=\"df-25a2cb8a-c8bd-4709-843c-7bdfbe9cd9fc\">\n",
              "    <div class=\"colab-df-container\">\n",
              "      <div>\n",
              "<style scoped>\n",
              "    .dataframe tbody tr th:only-of-type {\n",
              "        vertical-align: middle;\n",
              "    }\n",
              "\n",
              "    .dataframe tbody tr th {\n",
              "        vertical-align: top;\n",
              "    }\n",
              "\n",
              "    .dataframe thead th {\n",
              "        text-align: right;\n",
              "    }\n",
              "</style>\n",
              "<table border=\"1\" class=\"dataframe\">\n",
              "  <thead>\n",
              "    <tr style=\"text-align: right;\">\n",
              "      <th></th>\n",
              "      <th>Dem</th>\n",
              "      <th>T_DryBulb</th>\n",
              "      <th>T_DewPnt</th>\n",
              "      <th>fest</th>\n",
              "      <th>dlf</th>\n",
              "      <th>dfnl</th>\n",
              "      <th>D_cf</th>\n",
              "      <th>med</th>\n",
              "      <th>des</th>\n",
              "      <th>der</th>\n",
              "      <th>...</th>\n",
              "      <th>s</th>\n",
              "      <th>v</th>\n",
              "      <th>w</th>\n",
              "      <th>d_cf</th>\n",
              "      <th>j_cf</th>\n",
              "      <th>l_cf</th>\n",
              "      <th>m_cf</th>\n",
              "      <th>s_cf</th>\n",
              "      <th>v_cf</th>\n",
              "      <th>w_cf</th>\n",
              "    </tr>\n",
              "    <tr>\n",
              "      <th>datetime</th>\n",
              "      <th></th>\n",
              "      <th></th>\n",
              "      <th></th>\n",
              "      <th></th>\n",
              "      <th></th>\n",
              "      <th></th>\n",
              "      <th></th>\n",
              "      <th></th>\n",
              "      <th></th>\n",
              "      <th></th>\n",
              "      <th></th>\n",
              "      <th></th>\n",
              "      <th></th>\n",
              "      <th></th>\n",
              "      <th></th>\n",
              "      <th></th>\n",
              "      <th></th>\n",
              "      <th></th>\n",
              "      <th></th>\n",
              "      <th></th>\n",
              "      <th></th>\n",
              "    </tr>\n",
              "  </thead>\n",
              "  <tbody>\n",
              "    <tr>\n",
              "      <th>2015-01-01 00:00:00</th>\n",
              "      <td>0.555952</td>\n",
              "      <td>17</td>\n",
              "      <td>6</td>\n",
              "      <td>1</td>\n",
              "      <td>0</td>\n",
              "      <td>1</td>\n",
              "      <td>NaN</td>\n",
              "      <td>0.466188</td>\n",
              "      <td>0.037952</td>\n",
              "      <td>NaN</td>\n",
              "      <td>...</td>\n",
              "      <td>0</td>\n",
              "      <td>0</td>\n",
              "      <td>0</td>\n",
              "      <td>0</td>\n",
              "      <td>0</td>\n",
              "      <td>0</td>\n",
              "      <td>0</td>\n",
              "      <td>0</td>\n",
              "      <td>0</td>\n",
              "      <td>0</td>\n",
              "    </tr>\n",
              "    <tr>\n",
              "      <th>2015-01-01 01:00:00</th>\n",
              "      <td>0.532068</td>\n",
              "      <td>19</td>\n",
              "      <td>6</td>\n",
              "      <td>1</td>\n",
              "      <td>0</td>\n",
              "      <td>1</td>\n",
              "      <td>NaN</td>\n",
              "      <td>0.444504</td>\n",
              "      <td>0.038645</td>\n",
              "      <td>NaN</td>\n",
              "      <td>...</td>\n",
              "      <td>0</td>\n",
              "      <td>0</td>\n",
              "      <td>0</td>\n",
              "      <td>0</td>\n",
              "      <td>0</td>\n",
              "      <td>0</td>\n",
              "      <td>0</td>\n",
              "      <td>0</td>\n",
              "      <td>0</td>\n",
              "      <td>0</td>\n",
              "    </tr>\n",
              "    <tr>\n",
              "      <th>2015-01-01 02:00:00</th>\n",
              "      <td>0.514954</td>\n",
              "      <td>20</td>\n",
              "      <td>7</td>\n",
              "      <td>1</td>\n",
              "      <td>0</td>\n",
              "      <td>1</td>\n",
              "      <td>NaN</td>\n",
              "      <td>0.431254</td>\n",
              "      <td>0.040305</td>\n",
              "      <td>NaN</td>\n",
              "      <td>...</td>\n",
              "      <td>0</td>\n",
              "      <td>0</td>\n",
              "      <td>0</td>\n",
              "      <td>0</td>\n",
              "      <td>0</td>\n",
              "      <td>0</td>\n",
              "      <td>0</td>\n",
              "      <td>0</td>\n",
              "      <td>0</td>\n",
              "      <td>0</td>\n",
              "    </tr>\n",
              "    <tr>\n",
              "      <th>2015-01-01 03:00:00</th>\n",
              "      <td>0.506522</td>\n",
              "      <td>21</td>\n",
              "      <td>7</td>\n",
              "      <td>1</td>\n",
              "      <td>0</td>\n",
              "      <td>1</td>\n",
              "      <td>NaN</td>\n",
              "      <td>0.426227</td>\n",
              "      <td>0.042465</td>\n",
              "      <td>NaN</td>\n",
              "      <td>...</td>\n",
              "      <td>0</td>\n",
              "      <td>0</td>\n",
              "      <td>0</td>\n",
              "      <td>0</td>\n",
              "      <td>0</td>\n",
              "      <td>0</td>\n",
              "      <td>0</td>\n",
              "      <td>0</td>\n",
              "      <td>0</td>\n",
              "      <td>0</td>\n",
              "    </tr>\n",
              "    <tr>\n",
              "      <th>2015-01-01 04:00:00</th>\n",
              "      <td>0.507768</td>\n",
              "      <td>22</td>\n",
              "      <td>6</td>\n",
              "      <td>1</td>\n",
              "      <td>0</td>\n",
              "      <td>1</td>\n",
              "      <td>NaN</td>\n",
              "      <td>0.430506</td>\n",
              "      <td>0.047256</td>\n",
              "      <td>NaN</td>\n",
              "      <td>...</td>\n",
              "      <td>0</td>\n",
              "      <td>0</td>\n",
              "      <td>0</td>\n",
              "      <td>0</td>\n",
              "      <td>0</td>\n",
              "      <td>0</td>\n",
              "      <td>0</td>\n",
              "      <td>0</td>\n",
              "      <td>0</td>\n",
              "      <td>0</td>\n",
              "    </tr>\n",
              "    <tr>\n",
              "      <th>...</th>\n",
              "      <td>...</td>\n",
              "      <td>...</td>\n",
              "      <td>...</td>\n",
              "      <td>...</td>\n",
              "      <td>...</td>\n",
              "      <td>...</td>\n",
              "      <td>...</td>\n",
              "      <td>...</td>\n",
              "      <td>...</td>\n",
              "      <td>...</td>\n",
              "      <td>...</td>\n",
              "      <td>...</td>\n",
              "      <td>...</td>\n",
              "      <td>...</td>\n",
              "      <td>...</td>\n",
              "      <td>...</td>\n",
              "      <td>...</td>\n",
              "      <td>...</td>\n",
              "      <td>...</td>\n",
              "      <td>...</td>\n",
              "      <td>...</td>\n",
              "    </tr>\n",
              "    <tr>\n",
              "      <th>2016-08-19 19:00:00</th>\n",
              "      <td>0.805296</td>\n",
              "      <td>79</td>\n",
              "      <td>61</td>\n",
              "      <td>0</td>\n",
              "      <td>0</td>\n",
              "      <td>0</td>\n",
              "      <td>NaN</td>\n",
              "      <td>0.621521</td>\n",
              "      <td>0.052476</td>\n",
              "      <td>NaN</td>\n",
              "      <td>...</td>\n",
              "      <td>0</td>\n",
              "      <td>1</td>\n",
              "      <td>0</td>\n",
              "      <td>0</td>\n",
              "      <td>0</td>\n",
              "      <td>0</td>\n",
              "      <td>0</td>\n",
              "      <td>0</td>\n",
              "      <td>0</td>\n",
              "      <td>0</td>\n",
              "    </tr>\n",
              "    <tr>\n",
              "      <th>2016-08-19 20:00:00</th>\n",
              "      <td>0.790697</td>\n",
              "      <td>76</td>\n",
              "      <td>63</td>\n",
              "      <td>0</td>\n",
              "      <td>0</td>\n",
              "      <td>0</td>\n",
              "      <td>NaN</td>\n",
              "      <td>0.604878</td>\n",
              "      <td>0.044765</td>\n",
              "      <td>NaN</td>\n",
              "      <td>...</td>\n",
              "      <td>0</td>\n",
              "      <td>1</td>\n",
              "      <td>0</td>\n",
              "      <td>0</td>\n",
              "      <td>0</td>\n",
              "      <td>0</td>\n",
              "      <td>0</td>\n",
              "      <td>0</td>\n",
              "      <td>0</td>\n",
              "      <td>0</td>\n",
              "    </tr>\n",
              "    <tr>\n",
              "      <th>2016-08-19 21:00:00</th>\n",
              "      <td>0.745117</td>\n",
              "      <td>75</td>\n",
              "      <td>60</td>\n",
              "      <td>0</td>\n",
              "      <td>0</td>\n",
              "      <td>0</td>\n",
              "      <td>NaN</td>\n",
              "      <td>0.573959</td>\n",
              "      <td>0.043009</td>\n",
              "      <td>NaN</td>\n",
              "      <td>...</td>\n",
              "      <td>0</td>\n",
              "      <td>1</td>\n",
              "      <td>0</td>\n",
              "      <td>0</td>\n",
              "      <td>0</td>\n",
              "      <td>0</td>\n",
              "      <td>0</td>\n",
              "      <td>0</td>\n",
              "      <td>0</td>\n",
              "      <td>0</td>\n",
              "    </tr>\n",
              "    <tr>\n",
              "      <th>2016-08-19 22:00:00</th>\n",
              "      <td>0.683712</td>\n",
              "      <td>73</td>\n",
              "      <td>62</td>\n",
              "      <td>0</td>\n",
              "      <td>0</td>\n",
              "      <td>0</td>\n",
              "      <td>NaN</td>\n",
              "      <td>0.530461</td>\n",
              "      <td>0.041958</td>\n",
              "      <td>NaN</td>\n",
              "      <td>...</td>\n",
              "      <td>0</td>\n",
              "      <td>1</td>\n",
              "      <td>0</td>\n",
              "      <td>0</td>\n",
              "      <td>0</td>\n",
              "      <td>0</td>\n",
              "      <td>0</td>\n",
              "      <td>0</td>\n",
              "      <td>0</td>\n",
              "      <td>0</td>\n",
              "    </tr>\n",
              "    <tr>\n",
              "      <th>2016-08-19 23:00:00</th>\n",
              "      <td>0.619828</td>\n",
              "      <td>70</td>\n",
              "      <td>62</td>\n",
              "      <td>0</td>\n",
              "      <td>0</td>\n",
              "      <td>0</td>\n",
              "      <td>NaN</td>\n",
              "      <td>0.484458</td>\n",
              "      <td>0.041648</td>\n",
              "      <td>NaN</td>\n",
              "      <td>...</td>\n",
              "      <td>0</td>\n",
              "      <td>1</td>\n",
              "      <td>0</td>\n",
              "      <td>0</td>\n",
              "      <td>0</td>\n",
              "      <td>0</td>\n",
              "      <td>0</td>\n",
              "      <td>0</td>\n",
              "      <td>0</td>\n",
              "      <td>0</td>\n",
              "    </tr>\n",
              "  </tbody>\n",
              "</table>\n",
              "<p>14328 rows × 27 columns</p>\n",
              "</div>\n",
              "      <button class=\"colab-df-convert\" onclick=\"convertToInteractive('df-25a2cb8a-c8bd-4709-843c-7bdfbe9cd9fc')\"\n",
              "              title=\"Convert this dataframe to an interactive table.\"\n",
              "              style=\"display:none;\">\n",
              "        \n",
              "  <svg xmlns=\"http://www.w3.org/2000/svg\" height=\"24px\"viewBox=\"0 0 24 24\"\n",
              "       width=\"24px\">\n",
              "    <path d=\"M0 0h24v24H0V0z\" fill=\"none\"/>\n",
              "    <path d=\"M18.56 5.44l.94 2.06.94-2.06 2.06-.94-2.06-.94-.94-2.06-.94 2.06-2.06.94zm-11 1L8.5 8.5l.94-2.06 2.06-.94-2.06-.94L8.5 2.5l-.94 2.06-2.06.94zm10 10l.94 2.06.94-2.06 2.06-.94-2.06-.94-.94-2.06-.94 2.06-2.06.94z\"/><path d=\"M17.41 7.96l-1.37-1.37c-.4-.4-.92-.59-1.43-.59-.52 0-1.04.2-1.43.59L10.3 9.45l-7.72 7.72c-.78.78-.78 2.05 0 2.83L4 21.41c.39.39.9.59 1.41.59.51 0 1.02-.2 1.41-.59l7.78-7.78 2.81-2.81c.8-.78.8-2.07 0-2.86zM5.41 20L4 18.59l7.72-7.72 1.47 1.35L5.41 20z\"/>\n",
              "  </svg>\n",
              "      </button>\n",
              "      \n",
              "  <style>\n",
              "    .colab-df-container {\n",
              "      display:flex;\n",
              "      flex-wrap:wrap;\n",
              "      gap: 12px;\n",
              "    }\n",
              "\n",
              "    .colab-df-convert {\n",
              "      background-color: #E8F0FE;\n",
              "      border: none;\n",
              "      border-radius: 50%;\n",
              "      cursor: pointer;\n",
              "      display: none;\n",
              "      fill: #1967D2;\n",
              "      height: 32px;\n",
              "      padding: 0 0 0 0;\n",
              "      width: 32px;\n",
              "    }\n",
              "\n",
              "    .colab-df-convert:hover {\n",
              "      background-color: #E2EBFA;\n",
              "      box-shadow: 0px 1px 2px rgba(60, 64, 67, 0.3), 0px 1px 3px 1px rgba(60, 64, 67, 0.15);\n",
              "      fill: #174EA6;\n",
              "    }\n",
              "\n",
              "    [theme=dark] .colab-df-convert {\n",
              "      background-color: #3B4455;\n",
              "      fill: #D2E3FC;\n",
              "    }\n",
              "\n",
              "    [theme=dark] .colab-df-convert:hover {\n",
              "      background-color: #434B5C;\n",
              "      box-shadow: 0px 1px 3px 1px rgba(0, 0, 0, 0.15);\n",
              "      filter: drop-shadow(0px 1px 2px rgba(0, 0, 0, 0.3));\n",
              "      fill: #FFFFFF;\n",
              "    }\n",
              "  </style>\n",
              "\n",
              "      <script>\n",
              "        const buttonEl =\n",
              "          document.querySelector('#df-25a2cb8a-c8bd-4709-843c-7bdfbe9cd9fc button.colab-df-convert');\n",
              "        buttonEl.style.display =\n",
              "          google.colab.kernel.accessAllowed ? 'block' : 'none';\n",
              "\n",
              "        async function convertToInteractive(key) {\n",
              "          const element = document.querySelector('#df-25a2cb8a-c8bd-4709-843c-7bdfbe9cd9fc');\n",
              "          const dataTable =\n",
              "            await google.colab.kernel.invokeFunction('convertToInteractive',\n",
              "                                                     [key], {});\n",
              "          if (!dataTable) return;\n",
              "\n",
              "          const docLinkHtml = 'Like what you see? Visit the ' +\n",
              "            '<a target=\"_blank\" href=https://colab.research.google.com/notebooks/data_table.ipynb>data table notebook</a>'\n",
              "            + ' to learn more about interactive tables.';\n",
              "          element.innerHTML = '';\n",
              "          dataTable['output_type'] = 'display_data';\n",
              "          await google.colab.output.renderOutput(dataTable, element);\n",
              "          const docLink = document.createElement('div');\n",
              "          docLink.innerHTML = docLinkHtml;\n",
              "          element.appendChild(docLink);\n",
              "        }\n",
              "      </script>\n",
              "    </div>\n",
              "  </div>\n",
              "  "
            ]
          },
          "metadata": {},
          "execution_count": 120
        }
      ]
    },
    {
      "cell_type": "code",
      "source": [
        "plt.plot(df0.index,df0.Dem)\n",
        "plt.legend('Demand')\n",
        "plt.title('Energy')\n",
        "plt.ylabel('Demand')\n",
        "plt.xlabel('Date')"
      ],
      "metadata": {
        "colab": {
          "base_uri": "https://localhost:8080/",
          "height": 313
        },
        "id": "Dt9xT0cJDgZE",
        "outputId": "0da745c7-664f-4306-fa65-487bbbcccfbe"
      },
      "execution_count": 121,
      "outputs": [
        {
          "output_type": "execute_result",
          "data": {
            "text/plain": [
              "Text(0.5, 0, 'Date')"
            ]
          },
          "metadata": {},
          "execution_count": 121
        },
        {
          "output_type": "display_data",
          "data": {
            "text/plain": [
              "<Figure size 432x288 with 1 Axes>"
            ],
            "image/png": "[encoded data removed]"
          },
          "metadata": {
            "needs_background": "light"
          }
        }
      ]
    },
    {
      "cell_type": "code",
      "source": [
        "\n",
        "FORECAST_DATE_INIT = datetime.datetime(2015,1,1)\n",
        "TRAINING_DATE_END = FORECAST_DATE_INIT + datetime.timedelta(days=565+31-15)\n",
        "HNTE = 22*24\n",
        "NDHT = 15*24\n",
        "zona1 = df0.copy()\n",
        "\n",
        "zona1 = zona1.rename_axis('fecha').reset_index() # Se resetea el indice para convertir a diccionario mas facil\n",
        "\n",
        "colum=zona1.columns[1:]\n",
        "df_data= zona1.iloc[HNTE:].reset_index(drop=True)\n",
        "df_data_e = df_data.loc[:len(df_data)-NDHT-1] #El menos 1 es debido a que comienza en cero\n",
        "df_data_p = df_data.loc[len(df_data)-NDHT:]\n",
        "\n"
      ],
      "metadata": {
        "id": "Uu0N2RzINu2I"
      },
      "execution_count": 122,
      "outputs": []
    },
    {
      "cell_type": "code",
      "source": [
        "## Crear diccionarios para el modelo ##\n",
        "meteo = ['T_DryBulb','T_DewPnt']\n",
        "tiempo = []\n",
        "#resagos = [1,2,3,4,5,24,48,72,96,120,144,166,167,168,169,170]\n",
        "resagos = [1,2,3,4,5,6,7,8,9,10,168,170,171,172,173,336,338,339,340,341,504,506,507,508,509]\n",
        "#resagos = [2,3]\n",
        "horas = []\n",
        "dias = []\n",
        "dias_semana = ['m','w','j','v','s','d','dlf','dfnl']\n",
        "dias_semana_cf = ['l_cf', 'm_cf', 'w_cf', 'j_cf', 'v_cf', 's_cf', 'd_cf']\n",
        "exponentes = [1,2,3] # exponenetes a los que se elevaran las variables meteorologicas en el modelo"
      ],
      "metadata": {
        "id": "iZG7BVPZQDTi"
      },
      "execution_count": 123,
      "outputs": []
    },
    {
      "cell_type": "code",
      "source": [
        "#se crean los dataframe con la informacion de entrenamiento y testeo\n",
        "X_train = df_data_e[['d', 'j', 'm', 's', 'v', 'w', 'dlf',\n",
        "                     'dfnl', 'd_cf', 'j_cf', 'l_cf', 'm_cf',\n",
        "                     's_cf', 'v_cf', 'w_cf', 'T_DryBulb', 'T_DewPnt']]\n",
        "\n",
        "X_test = df_data_p[['d', 'j', 'm', 's', 'v', 'w', 'dlf',\n",
        "                     'dfnl', 'd_cf', 'j_cf', 'l_cf', 'm_cf',\n",
        "                     's_cf', 'v_cf', 'w_cf', 'T_DryBulb', 'T_DewPnt']]\n",
        "\n",
        "for i in df_data_e.index:\n",
        "  for j in resagos:\n",
        "    X_train.loc[i,'r_'+str(j)] = zona1.iloc[i+HNTE-j,1]\n",
        "\n",
        "for i in df_data_p.index:\n",
        "  for j in resagos:\n",
        "    X_test.loc[i,'r_'+str(j)] = zona1.iloc[i+HNTE-j,1]\n",
        "\n",
        "for i in exponentes[1:]:\n",
        "  X_train['T_Dry_'+str(i)] = df_data_e['T_DryBulb']**i\n",
        "  X_train['T_Dew_'+str(i)] = df_data_e['T_DewPnt']**i\n",
        "\n",
        "for i in exponentes[1:]:\n",
        "  X_test['T_Dry_'+str(i)] = df_data_p['T_DryBulb']**i\n",
        "  X_test['T_Dew_'+str(i)] = df_data_p['T_DewPnt']**i\n",
        "\n",
        "X_train.insert(0, 'inter', 1)\n",
        "X_test.insert(0, 'inter', 1)\n",
        "\n",
        "y_train = df_data_e['Dem']\n",
        "y_test = df_data_p['Dem']"
      ],
      "metadata": {
        "id": "9EB7ELkzQH-3"
      },
      "execution_count": 124,
      "outputs": []
    },
    {
      "cell_type": "code",
      "source": [
        "y_test2=y_test.copy()"
      ],
      "metadata": {
        "id": "TiykjllZWInC"
      },
      "execution_count": 125,
      "outputs": []
    },
    {
      "cell_type": "code",
      "source": [
        "X_train.shape"
      ],
      "metadata": {
        "colab": {
          "base_uri": "https://localhost:8080/"
        },
        "id": "s1xkHlkjFlkA",
        "outputId": "196bb21e-9144-4319-85e7-e22a05dc990a"
      },
      "execution_count": 126,
      "outputs": [
        {
          "output_type": "execute_result",
          "data": {
            "text/plain": [
              "(13440, 47)"
            ]
          },
          "metadata": {},
          "execution_count": 126
        }
      ]
    },
    {
      "cell_type": "code",
      "source": [
        "with open('local/data/scaler.joblib', \"rb\") as scaler_file:\n",
        "    scaler = joblib.load(scaler_file)"
      ],
      "metadata": {
        "id": "mMakEsL0QOMf"
      },
      "execution_count": 127,
      "outputs": []
    },
    {
      "cell_type": "code",
      "source": [
        "from sklearn.linear_model import LassoCV, Lasso\n",
        "from sklearn.metrics import mean_absolute_percentage_error, mean_squared_error\n",
        "\n",
        "lasso_reg = LassoCV(cv=10, random_state=20221112, alphas=np.arange(0.5,10,0.5))\n",
        "lasso_reg.fit(X=X_train.values, y=y_train.values)\n",
        "\n",
        "pron_realista_lasso_reg = {} # pronotico realista\n",
        "pron_realista_lasso = {} # pronotico realista\n",
        "demanda=df_data_e['Dem'].to_dict()\n",
        "    # for t,i in enumerate(range(len(demanda),len(demanda)+NDHT)):\n",
        "X_test_c = X_test.copy()\n",
        "for i in X_test_c.index:\n",
        "    d=lasso_reg.predict(X_test_c.loc[i].to_numpy().reshape(1,-1))[0]\n",
        "    #print(d,i)\n",
        "    pron_realista_lasso_reg[i]=d\n",
        "    for r in resagos:\n",
        "        if i+r > len(demanda)+NDHT:\n",
        "            break\n",
        "        else:  \n",
        "            X_test_c.loc[i+r,'r_'+str(r)]=d # pone el nuevo resultado de la demanda pronosticada en el resago que le corresponde para cada hora y poder hacer el pronostico con este.\n",
        "\n",
        "\n"
      ],
      "metadata": {
        "id": "VEg4XADTQs_S"
      },
      "execution_count": 128,
      "outputs": []
    },
    {
      "cell_type": "code",
      "source": [
        "#https://www.programiz.com/python-programming/nested-dictionary\n",
        "DictModels={}\n",
        "DictDefault={'name':'NA',\n",
        "             'MAPE':99,\n",
        "             'RMSE':999999,\n",
        "             'y_predict':[0,0,0]}\n",
        "\n",
        "\n",
        "DictModels[1]=DictDefault"
      ],
      "metadata": {
        "id": "nDiQxgao2oxn"
      },
      "execution_count": 129,
      "outputs": []
    },
    {
      "cell_type": "code",
      "source": [
        "\n",
        "y_test_inv = scaler.inverse_transform(y_test.values.reshape(-1,1))\n",
        "y_hat_inv_lasso_reg = scaler.inverse_transform(\n",
        "    np.array(list(pron_realista_lasso_reg.values())).reshape(-1,1)\n",
        ")\n",
        "MAPE_lasso_reg = mean_absolute_percentage_error(y_true=y_test_inv, y_pred=y_hat_inv_lasso_reg, )\n",
        "RMSE_lasso_reg= mean_squared_error(y_true=y_test_inv, y_pred=y_hat_inv_lasso_reg, squared=False)\n",
        "print(f\"MAPE LassoCV with alpha {lasso_reg.alpha_}: {MAPE_lasso_reg:.2%}\")\n",
        "print(f\"RMSE Lasso with alpha {lasso_reg.alpha_}: {RMSE_lasso_reg:.2f}\")"
      ],
      "metadata": {
        "id": "SS_DuyPvUm1N",
        "colab": {
          "base_uri": "https://localhost:8080/"
        },
        "outputId": "a4076f10-21dc-4805-e36f-00772a6a5035"
      },
      "execution_count": 130,
      "outputs": [
        {
          "output_type": "stream",
          "name": "stdout",
          "text": [
            "MAPE LassoCV with alpha 0.5: 9.20%\n",
            "RMSE Lasso with alpha 0.5: 1752.78\n"
          ]
        }
      ]
    },
    {
      "cell_type": "code",
      "source": [
        "DictModels[1]['name']='Lasso'\n",
        "DictModels[1]['MAPE']=MAPE_lasso_reg\n",
        "DictModels[1]['RMSE']=RMSE_lasso_reg\n",
        "DictModels[1]['y_predict']=y_hat_inv_lasso_reg"
      ],
      "metadata": {
        "id": "DM23_5BT4Qmn"
      },
      "execution_count": 131,
      "outputs": []
    },
    {
      "cell_type": "code",
      "source": [
        "import plotly.graph_objects as go \n",
        "\n",
        "fig = go.Figure()\n",
        "fig.add_traces(\n",
        "    [\n",
        "        go.Scatter(x=df_data_p[\"fecha\"].values, y=scaler.inverse_transform(y_test.values.reshape(-1,1)).reshape(-1), name='Real values', customdata=X_test[\"r_1\"].values, hovertemplate='<b>Real Data</b><br>Date: %{x}<br>Scaled Demand: %{y}<br>Resago 1: %{customdata}'),\n",
        "        go.Scatter(x=df_data_p[\"fecha\"].values, y=scaler.inverse_transform(np.array(list(pron_realista_lasso_reg.values())).reshape(-1,1)).reshape(-1), name=\"LassoCV\",),\n",
        "\n",
        "        \n",
        "    ]\n",
        ")\n",
        "fig.update_layout(\n",
        "    {\n",
        "        \"xaxis_title\": \"Fecha\",\n",
        "        \"yaxis_title\": \"Scaled demand\"\n",
        "    }\n",
        ")\n",
        "# fig.write_html(\"results.html\")\n",
        "fig.show()"
      ],
      "metadata": {
        "id": "uP59i6_1gAZa",
        "colab": {
          "base_uri": "https://localhost:8080/",
          "height": 542
        },
        "outputId": "4ec142fb-ff85-4d80-a834-1a66a082cd46"
      },
      "execution_count": 132,
      "outputs": [
        {
          "output_type": "display_data",
          "data": {
            "text/html": [
              "<html>\n",
              "<head><meta charset=\"utf-8\" /></head>\n",
              "<body>\n",
              "    <div>            <script src=\"https://cdnjs.cloudflare.com/ajax/libs/mathjax/2.7.5/MathJax.js?config=TeX-AMS-MML_SVG\"></script><script type=\"text/javascript\">if (window.MathJax) {MathJax.Hub.Config({SVG: {font: \"STIX-Web\"}});}</script>                <script type=\"text/javascript\">window.PlotlyConfig = {MathJaxConfig: 'local'};</script>\n",
              "        <script src=\"https://cdn.plot.ly/plotly-2.8.3.min.js\"></script>                <div id=\"42848f92-207d-4d07-ba01-922ea5c85377\" class=\"plotly-graph-div\" style=\"height:525px; width:100%;\"></div>            <script type=\"text/javascript\">                                    window.PLOTLYENV=window.PLOTLYENV || {};                                    if (document.getElementById(\"42848f92-207d-4d07-ba01-922ea5c85377\")) {                    Plotly.newPlot(                        \"42848f92-207d-4d07-ba01-922ea5c85377\",                        [{\"customdata\":[0.580214879122705,0.5314118551134004,0.5001676497466147,0.4802525961618343,0.4698408241256127,0.4738755919248982,0.4986761236188419,0.5438119548060147,0.6057388468887597,0.65498978150702,0.6945106338788736,0.7309710476032234,0.7614938522887763,0.7854565090969512,0.8100625986541498,0.8278427764393121,0.8376443465979896,0.847213217579131,0.8439538090886434,0.8178812827116391,0.7828049347844147,0.7680987372268837,0.7335976987621501,0.6770274154689707,0.6166712220652987,0.5688352579546399,0.5350719448367534,0.5135836171803606,0.500862258037717,0.4987350253385395,0.5080202292930132,0.5279727922239761,0.571911813574811,0.6251198803688627,0.6720359724183766,0.7097799700922156,0.7389177951316772,0.7638806596327989,0.7881456758328487,0.807094251059234,0.8241350419539752,0.8363075517155437,0.838605051092465,0.8160414970507602,0.7888323502533854,0.7761066710974495,0.7408239594583369,0.6834503613857272,0.6215476863005732,0.5707911855113401,0.5331406496635374,0.5068948658303564,0.4893615103431087,0.4793823211763728,0.4752250976156849,0.4820969095289524,0.5200072692531362,0.5714631968098364,0.6182641438896735,0.6565945002907702,0.6887732823793303,0.7127460330647172,0.7268371271911606,0.7382544238597658,0.7530023261610035,0.7698206779097782,0.7801771205449863,0.7734200797540915,0.7495322339453353,0.7400286616266512,0.7045669602060314,0.6428882611946498,0.5821184680568248,0.5354674337459501,0.5040516324665615,0.4847493976904544,0.4755905125861925,0.4812944255213093,0.506546357065714,0.5529038797042453,0.6138136578881781,0.659182312868655,0.6938058486333805,0.7243424441305973,0.7508689872891916,0.772293553210933,0.7936153942012129,0.8096871313450195,0.8219331644097367,0.8348851042618594,0.8396941513666195,0.8235689540583201,0.7916030572401761,0.7745732325330232,0.726594832599485,0.6528529949322921,0.5848265348508764,0.534448658303564,0.5022529700091385,0.4815796710143724,0.4708321010218493,0.4745384647337377,0.5002280883941181,0.5467295422447453,0.6076479189166736,0.6510294508598488,0.6843777934701337,0.7181217911439727,0.7485440724432999,0.7746151449696768,0.8050559524798538,0.8280369278059317,0.8467934701337542,0.859089017196976,0.8607168729749938,0.8392549223228379,0.8104880368862672,0.7969350751848467,0.7506502035390877,0.6817139237351498,0.6149539752430008,0.565169352828778,0.5331527373930381,0.5137261360804187,0.5060243416133589,0.5134202043698596,0.5479110658802027,0.6043611364958046,0.6658875550386308,0.7102953809088643,0.738956259865415,0.7600171138988119,0.7712529700091385,0.7737393038132425,0.7788404502783086,0.7859500706156018,0.7991867574977154,0.8158286948575225,0.8270554540167816,0.8249084074104844,0.8171519896984297,0.8235638032732407,0.7889663122040376,0.7285335216416051,0.6675891002741547,0.6222339868738058,0.5910471047603224,0.5730860679571321,0.5649330397939686,0.5720596494143059,0.6057954224474537,0.6613016947744454,0.7334432582869486,0.7930262523884688,0.8421257788485502,0.8903255794633215,0.9324596660297416,0.966713092963363,0.9999061643266596,1.0143721026833927,1.019713466810667,1.026638821965606,1.023827324084074,1.0021450942925978,0.9816992190745202,0.9689884107335714,0.9146238680734402,0.8356547312453269,0.7602841654897399,0.7029513167732823,0.6625610617263438,0.6369446705989865,0.6229069120212678,0.6249363213425272,0.6525353493395365,0.7017561269419291,0.7667923485918418,0.8256273157763562,0.8793842319514829,0.9323832765639278,0.9777387222729916,1.0102161252803854,1.034017487746116,1.0464271828528702,1.0450784663952812,1.027872684223644,1.0018965689125197,0.9665274154689708,0.937122414222813,0.9192393038132424,0.8680701586774112,0.8014462075267924,0.7346985129185013,0.6814081581789483,0.6440455262939271,0.6190627648085071,0.602167109744953,0.5916665697432916,0.5918809504029243,0.6056322173298995,0.6457965024507768,0.698262191575974,0.7443271579297167,0.7833832350253386,0.8113329733322255,0.8305938772119299,0.8415545817064052,0.8485100938772119,0.8537750685386724,0.8562079006396942,0.849418708980643,0.8311679820553294,0.8137776439312122,0.8056709728337627,0.7653402841239512,0.7062353991858437,0.6484523967766055,0.6015248816150204,0.5693065547893994,0.5478939519813907,0.5377499792307053,0.5342805100938772,0.5393168978981474,0.5514037550884772,0.5929473706072942,0.6567025421616682,0.7299364874968847,0.8000282462407577,0.8549868322671763,0.895488119963446,0.922584032566254,0.9400439062889424,0.9566600066461745,0.9726200880618094,0.9840479770706988,0.9705665863587272,0.9458723934535184,0.9302768546980144,0.8761393204286783,0.8043435656725098,0.7333373764226967,0.6786511589266429,0.641019606214173,0.6139896153526626,0.5973460579878708,0.5981195895987372,0.6228389133505027,0.6680919664368198,0.7277982470715294,0.7769648583534102,0.817636080418709,0.8548178532857024,0.8837261360804187,0.9056062141729666,0.9290932541330896,0.9445412893578132,0.9531072941762898,0.9579275567001744,0.9507685469801446,0.9238726426850544,0.8904420952064468,0.8719566752513085,0.812791310127108,0.7344483675334386,0.6608131178865166,0.6059564260197724,0.5704285951649082,0.5471421035141646,0.5357015452355238,0.5404869568829443,0.570353451856775,0.6204884938107501,0.67697956301404,0.7201837667192823,0.7539270166985129,0.7892137160422031,0.8235622663454348,0.8512153775857771,0.8756807344022597,0.8830549555537094,0.8819372351914929,0.8848984796876297,0.8877893578134086,0.8762358976489159,0.8658550718617596,0.86234929799784,0.8190834925645926,0.7569894076597158,0.6991503696934452,0.6577490653817396,0.633281797790147,0.6187047021683144,0.6128530364708815,0.6209806014787738,0.6535677909778184,0.7039596244911522,0.7596305557863255,0.7922633961950653,0.8081181772866993,0.8289056658635873,0.8403458918335134,0.8434116474204536,0.852121458835258,0.859419415136662,0.8628826119464983,0.8633608872642685,0.8535639278890089,0.8245115477278392,0.8000470632217329,0.7922395115061892,0.7447528453933705,0.6755529617014207,0.6101782836254881,0.5602606131095788,0.5279432998255379,0.5084119797291684,0.4998650411232034,0.5059815568663288,0.5356226634543491,0.586854282628562,0.6381859267259284,0.6735469386059649,0.709023760073108,0.7515242169975908,0.7868767965439895,0.8182923901304312,0.8523019855445709,0.877961369111905,0.893698720611448,0.9043630472709148,0.9056010633878872,0.8851921575143309,0.8588489241505358,0.8494402675085154,0.8015016200049846,0.7308796627066545,0.6612582869485752,0.6089918999750769,0.5734175459001413,0.5506572650992771,0.5387979978399933,0.5410349754922323,0.5677012544653983,0.6134626152695855,0.6718623826534851,0.7195666278973166,0.7571506189249814,0.7919401844313367,0.8212192406745866,0.8410672925147462,0.860850128769627,0.8732178283625489,0.880422156683559,0.8822246406912021,0.8696611697266762,0.8382133837334884,0.8052955055246325,0.7906966852205699,0.745117429592091,0.6837117637285037],\"hovertemplate\":\"<b>Real Data</b><br>Date: %{x}<br>Scaled Demand: %{y}<br>Resago 1: %{customdata}\",\"name\":\"Real values\",\"x\":[\"2016-08-05T00:00:00.000000000\",\"2016-08-05T01:00:00.000000000\",\"2016-08-05T02:00:00.000000000\",\"2016-08-05T03:00:00.000000000\",\"2016-08-05T04:00:00.000000000\",\"2016-08-05T05:00:00.000000000\",\"2016-08-05T06:00:00.000000000\",\"2016-08-05T07:00:00.000000000\",\"2016-08-05T08:00:00.000000000\",\"2016-08-05T09:00:00.000000000\",\"2016-08-05T10:00:00.000000000\",\"2016-08-05T11:00:00.000000000\",\"2016-08-05T12:00:00.000000000\",\"2016-08-05T13:00:00.000000000\",\"2016-08-05T14:00:00.000000000\",\"2016-08-05T15:00:00.000000000\",\"2016-08-05T16:00:00.000000000\",\"2016-08-05T17:00:00.000000000\",\"2016-08-05T18:00:00.000000000\",\"2016-08-05T19:00:00.000000000\",\"2016-08-05T20:00:00.000000000\",\"2016-08-05T21:00:00.000000000\",\"2016-08-05T22:00:00.000000000\",\"2016-08-05T23:00:00.000000000\",\"2016-08-06T00:00:00.000000000\",\"2016-08-06T01:00:00.000000000\",\"2016-08-06T02:00:00.000000000\",\"2016-08-06T03:00:00.000000000\",\"2016-08-06T04:00:00.000000000\",\"2016-08-06T05:00:00.000000000\",\"2016-08-06T06:00:00.000000000\",\"2016-08-06T07:00:00.000000000\",\"2016-08-06T08:00:00.000000000\",\"2016-08-06T09:00:00.000000000\",\"2016-08-06T10:00:00.000000000\",\"2016-08-06T11:00:00.000000000\",\"2016-08-06T12:00:00.000000000\",\"2016-08-06T13:00:00.000000000\",\"2016-08-06T14:00:00.000000000\",\"2016-08-06T15:00:00.000000000\",\"2016-08-06T16:00:00.000000000\",\"2016-08-06T17:00:00.000000000\",\"2016-08-06T18:00:00.000000000\",\"2016-08-06T19:00:00.000000000\",\"2016-08-06T20:00:00.000000000\",\"2016-08-06T21:00:00.000000000\",\"2016-08-06T22:00:00.000000000\",\"2016-08-06T23:00:00.000000000\",\"2016-08-07T00:00:00.000000000\",\"2016-08-07T01:00:00.000000000\",\"2016-08-07T02:00:00.000000000\",\"2016-08-07T03:00:00.000000000\",\"2016-08-07T04:00:00.000000000\",\"2016-08-07T05:00:00.000000000\",\"2016-08-07T06:00:00.000000000\",\"2016-08-07T07:00:00.000000000\",\"2016-08-07T08:00:00.000000000\",\"2016-08-07T09:00:00.000000000\",\"2016-08-07T10:00:00.000000000\",\"2016-08-07T11:00:00.000000000\",\"2016-08-07T12:00:00.000000000\",\"2016-08-07T13:00:00.000000000\",\"2016-08-07T14:00:00.000000000\",\"2016-08-07T15:00:00.000000000\",\"2016-08-07T16:00:00.000000000\",\"2016-08-07T17:00:00.000000000\",\"2016-08-07T18:00:00.000000000\",\"2016-08-07T19:00:00.000000000\",\"2016-08-07T20:00:00.000000000\",\"2016-08-07T21:00:00.000000000\",\"2016-08-07T22:00:00.000000000\",\"2016-08-07T23:00:00.000000000\",\"2016-08-08T00:00:00.000000000\",\"2016-08-08T01:00:00.000000000\",\"2016-08-08T02:00:00.000000000\",\"2016-08-08T03:00:00.000000000\",\"2016-08-08T04:00:00.000000000\",\"2016-08-08T05:00:00.000000000\",\"2016-08-08T06:00:00.000000000\",\"2016-08-08T07:00:00.000000000\",\"2016-08-08T08:00:00.000000000\",\"2016-08-08T09:00:00.000000000\",\"2016-08-08T10:00:00.000000000\",\"2016-08-08T11:00:00.000000000\",\"2016-08-08T12:00:00.000000000\",\"2016-08-08T13:00:00.000000000\",\"2016-08-08T14:00:00.000000000\",\"2016-08-08T15:00:00.000000000\",\"2016-08-08T16:00:00.000000000\",\"2016-08-08T17:00:00.000000000\",\"2016-08-08T18:00:00.000000000\",\"2016-08-08T19:00:00.000000000\",\"2016-08-08T20:00:00.000000000\",\"2016-08-08T21:00:00.000000000\",\"2016-08-08T22:00:00.000000000\",\"2016-08-08T23:00:00.000000000\",\"2016-08-09T00:00:00.000000000\",\"2016-08-09T01:00:00.000000000\",\"2016-08-09T02:00:00.000000000\",\"2016-08-09T03:00:00.000000000\",\"2016-08-09T04:00:00.000000000\",\"2016-08-09T05:00:00.000000000\",\"2016-08-09T06:00:00.000000000\",\"2016-08-09T07:00:00.000000000\",\"2016-08-09T08:00:00.000000000\",\"2016-08-09T09:00:00.000000000\",\"2016-08-09T10:00:00.000000000\",\"2016-08-09T11:00:00.000000000\",\"2016-08-09T12:00:00.000000000\",\"2016-08-09T13:00:00.000000000\",\"2016-08-09T14:00:00.000000000\",\"2016-08-09T15:00:00.000000000\",\"2016-08-09T16:00:00.000000000\",\"2016-08-09T17:00:00.000000000\",\"2016-08-09T18:00:00.000000000\",\"2016-08-09T19:00:00.000000000\",\"2016-08-09T20:00:00.000000000\",\"2016-08-09T21:00:00.000000000\",\"2016-08-09T22:00:00.000000000\",\"2016-08-09T23:00:00.000000000\",\"2016-08-10T00:00:00.000000000\",\"2016-08-10T01:00:00.000000000\",\"2016-08-10T02:00:00.000000000\",\"2016-08-10T03:00:00.000000000\",\"2016-08-10T04:00:00.000000000\",\"2016-08-10T05:00:00.000000000\",\"2016-08-10T06:00:00.000000000\",\"2016-08-10T07:00:00.000000000\",\"2016-08-10T08:00:00.000000000\",\"2016-08-10T09:00:00.000000000\",\"2016-08-10T10:00:00.000000000\",\"2016-08-10T11:00:00.000000000\",\"2016-08-10T12:00:00.000000000\",\"2016-08-10T13:00:00.000000000\",\"2016-08-10T14:00:00.000000000\",\"2016-08-10T15:00:00.000000000\",\"2016-08-10T16:00:00.000000000\",\"2016-08-10T17:00:00.000000000\",\"2016-08-10T18:00:00.000000000\",\"2016-08-10T19:00:00.000000000\",\"2016-08-10T20:00:00.000000000\",\"2016-08-10T21:00:00.000000000\",\"2016-08-10T22:00:00.000000000\",\"2016-08-10T23:00:00.000000000\",\"2016-08-11T00:00:00.000000000\",\"2016-08-11T01:00:00.000000000\",\"2016-08-11T02:00:00.000000000\",\"2016-08-11T03:00:00.000000000\",\"2016-08-11T04:00:00.000000000\",\"2016-08-11T05:00:00.000000000\",\"2016-08-11T06:00:00.000000000\",\"2016-08-11T07:00:00.000000000\",\"2016-08-11T08:00:00.000000000\",\"2016-08-11T09:00:00.000000000\",\"2016-08-11T10:00:00.000000000\",\"2016-08-11T11:00:00.000000000\",\"2016-08-11T12:00:00.000000000\",\"2016-08-11T13:00:00.000000000\",\"2016-08-11T14:00:00.000000000\",\"2016-08-11T15:00:00.000000000\",\"2016-08-11T16:00:00.000000000\",\"2016-08-11T17:00:00.000000000\",\"2016-08-11T18:00:00.000000000\",\"2016-08-11T19:00:00.000000000\",\"2016-08-11T20:00:00.000000000\",\"2016-08-11T21:00:00.000000000\",\"2016-08-11T22:00:00.000000000\",\"2016-08-11T23:00:00.000000000\",\"2016-08-12T00:00:00.000000000\",\"2016-08-12T01:00:00.000000000\",\"2016-08-12T02:00:00.000000000\",\"2016-08-12T03:00:00.000000000\",\"2016-08-12T04:00:00.000000000\",\"2016-08-12T05:00:00.000000000\",\"2016-08-12T06:00:00.000000000\",\"2016-08-12T07:00:00.000000000\",\"2016-08-12T08:00:00.000000000\",\"2016-08-12T09:00:00.000000000\",\"2016-08-12T10:00:00.000000000\",\"2016-08-12T11:00:00.000000000\",\"2016-08-12T12:00:00.000000000\",\"2016-08-12T13:00:00.000000000\",\"2016-08-12T14:00:00.000000000\",\"2016-08-12T15:00:00.000000000\",\"2016-08-12T16:00:00.000000000\",\"2016-08-12T17:00:00.000000000\",\"2016-08-12T18:00:00.000000000\",\"2016-08-12T19:00:00.000000000\",\"2016-08-12T20:00:00.000000000\",\"2016-08-12T21:00:00.000000000\",\"2016-08-12T22:00:00.000000000\",\"2016-08-12T23:00:00.000000000\",\"2016-08-13T00:00:00.000000000\",\"2016-08-13T01:00:00.000000000\",\"2016-08-13T02:00:00.000000000\",\"2016-08-13T03:00:00.000000000\",\"2016-08-13T04:00:00.000000000\",\"2016-08-13T05:00:00.000000000\",\"2016-08-13T06:00:00.000000000\",\"2016-08-13T07:00:00.000000000\",\"2016-08-13T08:00:00.000000000\",\"2016-08-13T09:00:00.000000000\",\"2016-08-13T10:00:00.000000000\",\"2016-08-13T11:00:00.000000000\",\"2016-08-13T12:00:00.000000000\",\"2016-08-13T13:00:00.000000000\",\"2016-08-13T14:00:00.000000000\",\"2016-08-13T15:00:00.000000000\",\"2016-08-13T16:00:00.000000000\",\"2016-08-13T17:00:00.000000000\",\"2016-08-13T18:00:00.000000000\",\"2016-08-13T19:00:00.000000000\",\"2016-08-13T20:00:00.000000000\",\"2016-08-13T21:00:00.000000000\",\"2016-08-13T22:00:00.000000000\",\"2016-08-13T23:00:00.000000000\",\"2016-08-14T00:00:00.000000000\",\"2016-08-14T01:00:00.000000000\",\"2016-08-14T02:00:00.000000000\",\"2016-08-14T03:00:00.000000000\",\"2016-08-14T04:00:00.000000000\",\"2016-08-14T05:00:00.000000000\",\"2016-08-14T06:00:00.000000000\",\"2016-08-14T07:00:00.000000000\",\"2016-08-14T08:00:00.000000000\",\"2016-08-14T09:00:00.000000000\",\"2016-08-14T10:00:00.000000000\",\"2016-08-14T11:00:00.000000000\",\"2016-08-14T12:00:00.000000000\",\"2016-08-14T13:00:00.000000000\",\"2016-08-14T14:00:00.000000000\",\"2016-08-14T15:00:00.000000000\",\"2016-08-14T16:00:00.000000000\",\"2016-08-14T17:00:00.000000000\",\"2016-08-14T18:00:00.000000000\",\"2016-08-14T19:00:00.000000000\",\"2016-08-14T20:00:00.000000000\",\"2016-08-14T21:00:00.000000000\",\"2016-08-14T22:00:00.000000000\",\"2016-08-14T23:00:00.000000000\",\"2016-08-15T00:00:00.000000000\",\"2016-08-15T01:00:00.000000000\",\"2016-08-15T02:00:00.000000000\",\"2016-08-15T03:00:00.000000000\",\"2016-08-15T04:00:00.000000000\",\"2016-08-15T05:00:00.000000000\",\"2016-08-15T06:00:00.000000000\",\"2016-08-15T07:00:00.000000000\",\"2016-08-15T08:00:00.000000000\",\"2016-08-15T09:00:00.000000000\",\"2016-08-15T10:00:00.000000000\",\"2016-08-15T11:00:00.000000000\",\"2016-08-15T12:00:00.000000000\",\"2016-08-15T13:00:00.000000000\",\"2016-08-15T14:00:00.000000000\",\"2016-08-15T15:00:00.000000000\",\"2016-08-15T16:00:00.000000000\",\"2016-08-15T17:00:00.000000000\",\"2016-08-15T18:00:00.000000000\",\"2016-08-15T19:00:00.000000000\",\"2016-08-15T20:00:00.000000000\",\"2016-08-15T21:00:00.000000000\",\"2016-08-15T22:00:00.000000000\",\"2016-08-15T23:00:00.000000000\",\"2016-08-16T00:00:00.000000000\",\"2016-08-16T01:00:00.000000000\",\"2016-08-16T02:00:00.000000000\",\"2016-08-16T03:00:00.000000000\",\"2016-08-16T04:00:00.000000000\",\"2016-08-16T05:00:00.000000000\",\"2016-08-16T06:00:00.000000000\",\"2016-08-16T07:00:00.000000000\",\"2016-08-16T08:00:00.000000000\",\"2016-08-16T09:00:00.000000000\",\"2016-08-16T10:00:00.000000000\",\"2016-08-16T11:00:00.000000000\",\"2016-08-16T12:00:00.000000000\",\"2016-08-16T13:00:00.000000000\",\"2016-08-16T14:00:00.000000000\",\"2016-08-16T15:00:00.000000000\",\"2016-08-16T16:00:00.000000000\",\"2016-08-16T17:00:00.000000000\",\"2016-08-16T18:00:00.000000000\",\"2016-08-16T19:00:00.000000000\",\"2016-08-16T20:00:00.000000000\",\"2016-08-16T21:00:00.000000000\",\"2016-08-16T22:00:00.000000000\",\"2016-08-16T23:00:00.000000000\",\"2016-08-17T00:00:00.000000000\",\"2016-08-17T01:00:00.000000000\",\"2016-08-17T02:00:00.000000000\",\"2016-08-17T03:00:00.000000000\",\"2016-08-17T04:00:00.000000000\",\"2016-08-17T05:00:00.000000000\",\"2016-08-17T06:00:00.000000000\",\"2016-08-17T07:00:00.000000000\",\"2016-08-17T08:00:00.000000000\",\"2016-08-17T09:00:00.000000000\",\"2016-08-17T10:00:00.000000000\",\"2016-08-17T11:00:00.000000000\",\"2016-08-17T12:00:00.000000000\",\"2016-08-17T13:00:00.000000000\",\"2016-08-17T14:00:00.000000000\",\"2016-08-17T15:00:00.000000000\",\"2016-08-17T16:00:00.000000000\",\"2016-08-17T17:00:00.000000000\",\"2016-08-17T18:00:00.000000000\",\"2016-08-17T19:00:00.000000000\",\"2016-08-17T20:00:00.000000000\",\"2016-08-17T21:00:00.000000000\",\"2016-08-17T22:00:00.000000000\",\"2016-08-17T23:00:00.000000000\",\"2016-08-18T00:00:00.000000000\",\"2016-08-18T01:00:00.000000000\",\"2016-08-18T02:00:00.000000000\",\"2016-08-18T03:00:00.000000000\",\"2016-08-18T04:00:00.000000000\",\"2016-08-18T05:00:00.000000000\",\"2016-08-18T06:00:00.000000000\",\"2016-08-18T07:00:00.000000000\",\"2016-08-18T08:00:00.000000000\",\"2016-08-18T09:00:00.000000000\",\"2016-08-18T10:00:00.000000000\",\"2016-08-18T11:00:00.000000000\",\"2016-08-18T12:00:00.000000000\",\"2016-08-18T13:00:00.000000000\",\"2016-08-18T14:00:00.000000000\",\"2016-08-18T15:00:00.000000000\",\"2016-08-18T16:00:00.000000000\",\"2016-08-18T17:00:00.000000000\",\"2016-08-18T18:00:00.000000000\",\"2016-08-18T19:00:00.000000000\",\"2016-08-18T20:00:00.000000000\",\"2016-08-18T21:00:00.000000000\",\"2016-08-18T22:00:00.000000000\",\"2016-08-18T23:00:00.000000000\",\"2016-08-19T00:00:00.000000000\",\"2016-08-19T01:00:00.000000000\",\"2016-08-19T02:00:00.000000000\",\"2016-08-19T03:00:00.000000000\",\"2016-08-19T04:00:00.000000000\",\"2016-08-19T05:00:00.000000000\",\"2016-08-19T06:00:00.000000000\",\"2016-08-19T07:00:00.000000000\",\"2016-08-19T08:00:00.000000000\",\"2016-08-19T09:00:00.000000000\",\"2016-08-19T10:00:00.000000000\",\"2016-08-19T11:00:00.000000000\",\"2016-08-19T12:00:00.000000000\",\"2016-08-19T13:00:00.000000000\",\"2016-08-19T14:00:00.000000000\",\"2016-08-19T15:00:00.000000000\",\"2016-08-19T16:00:00.000000000\",\"2016-08-19T17:00:00.000000000\",\"2016-08-19T18:00:00.000000000\",\"2016-08-19T19:00:00.000000000\",\"2016-08-19T20:00:00.000000000\",\"2016-08-19T21:00:00.000000000\",\"2016-08-19T22:00:00.000000000\",\"2016-08-19T23:00:00.000000000\"],\"y\":[12793.209000000003,12041.036000000002,11561.601,11310.948,11408.081,12005.129,13091.729,14582.557,15768.224000000002,16719.649000000005,17597.397,18332.203,18909.080000000005,19501.447000000004,19929.487,20165.450000000004,20395.811,20317.344,19689.674,18845.246,18491.209,17660.631,16298.758000000002,14845.743,13694.140000000001,12881.322000000002,12364.012000000002,12057.758,12006.547,12230.079,12710.417000000001,13768.205000000002,15049.136,16178.594000000001,17087.243,17788.707,18389.663000000004,18973.819,19429.987,19840.227000000003,20133.268,20188.578,19645.383,18990.350000000002,18683.992,17834.596000000005,16453.384,14963.139000000001,13741.227000000003,12834.828,12202.987,11780.889,11540.65,11440.568999999998,11606.001,12518.655000000002,13757.405000000002,14884.091000000002,15806.856000000002,16581.528,17158.648,17497.877,17772.737000000005,18127.778,18532.663,18781.984000000004,18619.315000000002,18044.239000000005,17815.45,16961.745,15476.892,14013.92,12890.843000000003,12134.539000000002,11669.857,11449.366,11586.682,12194.597000000002,13310.608000000002,14776.95,15869.155000000002,16702.682,17437.82,18076.42,18592.195,19105.497,19492.408,19787.219000000005,20099.024000000005,20214.797,19826.599,19057.052,18647.076,17492.044,15716.783000000001,14079.114,12866.317000000001,12091.238000000001,11593.549,11334.812000000002,11424.039,12042.491000000002,13161.967,14628.516000000001,15672.883,16475.711,17288.064,18020.450000000004,18648.085,19380.917,19934.161000000004,20385.706,20681.709,20720.898,20204.223,19511.689,19185.415,18071.153,16411.581,14804.402000000002,13605.887000000002,12835.119,12367.443000000001,12182.030000000002,12360.078,13190.411,14549.390000000001,16030.577,17099.651,17789.633,18296.652,18567.144,18627.0,18749.805000000004,18920.962,19239.622000000003,19640.26,19910.533000000003,19858.845000000005,19672.117,19826.475,18993.575,17538.716000000004,16071.540000000003,14979.661000000002,14228.868000000002,13796.474,13600.198,13771.764000000001,14583.919,15920.177000000001,17656.913,19091.314,20273.336,21433.698000000004,22448.034,23272.651000000005,24071.741000000005,24419.994,24548.582000000002,24715.303,24647.619000000002,24125.641,23633.427,23327.427,22018.655000000002,20117.552,18303.081,16922.85,15950.495,15333.806000000002,14995.861000000003,15044.717,15709.136000000002,16894.077,18459.759,19876.152,21170.296,22446.195,23538.082000000002,24319.943,24892.936999999994,25191.688,25159.219,24745.00700000001,24119.658,23268.181000000004,22560.285,22129.767,20897.921,19294.016000000003,17687.132,16404.22,15504.752000000002,14903.317000000001,14496.571,14243.781000000003,14248.942000000001,14579.990000000002,15546.905000000002,16809.964,17918.932,18859.168,19532.03,19995.717,20259.585,20427.032,20553.781,20612.349,20448.906,20009.538,19590.883000000005,19395.723,18424.802000000003,17001.911,15610.843,14481.110000000002,13705.486000000003,13189.999,12945.793000000001,12862.269000000002,12983.515000000001,13274.494,14274.615000000002,15809.457000000002,17572.491,19259.880000000005,20582.953000000005,21557.981,22210.288,22630.617000000002,23030.633000000005,23414.856000000003,23689.971000000005,23365.42,22770.932000000004,22395.485,21092.178000000004,19363.767,17654.364,16337.848000000002,15431.906,14781.186000000002,14380.509000000002,14399.131000000001,14994.224000000002,16083.646,17521.015,18704.652,19683.771000000004,20578.885,21274.823,21801.564,22366.991,22738.887,22945.105000000003,23061.148,22888.802000000003,22241.31,21436.503,20991.485,19567.138,17681.11,15908.415000000003,14587.795000000002,13732.498,13171.899,12896.479000000001,13011.683000000003,13730.689000000002,14937.64,16297.606000000002,17337.704,18150.039,18999.531,19826.438,20492.159,21081.138000000003,21258.665,21231.757,21303.046,21372.641,21094.503,20844.595,20760.197,19718.616,18223.763,16831.346,15834.651,15245.626,14894.697000000002,14753.824000000002,14949.487000000001,15733.991,16947.124,18287.346,19072.949,19454.637000000002,19955.075,20230.487,20304.292,20513.972,20689.663,20773.036,20784.550000000003,20548.698,19849.291,19260.333,19072.374,17929.180000000004,16263.262000000002,14689.432,13487.714,12709.707,12239.51,12033.751,12181.000000000002,12894.58,14127.930000000002,15363.688000000002,16214.969000000001,17069.038000000004,18092.194,18943.272000000004,19699.571000000004,20518.318000000003,21136.042000000005,21514.903,21771.636000000002,21801.439999999995,21310.116,20675.929,20449.425000000003,19295.350000000002,17595.197,15919.132000000001,14660.871000000001,13804.454000000002,13256.523,12971.023,13024.876000000002,13666.84,14768.499000000002,16174.415,17322.847,18227.644000000004,19065.168,19770.032,20247.854000000003,20724.106,21021.846000000005,21195.283000000003,21238.676,20936.223000000005,20179.149,19386.684000000005,19035.232,17937.957000000002,16459.677,14921.734],\"type\":\"scatter\"},{\"name\":\"LassoCV\",\"x\":[\"2016-08-05T00:00:00.000000000\",\"2016-08-05T01:00:00.000000000\",\"2016-08-05T02:00:00.000000000\",\"2016-08-05T03:00:00.000000000\",\"2016-08-05T04:00:00.000000000\",\"2016-08-05T05:00:00.000000000\",\"2016-08-05T06:00:00.000000000\",\"2016-08-05T07:00:00.000000000\",\"2016-08-05T08:00:00.000000000\",\"2016-08-05T09:00:00.000000000\",\"2016-08-05T10:00:00.000000000\",\"2016-08-05T11:00:00.000000000\",\"2016-08-05T12:00:00.000000000\",\"2016-08-05T13:00:00.000000000\",\"2016-08-05T14:00:00.000000000\",\"2016-08-05T15:00:00.000000000\",\"2016-08-05T16:00:00.000000000\",\"2016-08-05T17:00:00.000000000\",\"2016-08-05T18:00:00.000000000\",\"2016-08-05T19:00:00.000000000\",\"2016-08-05T20:00:00.000000000\",\"2016-08-05T21:00:00.000000000\",\"2016-08-05T22:00:00.000000000\",\"2016-08-05T23:00:00.000000000\",\"2016-08-06T00:00:00.000000000\",\"2016-08-06T01:00:00.000000000\",\"2016-08-06T02:00:00.000000000\",\"2016-08-06T03:00:00.000000000\",\"2016-08-06T04:00:00.000000000\",\"2016-08-06T05:00:00.000000000\",\"2016-08-06T06:00:00.000000000\",\"2016-08-06T07:00:00.000000000\",\"2016-08-06T08:00:00.000000000\",\"2016-08-06T09:00:00.000000000\",\"2016-08-06T10:00:00.000000000\",\"2016-08-06T11:00:00.000000000\",\"2016-08-06T12:00:00.000000000\",\"2016-08-06T13:00:00.000000000\",\"2016-08-06T14:00:00.000000000\",\"2016-08-06T15:00:00.000000000\",\"2016-08-06T16:00:00.000000000\",\"2016-08-06T17:00:00.000000000\",\"2016-08-06T18:00:00.000000000\",\"2016-08-06T19:00:00.000000000\",\"2016-08-06T20:00:00.000000000\",\"2016-08-06T21:00:00.000000000\",\"2016-08-06T22:00:00.000000000\",\"2016-08-06T23:00:00.000000000\",\"2016-08-07T00:00:00.000000000\",\"2016-08-07T01:00:00.000000000\",\"2016-08-07T02:00:00.000000000\",\"2016-08-07T03:00:00.000000000\",\"2016-08-07T04:00:00.000000000\",\"2016-08-07T05:00:00.000000000\",\"2016-08-07T06:00:00.000000000\",\"2016-08-07T07:00:00.000000000\",\"2016-08-07T08:00:00.000000000\",\"2016-08-07T09:00:00.000000000\",\"2016-08-07T10:00:00.000000000\",\"2016-08-07T11:00:00.000000000\",\"2016-08-07T12:00:00.000000000\",\"2016-08-07T13:00:00.000000000\",\"2016-08-07T14:00:00.000000000\",\"2016-08-07T15:00:00.000000000\",\"2016-08-07T16:00:00.000000000\",\"2016-08-07T17:00:00.000000000\",\"2016-08-07T18:00:00.000000000\",\"2016-08-07T19:00:00.000000000\",\"2016-08-07T20:00:00.000000000\",\"2016-08-07T21:00:00.000000000\",\"2016-08-07T22:00:00.000000000\",\"2016-08-07T23:00:00.000000000\",\"2016-08-08T00:00:00.000000000\",\"2016-08-08T01:00:00.000000000\",\"2016-08-08T02:00:00.000000000\",\"2016-08-08T03:00:00.000000000\",\"2016-08-08T04:00:00.000000000\",\"2016-08-08T05:00:00.000000000\",\"2016-08-08T06:00:00.000000000\",\"2016-08-08T07:00:00.000000000\",\"2016-08-08T08:00:00.000000000\",\"2016-08-08T09:00:00.000000000\",\"2016-08-08T10:00:00.000000000\",\"2016-08-08T11:00:00.000000000\",\"2016-08-08T12:00:00.000000000\",\"2016-08-08T13:00:00.000000000\",\"2016-08-08T14:00:00.000000000\",\"2016-08-08T15:00:00.000000000\",\"2016-08-08T16:00:00.000000000\",\"2016-08-08T17:00:00.000000000\",\"2016-08-08T18:00:00.000000000\",\"2016-08-08T19:00:00.000000000\",\"2016-08-08T20:00:00.000000000\",\"2016-08-08T21:00:00.000000000\",\"2016-08-08T22:00:00.000000000\",\"2016-08-08T23:00:00.000000000\",\"2016-08-09T00:00:00.000000000\",\"2016-08-09T01:00:00.000000000\",\"2016-08-09T02:00:00.000000000\",\"2016-08-09T03:00:00.000000000\",\"2016-08-09T04:00:00.000000000\",\"2016-08-09T05:00:00.000000000\",\"2016-08-09T06:00:00.000000000\",\"2016-08-09T07:00:00.000000000\",\"2016-08-09T08:00:00.000000000\",\"2016-08-09T09:00:00.000000000\",\"2016-08-09T10:00:00.000000000\",\"2016-08-09T11:00:00.000000000\",\"2016-08-09T12:00:00.000000000\",\"2016-08-09T13:00:00.000000000\",\"2016-08-09T14:00:00.000000000\",\"2016-08-09T15:00:00.000000000\",\"2016-08-09T16:00:00.000000000\",\"2016-08-09T17:00:00.000000000\",\"2016-08-09T18:00:00.000000000\",\"2016-08-09T19:00:00.000000000\",\"2016-08-09T20:00:00.000000000\",\"2016-08-09T21:00:00.000000000\",\"2016-08-09T22:00:00.000000000\",\"2016-08-09T23:00:00.000000000\",\"2016-08-10T00:00:00.000000000\",\"2016-08-10T01:00:00.000000000\",\"2016-08-10T02:00:00.000000000\",\"2016-08-10T03:00:00.000000000\",\"2016-08-10T04:00:00.000000000\",\"2016-08-10T05:00:00.000000000\",\"2016-08-10T06:00:00.000000000\",\"2016-08-10T07:00:00.000000000\",\"2016-08-10T08:00:00.000000000\",\"2016-08-10T09:00:00.000000000\",\"2016-08-10T10:00:00.000000000\",\"2016-08-10T11:00:00.000000000\",\"2016-08-10T12:00:00.000000000\",\"2016-08-10T13:00:00.000000000\",\"2016-08-10T14:00:00.000000000\",\"2016-08-10T15:00:00.000000000\",\"2016-08-10T16:00:00.000000000\",\"2016-08-10T17:00:00.000000000\",\"2016-08-10T18:00:00.000000000\",\"2016-08-10T19:00:00.000000000\",\"2016-08-10T20:00:00.000000000\",\"2016-08-10T21:00:00.000000000\",\"2016-08-10T22:00:00.000000000\",\"2016-08-10T23:00:00.000000000\",\"2016-08-11T00:00:00.000000000\",\"2016-08-11T01:00:00.000000000\",\"2016-08-11T02:00:00.000000000\",\"2016-08-11T03:00:00.000000000\",\"2016-08-11T04:00:00.000000000\",\"2016-08-11T05:00:00.000000000\",\"2016-08-11T06:00:00.000000000\",\"2016-08-11T07:00:00.000000000\",\"2016-08-11T08:00:00.000000000\",\"2016-08-11T09:00:00.000000000\",\"2016-08-11T10:00:00.000000000\",\"2016-08-11T11:00:00.000000000\",\"2016-08-11T12:00:00.000000000\",\"2016-08-11T13:00:00.000000000\",\"2016-08-11T14:00:00.000000000\",\"2016-08-11T15:00:00.000000000\",\"2016-08-11T16:00:00.000000000\",\"2016-08-11T17:00:00.000000000\",\"2016-08-11T18:00:00.000000000\",\"2016-08-11T19:00:00.000000000\",\"2016-08-11T20:00:00.000000000\",\"2016-08-11T21:00:00.000000000\",\"2016-08-11T22:00:00.000000000\",\"2016-08-11T23:00:00.000000000\",\"2016-08-12T00:00:00.000000000\",\"2016-08-12T01:00:00.000000000\",\"2016-08-12T02:00:00.000000000\",\"2016-08-12T03:00:00.000000000\",\"2016-08-12T04:00:00.000000000\",\"2016-08-12T05:00:00.000000000\",\"2016-08-12T06:00:00.000000000\",\"2016-08-12T07:00:00.000000000\",\"2016-08-12T08:00:00.000000000\",\"2016-08-12T09:00:00.000000000\",\"2016-08-12T10:00:00.000000000\",\"2016-08-12T11:00:00.000000000\",\"2016-08-12T12:00:00.000000000\",\"2016-08-12T13:00:00.000000000\",\"2016-08-12T14:00:00.000000000\",\"2016-08-12T15:00:00.000000000\",\"2016-08-12T16:00:00.000000000\",\"2016-08-12T17:00:00.000000000\",\"2016-08-12T18:00:00.000000000\",\"2016-08-12T19:00:00.000000000\",\"2016-08-12T20:00:00.000000000\",\"2016-08-12T21:00:00.000000000\",\"2016-08-12T22:00:00.000000000\",\"2016-08-12T23:00:00.000000000\",\"2016-08-13T00:00:00.000000000\",\"2016-08-13T01:00:00.000000000\",\"2016-08-13T02:00:00.000000000\",\"2016-08-13T03:00:00.000000000\",\"2016-08-13T04:00:00.000000000\",\"2016-08-13T05:00:00.000000000\",\"2016-08-13T06:00:00.000000000\",\"2016-08-13T07:00:00.000000000\",\"2016-08-13T08:00:00.000000000\",\"2016-08-13T09:00:00.000000000\",\"2016-08-13T10:00:00.000000000\",\"2016-08-13T11:00:00.000000000\",\"2016-08-13T12:00:00.000000000\",\"2016-08-13T13:00:00.000000000\",\"2016-08-13T14:00:00.000000000\",\"2016-08-13T15:00:00.000000000\",\"2016-08-13T16:00:00.000000000\",\"2016-08-13T17:00:00.000000000\",\"2016-08-13T18:00:00.000000000\",\"2016-08-13T19:00:00.000000000\",\"2016-08-13T20:00:00.000000000\",\"2016-08-13T21:00:00.000000000\",\"2016-08-13T22:00:00.000000000\",\"2016-08-13T23:00:00.000000000\",\"2016-08-14T00:00:00.000000000\",\"2016-08-14T01:00:00.000000000\",\"2016-08-14T02:00:00.000000000\",\"2016-08-14T03:00:00.000000000\",\"2016-08-14T04:00:00.000000000\",\"2016-08-14T05:00:00.000000000\",\"2016-08-14T06:00:00.000000000\",\"2016-08-14T07:00:00.000000000\",\"2016-08-14T08:00:00.000000000\",\"2016-08-14T09:00:00.000000000\",\"2016-08-14T10:00:00.000000000\",\"2016-08-14T11:00:00.000000000\",\"2016-08-14T12:00:00.000000000\",\"2016-08-14T13:00:00.000000000\",\"2016-08-14T14:00:00.000000000\",\"2016-08-14T15:00:00.000000000\",\"2016-08-14T16:00:00.000000000\",\"2016-08-14T17:00:00.000000000\",\"2016-08-14T18:00:00.000000000\",\"2016-08-14T19:00:00.000000000\",\"2016-08-14T20:00:00.000000000\",\"2016-08-14T21:00:00.000000000\",\"2016-08-14T22:00:00.000000000\",\"2016-08-14T23:00:00.000000000\",\"2016-08-15T00:00:00.000000000\",\"2016-08-15T01:00:00.000000000\",\"2016-08-15T02:00:00.000000000\",\"2016-08-15T03:00:00.000000000\",\"2016-08-15T04:00:00.000000000\",\"2016-08-15T05:00:00.000000000\",\"2016-08-15T06:00:00.000000000\",\"2016-08-15T07:00:00.000000000\",\"2016-08-15T08:00:00.000000000\",\"2016-08-15T09:00:00.000000000\",\"2016-08-15T10:00:00.000000000\",\"2016-08-15T11:00:00.000000000\",\"2016-08-15T12:00:00.000000000\",\"2016-08-15T13:00:00.000000000\",\"2016-08-15T14:00:00.000000000\",\"2016-08-15T15:00:00.000000000\",\"2016-08-15T16:00:00.000000000\",\"2016-08-15T17:00:00.000000000\",\"2016-08-15T18:00:00.000000000\",\"2016-08-15T19:00:00.000000000\",\"2016-08-15T20:00:00.000000000\",\"2016-08-15T21:00:00.000000000\",\"2016-08-15T22:00:00.000000000\",\"2016-08-15T23:00:00.000000000\",\"2016-08-16T00:00:00.000000000\",\"2016-08-16T01:00:00.000000000\",\"2016-08-16T02:00:00.000000000\",\"2016-08-16T03:00:00.000000000\",\"2016-08-16T04:00:00.000000000\",\"2016-08-16T05:00:00.000000000\",\"2016-08-16T06:00:00.000000000\",\"2016-08-16T07:00:00.000000000\",\"2016-08-16T08:00:00.000000000\",\"2016-08-16T09:00:00.000000000\",\"2016-08-16T10:00:00.000000000\",\"2016-08-16T11:00:00.000000000\",\"2016-08-16T12:00:00.000000000\",\"2016-08-16T13:00:00.000000000\",\"2016-08-16T14:00:00.000000000\",\"2016-08-16T15:00:00.000000000\",\"2016-08-16T16:00:00.000000000\",\"2016-08-16T17:00:00.000000000\",\"2016-08-16T18:00:00.000000000\",\"2016-08-16T19:00:00.000000000\",\"2016-08-16T20:00:00.000000000\",\"2016-08-16T21:00:00.000000000\",\"2016-08-16T22:00:00.000000000\",\"2016-08-16T23:00:00.000000000\",\"2016-08-17T00:00:00.000000000\",\"2016-08-17T01:00:00.000000000\",\"2016-08-17T02:00:00.000000000\",\"2016-08-17T03:00:00.000000000\",\"2016-08-17T04:00:00.000000000\",\"2016-08-17T05:00:00.000000000\",\"2016-08-17T06:00:00.000000000\",\"2016-08-17T07:00:00.000000000\",\"2016-08-17T08:00:00.000000000\",\"2016-08-17T09:00:00.000000000\",\"2016-08-17T10:00:00.000000000\",\"2016-08-17T11:00:00.000000000\",\"2016-08-17T12:00:00.000000000\",\"2016-08-17T13:00:00.000000000\",\"2016-08-17T14:00:00.000000000\",\"2016-08-17T15:00:00.000000000\",\"2016-08-17T16:00:00.000000000\",\"2016-08-17T17:00:00.000000000\",\"2016-08-17T18:00:00.000000000\",\"2016-08-17T19:00:00.000000000\",\"2016-08-17T20:00:00.000000000\",\"2016-08-17T21:00:00.000000000\",\"2016-08-17T22:00:00.000000000\",\"2016-08-17T23:00:00.000000000\",\"2016-08-18T00:00:00.000000000\",\"2016-08-18T01:00:00.000000000\",\"2016-08-18T02:00:00.000000000\",\"2016-08-18T03:00:00.000000000\",\"2016-08-18T04:00:00.000000000\",\"2016-08-18T05:00:00.000000000\",\"2016-08-18T06:00:00.000000000\",\"2016-08-18T07:00:00.000000000\",\"2016-08-18T08:00:00.000000000\",\"2016-08-18T09:00:00.000000000\",\"2016-08-18T10:00:00.000000000\",\"2016-08-18T11:00:00.000000000\",\"2016-08-18T12:00:00.000000000\",\"2016-08-18T13:00:00.000000000\",\"2016-08-18T14:00:00.000000000\",\"2016-08-18T15:00:00.000000000\",\"2016-08-18T16:00:00.000000000\",\"2016-08-18T17:00:00.000000000\",\"2016-08-18T18:00:00.000000000\",\"2016-08-18T19:00:00.000000000\",\"2016-08-18T20:00:00.000000000\",\"2016-08-18T21:00:00.000000000\",\"2016-08-18T22:00:00.000000000\",\"2016-08-18T23:00:00.000000000\",\"2016-08-19T00:00:00.000000000\",\"2016-08-19T01:00:00.000000000\",\"2016-08-19T02:00:00.000000000\",\"2016-08-19T03:00:00.000000000\",\"2016-08-19T04:00:00.000000000\",\"2016-08-19T05:00:00.000000000\",\"2016-08-19T06:00:00.000000000\",\"2016-08-19T07:00:00.000000000\",\"2016-08-19T08:00:00.000000000\",\"2016-08-19T09:00:00.000000000\",\"2016-08-19T10:00:00.000000000\",\"2016-08-19T11:00:00.000000000\",\"2016-08-19T12:00:00.000000000\",\"2016-08-19T13:00:00.000000000\",\"2016-08-19T14:00:00.000000000\",\"2016-08-19T15:00:00.000000000\",\"2016-08-19T16:00:00.000000000\",\"2016-08-19T17:00:00.000000000\",\"2016-08-19T18:00:00.000000000\",\"2016-08-19T19:00:00.000000000\",\"2016-08-19T20:00:00.000000000\",\"2016-08-19T21:00:00.000000000\",\"2016-08-19T22:00:00.000000000\",\"2016-08-19T23:00:00.000000000\"],\"y\":[13913.920467332095,13707.641831121871,13515.941174648959,13515.941174648959,13338.468077610463,13129.5711745791,13129.5711745791,13470.640229524564,14371.613360176061,15477.353396039112,16906.27879341,18188.50402761427,19046.43399671805,19482.92685813235,19945.34451109539,21023.788763141427,20473.948654372252,20041.336068006414,19102.667280568116,18250.432988928987,17024.44103857478,16299.860120855918,15964.342515842978,15646.206252990512,15283.17195068091,14998.7471112407,14730.652353052279,14792.58131436699,14792.58131436699,14792.58131436699,14860.358958547566,15128.453716735985,15787.763229618728,16521.35112360006,17332.17376650434,18223.187526155947,18322.503665683973,20151.53101219745,21187.853753561754,21638.377722802903,22030.860062525757,22117.101787711174,20301.055289799406,19793.336691711967,17890.53001275085,17092.218682755356,16299.860120855918,15902.413554528266,15528.044007825732,15477.353396039109,14578.427512291195,14578.427512291195,14089.826558458126,14089.826558458126,13622.276602134096,14326.312415051661,15432.05245091471,16398.89140239304,17533.553654627525,18820.07521790753,18799.427525076127,19307.25869110845,19778.15353778805,19778.15353778805,20306.75768106491,19778.15353778805,19794.32959636449,18799.427525076127,17049.036475079803,16308.58846435692,15645.093824355263,14741.427381067697,14473.332622879276,14448.060290391693,13959.459336558628,13319.62531479366,13162.799910586571,12999.2039526796,12978.556259848197,13162.799910586571,14473.332622879276,15301.685229015213,16287.940771525518,16659.27232176808,17478.231344594973,17869.088213545845,18799.427525076127,18783.25146649969,18771.39403677701,18771.39403677701,19258.57750997793,18316.252697882403,16631.23883346896,15264.861477607372,14679.33129717227,14411.23653898385,14159.121441744323,13511.325971266571,13142.152217755167,13142.152217755167,12828.487020769855,12691.594080217246,12551.350959311041,13142.152217755167,14175.29750032076,15281.03753618381,15955.339096880618,17032.860416503365,17869.088213545845,18760.023042288085,19250.885703707794,19766.29610806537,19270.434939700608,19286.610998277047,18799.427525076127,18820.07521790753,17503.503677082554,16010.66140691317,15675.14380190023,15090.882826056448,14806.457986616237,14578.427512291195,14578.427512291195,14371.61336017606,14422.303971962683,14540.466217127461,14540.466217127461,15202.233049183631,15867.697255734653,15953.93898092007,16364.777673428654,15844.85220910932,16252.040404905356,16683.179243233306,17138.772149797263,17863.353067516127,18661.664397511617,18788.965430539392,18923.645200445124,18515.098023761355,17990.6541005439,17990.6541005439,17619.32255030134,17619.32255030134,17619.32255030134,17266.073182825035,17266.073182825035,17266.073182825035,16803.254544784322,16803.254544784322,16365.042980380838,17138.772149797263,17619.32255030134,18788.965430539392,20130.809303851947,21654.31551841717,22528.20578717194,23857.294916448926,25156.85933099048,24262.505213189805,23121.56908783443,23737.219614897913,22528.20578717194,21527.01448538939,20490.691744025095,19536.509502206885,18661.664397511617,18253.11722082785,17863.353067516127,17492.021517273566,17371.946215722546,17371.946215722546,16905.69427277076,16905.69427277076,16905.69427277076,17258.943640247064,18020.03934380135,19883.432969273155,21527.01448538939,23241.64438938544,24495.58309021631,25968.7750921021,26549.777694770746,25721.398757523308,23857.294916448926,21788.99528832291,20617.992777052867,20130.809303851947,18969.26971631931,17743.277765965107,17630.275190489625,17258.943640247064,17371.946215722546,17371.946215722546,17258.943640247064,16570.176667757823,16799.61141796962,15844.85220910932,16145.957550104213,16145.957550104213,16464.09381295668,16905.69427277076,17152.860785445922,18020.03934380135,18856.26714084383,19303.431625180383,19565.031399468506,20559.933470756867,20257.613866998592,19303.431625180383,18428.586520485118,18020.03934380135,17152.860785445922,16799.61141796962,15652.833639925177,15461.111230141085,15193.016471952666,15193.016471952666,15560.42736966911,15560.42736966911,15560.42736966911,15560.42736966911,15844.85220910932,16252.040404905356,17018.696848246243,18661.664397511617,20617.992777052867,22775.582121750733,23241.64438938544,24495.58309021631,24375.507788665294,25608.396182047818,25608.396182047818,25608.396182047818,24817.698599162835,23008.566512358946,20878.335040561517,19770.430393797673,18856.26714084383,18428.586520485118,17524.192335688484,17053.544645917897,16607.592848785476,16185.83351858712,15787.763229618728,15486.65788862384,15345.10091199562,15345.10091199562,16367.637765036494,17024.44103857478,18250.432988928984,19164.596241882828,19589.850753769035,20097.56935185648,20569.940211283276,21069.089708265827,21069.089708265827,20473.948654372252,19533.61746991897,18188.504027614275,16962.51207726007,16237.931159541205,15902.413554528266,15345.10091199562,15060.67607255541,15060.67607255541,14478.53725581275,14540.466217127461,14540.466217127461,14478.53725581275,14303.980360533926,14792.58131436699,15345.10091199562,15713.983897171087,16441.417097484133,17165.998015202993,17635.696194630647,18130.48509649983,18650.86814651466,18322.503665683973,18020.03934380135,18541.589095960597,18969.26971631931,18133.04191927683,17743.277765965107,17863.353067516127,17990.6541005439,17990.6541005439,17990.6541005439,18515.098023761355,18515.098023761355,18788.965430539392,18541.589095960597,18020.03934380135,17524.192335688484,17524.192335688484,17245.932041318923,17024.44103857478,17352.27623057179,17704.590123405495,17704.590123405495,18081.580131977582,18081.580131977582,18528.74461631414,18036.279186853182,18483.44367118974,17608.59856649447,16810.28723649898,16131.007263904516,15477.353396039109,15176.248055044216,14891.823215604007,14371.61336017606,14135.127503582524,13913.920467332095,13913.920467332095,13913.920467332095,13964.611079118718,13964.611079118718,14185.818115369148,14540.466217127461,15060.67607255541,16653.10948833222,17822.752368570273,19102.66728056812,19990.64545621979,20041.336068006414,20041.336068006414,20626.173495133342,20569.940211283276,21119.78032005245,20097.56935185648,18250.432988928984,17092.218682755356,16720.887132512795,16367.637765036494,16105.899492471193,15787.763229618728,15128.453716735985,15202.233049183631,14860.358958547566,14792.58131436699,14540.466217127461,14792.58131436699,15646.206252990512,16299.860120855918,16962.51207726007,17704.590123405495,18579.435228100763,18995.743384931426,18579.435228100763,19482.926858132345,19482.926858132345,18995.743384931426,18528.74461631414,17704.590123405495,16653.10948833222,16131.007263904516,15584.277291675799,14730.652353052279],\"type\":\"scatter\"}],                        {\"template\":{\"data\":{\"bar\":[{\"error_x\":{\"color\":\"#2a3f5f\"},\"error_y\":{\"color\":\"#2a3f5f\"},\"marker\":{\"line\":{\"color\":\"#E5ECF6\",\"width\":0.5},\"pattern\":{\"fillmode\":\"overlay\",\"size\":10,\"solidity\":0.2}},\"type\":\"bar\"}],\"barpolar\":[{\"marker\":{\"line\":{\"color\":\"#E5ECF6\",\"width\":0.5},\"pattern\":{\"fillmode\":\"overlay\",\"size\":10,\"solidity\":0.2}},\"type\":\"barpolar\"}],\"carpet\":[{\"aaxis\":{\"endlinecolor\":\"#2a3f5f\",\"gridcolor\":\"white\",\"linecolor\":\"white\",\"minorgridcolor\":\"white\",\"startlinecolor\":\"#2a3f5f\"},\"baxis\":{\"endlinecolor\":\"#2a3f5f\",\"gridcolor\":\"white\",\"linecolor\":\"white\",\"minorgridcolor\":\"white\",\"startlinecolor\":\"#2a3f5f\"},\"type\":\"carpet\"}],\"choropleth\":[{\"colorbar\":{\"outlinewidth\":0,\"ticks\":\"\"},\"type\":\"choropleth\"}],\"contour\":[{\"colorbar\":{\"outlinewidth\":0,\"ticks\":\"\"},\"colorscale\":[[0.0,\"#0d0887\"],[0.1111111111111111,\"#46039f\"],[0.2222222222222222,\"#7201a8\"],[0.3333333333333333,\"#9c179e\"],[0.4444444444444444,\"#bd3786\"],[0.5555555555555556,\"#d8576b\"],[0.6666666666666666,\"#ed7953\"],[0.7777777777777778,\"#fb9f3a\"],[0.8888888888888888,\"#fdca26\"],[1.0,\"#f0f921\"]],\"type\":\"contour\"}],\"contourcarpet\":[{\"colorbar\":{\"outlinewidth\":0,\"ticks\":\"\"},\"type\":\"contourcarpet\"}],\"heatmap\":[{\"colorbar\":{\"outlinewidth\":0,\"ticks\":\"\"},\"colorscale\":[[0.0,\"#0d0887\"],[0.1111111111111111,\"#46039f\"],[0.2222222222222222,\"#7201a8\"],[0.3333333333333333,\"#9c179e\"],[0.4444444444444444,\"#bd3786\"],[0.5555555555555556,\"#d8576b\"],[0.6666666666666666,\"#ed7953\"],[0.7777777777777778,\"#fb9f3a\"],[0.8888888888888888,\"#fdca26\"],[1.0,\"#f0f921\"]],\"type\":\"heatmap\"}],\"heatmapgl\":[{\"colorbar\":{\"outlinewidth\":0,\"ticks\":\"\"},\"colorscale\":[[0.0,\"#0d0887\"],[0.1111111111111111,\"#46039f\"],[0.2222222222222222,\"#7201a8\"],[0.3333333333333333,\"#9c179e\"],[0.4444444444444444,\"#bd3786\"],[0.5555555555555556,\"#d8576b\"],[0.6666666666666666,\"#ed7953\"],[0.7777777777777778,\"#fb9f3a\"],[0.8888888888888888,\"#fdca26\"],[1.0,\"#f0f921\"]],\"type\":\"heatmapgl\"}],\"histogram\":[{\"marker\":{\"pattern\":{\"fillmode\":\"overlay\",\"size\":10,\"solidity\":0.2}},\"type\":\"histogram\"}],\"histogram2d\":[{\"colorbar\":{\"outlinewidth\":0,\"ticks\":\"\"},\"colorscale\":[[0.0,\"#0d0887\"],[0.1111111111111111,\"#46039f\"],[0.2222222222222222,\"#7201a8\"],[0.3333333333333333,\"#9c179e\"],[0.4444444444444444,\"#bd3786\"],[0.5555555555555556,\"#d8576b\"],[0.6666666666666666,\"#ed7953\"],[0.7777777777777778,\"#fb9f3a\"],[0.8888888888888888,\"#fdca26\"],[1.0,\"#f0f921\"]],\"type\":\"histogram2d\"}],\"histogram2dcontour\":[{\"colorbar\":{\"outlinewidth\":0,\"ticks\":\"\"},\"colorscale\":[[0.0,\"#0d0887\"],[0.1111111111111111,\"#46039f\"],[0.2222222222222222,\"#7201a8\"],[0.3333333333333333,\"#9c179e\"],[0.4444444444444444,\"#bd3786\"],[0.5555555555555556,\"#d8576b\"],[0.6666666666666666,\"#ed7953\"],[0.7777777777777778,\"#fb9f3a\"],[0.8888888888888888,\"#fdca26\"],[1.0,\"#f0f921\"]],\"type\":\"histogram2dcontour\"}],\"mesh3d\":[{\"colorbar\":{\"outlinewidth\":0,\"ticks\":\"\"},\"type\":\"mesh3d\"}],\"parcoords\":[{\"line\":{\"colorbar\":{\"outlinewidth\":0,\"ticks\":\"\"}},\"type\":\"parcoords\"}],\"pie\":[{\"automargin\":true,\"type\":\"pie\"}],\"scatter\":[{\"marker\":{\"colorbar\":{\"outlinewidth\":0,\"ticks\":\"\"}},\"type\":\"scatter\"}],\"scatter3d\":[{\"line\":{\"colorbar\":{\"outlinewidth\":0,\"ticks\":\"\"}},\"marker\":{\"colorbar\":{\"outlinewidth\":0,\"ticks\":\"\"}},\"type\":\"scatter3d\"}],\"scattercarpet\":[{\"marker\":{\"colorbar\":{\"outlinewidth\":0,\"ticks\":\"\"}},\"type\":\"scattercarpet\"}],\"scattergeo\":[{\"marker\":{\"colorbar\":{\"outlinewidth\":0,\"ticks\":\"\"}},\"type\":\"scattergeo\"}],\"scattergl\":[{\"marker\":{\"colorbar\":{\"outlinewidth\":0,\"ticks\":\"\"}},\"type\":\"scattergl\"}],\"scattermapbox\":[{\"marker\":{\"colorbar\":{\"outlinewidth\":0,\"ticks\":\"\"}},\"type\":\"scattermapbox\"}],\"scatterpolar\":[{\"marker\":{\"colorbar\":{\"outlinewidth\":0,\"ticks\":\"\"}},\"type\":\"scatterpolar\"}],\"scatterpolargl\":[{\"marker\":{\"colorbar\":{\"outlinewidth\":0,\"ticks\":\"\"}},\"type\":\"scatterpolargl\"}],\"scatterternary\":[{\"marker\":{\"colorbar\":{\"outlinewidth\":0,\"ticks\":\"\"}},\"type\":\"scatterternary\"}],\"surface\":[{\"colorbar\":{\"outlinewidth\":0,\"ticks\":\"\"},\"colorscale\":[[0.0,\"#0d0887\"],[0.1111111111111111,\"#46039f\"],[0.2222222222222222,\"#7201a8\"],[0.3333333333333333,\"#9c179e\"],[0.4444444444444444,\"#bd3786\"],[0.5555555555555556,\"#d8576b\"],[0.6666666666666666,\"#ed7953\"],[0.7777777777777778,\"#fb9f3a\"],[0.8888888888888888,\"#fdca26\"],[1.0,\"#f0f921\"]],\"type\":\"surface\"}],\"table\":[{\"cells\":{\"fill\":{\"color\":\"#EBF0F8\"},\"line\":{\"color\":\"white\"}},\"header\":{\"fill\":{\"color\":\"#C8D4E3\"},\"line\":{\"color\":\"white\"}},\"type\":\"table\"}]},\"layout\":{\"annotationdefaults\":{\"arrowcolor\":\"#2a3f5f\",\"arrowhead\":0,\"arrowwidth\":1},\"autotypenumbers\":\"strict\",\"coloraxis\":{\"colorbar\":{\"outlinewidth\":0,\"ticks\":\"\"}},\"colorscale\":{\"diverging\":[[0,\"#8e0152\"],[0.1,\"#c51b7d\"],[0.2,\"#de77ae\"],[0.3,\"#f1b6da\"],[0.4,\"#fde0ef\"],[0.5,\"#f7f7f7\"],[0.6,\"#e6f5d0\"],[0.7,\"#b8e186\"],[0.8,\"#7fbc41\"],[0.9,\"#4d9221\"],[1,\"#276419\"]],\"sequential\":[[0.0,\"#0d0887\"],[0.1111111111111111,\"#46039f\"],[0.2222222222222222,\"#7201a8\"],[0.3333333333333333,\"#9c179e\"],[0.4444444444444444,\"#bd3786\"],[0.5555555555555556,\"#d8576b\"],[0.6666666666666666,\"#ed7953\"],[0.7777777777777778,\"#fb9f3a\"],[0.8888888888888888,\"#fdca26\"],[1.0,\"#f0f921\"]],\"sequentialminus\":[[0.0,\"#0d0887\"],[0.1111111111111111,\"#46039f\"],[0.2222222222222222,\"#7201a8\"],[0.3333333333333333,\"#9c179e\"],[0.4444444444444444,\"#bd3786\"],[0.5555555555555556,\"#d8576b\"],[0.6666666666666666,\"#ed7953\"],[0.7777777777777778,\"#fb9f3a\"],[0.8888888888888888,\"#fdca26\"],[1.0,\"#f0f921\"]]},\"colorway\":[\"#636efa\",\"#EF553B\",\"#00cc96\",\"#ab63fa\",\"#FFA15A\",\"#19d3f3\",\"#FF6692\",\"#B6E880\",\"#FF97FF\",\"#FECB52\"],\"font\":{\"color\":\"#2a3f5f\"},\"geo\":{\"bgcolor\":\"white\",\"lakecolor\":\"white\",\"landcolor\":\"#E5ECF6\",\"showlakes\":true,\"showland\":true,\"subunitcolor\":\"white\"},\"hoverlabel\":{\"align\":\"left\"},\"hovermode\":\"closest\",\"mapbox\":{\"style\":\"light\"},\"paper_bgcolor\":\"white\",\"plot_bgcolor\":\"#E5ECF6\",\"polar\":{\"angularaxis\":{\"gridcolor\":\"white\",\"linecolor\":\"white\",\"ticks\":\"\"},\"bgcolor\":\"#E5ECF6\",\"radialaxis\":{\"gridcolor\":\"white\",\"linecolor\":\"white\",\"ticks\":\"\"}},\"scene\":{\"xaxis\":{\"backgroundcolor\":\"#E5ECF6\",\"gridcolor\":\"white\",\"gridwidth\":2,\"linecolor\":\"white\",\"showbackground\":true,\"ticks\":\"\",\"zerolinecolor\":\"white\"},\"yaxis\":{\"backgroundcolor\":\"#E5ECF6\",\"gridcolor\":\"white\",\"gridwidth\":2,\"linecolor\":\"white\",\"showbackground\":true,\"ticks\":\"\",\"zerolinecolor\":\"white\"},\"zaxis\":{\"backgroundcolor\":\"#E5ECF6\",\"gridcolor\":\"white\",\"gridwidth\":2,\"linecolor\":\"white\",\"showbackground\":true,\"ticks\":\"\",\"zerolinecolor\":\"white\"}},\"shapedefaults\":{\"line\":{\"color\":\"#2a3f5f\"}},\"ternary\":{\"aaxis\":{\"gridcolor\":\"white\",\"linecolor\":\"white\",\"ticks\":\"\"},\"baxis\":{\"gridcolor\":\"white\",\"linecolor\":\"white\",\"ticks\":\"\"},\"bgcolor\":\"#E5ECF6\",\"caxis\":{\"gridcolor\":\"white\",\"linecolor\":\"white\",\"ticks\":\"\"}},\"title\":{\"x\":0.05},\"xaxis\":{\"automargin\":true,\"gridcolor\":\"white\",\"linecolor\":\"white\",\"ticks\":\"\",\"title\":{\"standoff\":15},\"zerolinecolor\":\"white\",\"zerolinewidth\":2},\"yaxis\":{\"automargin\":true,\"gridcolor\":\"white\",\"linecolor\":\"white\",\"ticks\":\"\",\"title\":{\"standoff\":15},\"zerolinecolor\":\"white\",\"zerolinewidth\":2}}},\"xaxis\":{\"title\":{\"text\":\"Fecha\"}},\"yaxis\":{\"title\":{\"text\":\"Scaled demand\"}}},                        {\"responsive\": true}                    ).then(function(){\n",
              "                            \n",
              "var gd = document.getElementById('42848f92-207d-4d07-ba01-922ea5c85377');\n",
              "var x = new MutationObserver(function (mutations, observer) {{\n",
              "        var display = window.getComputedStyle(gd).display;\n",
              "        if (!display || display === 'none') {{\n",
              "            console.log([gd, 'removed!']);\n",
              "            Plotly.purge(gd);\n",
              "            observer.disconnect();\n",
              "        }}\n",
              "}});\n",
              "\n",
              "// Listen for the removal of the full notebook cells\n",
              "var notebookContainer = gd.closest('#notebook-container');\n",
              "if (notebookContainer) {{\n",
              "    x.observe(notebookContainer, {childList: true});\n",
              "}}\n",
              "\n",
              "// Listen for the clearing of the current output cell\n",
              "var outputEl = gd.closest('.output');\n",
              "if (outputEl) {{\n",
              "    x.observe(outputEl, {childList: true});\n",
              "}}\n",
              "\n",
              "                        })                };                            </script>        </div>\n",
              "</body>\n",
              "</html>"
            ]
          },
          "metadata": {}
        }
      ]
    },
    {
      "cell_type": "code",
      "source": [
        "import warnings\n",
        "warnings.filterwarnings('ignore')\n",
        "from tensorflow.keras.models import Sequential\n",
        "from tensorflow.keras.layers import Dense, Dropout, SimpleRNN, RepeatVector, TimeDistributed, LSTM\n",
        "from tensorflow import keras\n",
        "from local.lib import DataPreparationRNN\n",
        "import pandas as pd\n",
        "import numpy as np\n",
        "import matplotlib.pyplot as plt\n",
        "#-----\n",
        "from local.lib.DataPreparationRNN import split_sequence\n",
        "from sklearn.preprocessing import MinMaxScaler\n"
      ],
      "metadata": {
        "id": "zHPlsyajsaBC"
      },
      "execution_count": 133,
      "outputs": []
    },
    {
      "cell_type": "code",
      "source": [
        "def convert(df_in):\n",
        "  l_col=list()\n",
        "  for i in df_in.columns:\n",
        "    if i != 'Dem':\n",
        "      l_col.append(i)\n",
        "\n",
        "  df=df_in.drop(columns=l_col, axis=1)\n",
        "  dataset = df.values\n",
        "  dataset = dataset.astype('float32')\n",
        "  return dataset\n",
        "\n"
      ],
      "metadata": {
        "id": "o16vvNSxk1RO"
      },
      "execution_count": 134,
      "outputs": []
    },
    {
      "cell_type": "code",
      "source": [
        "df=convert(df_data_e)\n",
        "df"
      ],
      "metadata": {
        "colab": {
          "base_uri": "https://localhost:8080/"
        },
        "id": "IxZwTyvyR--U",
        "outputId": "314ab1f5-438b-4a18-fbe4-a3db83c90669"
      },
      "execution_count": 135,
      "outputs": [
        {
          "output_type": "execute_result",
          "data": {
            "text/plain": [
              "array([[0.5243001 ],\n",
              "       [0.5092631 ],\n",
              "       [0.5041123 ],\n",
              "       ...,\n",
              "       [0.71131396],\n",
              "       [0.6441845 ],\n",
              "       [0.58021486]], dtype=float32)"
            ]
          },
          "metadata": {},
          "execution_count": 135
        }
      ]
    },
    {
      "cell_type": "code",
      "source": [
        "look_back=2\n",
        "# split into train and test sets\n",
        "#train_size = int(len(dataset) * 0.67)\n",
        "#test_size = len(dataset) - train_size\n",
        "#train, test = dataset[0:train_size], dataset[train_size:len(dataset)]\n",
        "\n",
        "trainN = convert(df_data_e)\n",
        "testN = convert(df_data_p)\n",
        "\n",
        "# normalize the dataset\n",
        "#scaler = MinMaxScaler(feature_range=(0, 1))\n",
        "#trainN = scaler.fit_transform(train)\n",
        "#testN = scaler.transform(test)\n",
        "\n",
        "#tensor formating\n",
        "\n",
        "X_train, y_train = split_sequence(trainN, look_back)\n",
        "X_test, y_test = split_sequence(testN, look_back)\n",
        "print('Train',X_train[:10])\n",
        "print('Test',y_train[:10])"
      ],
      "metadata": {
        "colab": {
          "base_uri": "https://localhost:8080/"
        },
        "id": "YmCz6PBVti8F",
        "outputId": "78495c0d-7f02-47d2-b401-48512e6e9c2c"
      },
      "execution_count": 136,
      "outputs": [
        {
          "output_type": "stream",
          "name": "stdout",
          "text": [
            "Train [[[0.5243001 ]\n",
            "  [0.5092631 ]]\n",
            "\n",
            " [[0.5092631 ]\n",
            "  [0.5041123 ]]\n",
            "\n",
            " [[0.5041123 ]\n",
            "  [0.50735235]]\n",
            "\n",
            " [[0.50735235]\n",
            "  [0.5245493 ]]\n",
            "\n",
            " [[0.5245493 ]\n",
            "  [0.5719864 ]]\n",
            "\n",
            " [[0.5719864 ]\n",
            "  [0.6543989 ]]\n",
            "\n",
            " [[0.6543989 ]\n",
            "  [0.69660217]]\n",
            "\n",
            " [[0.69660217]\n",
            "  [0.69531447]]\n",
            "\n",
            " [[0.69531447]\n",
            "  [0.6858852 ]]\n",
            "\n",
            " [[0.6858852 ]\n",
            "  [0.677079  ]]]\n",
            "Test [[0.5041123 ]\n",
            " [0.50735235]\n",
            " [0.5245493 ]\n",
            " [0.5719864 ]\n",
            " [0.6543989 ]\n",
            " [0.69660217]\n",
            " [0.69531447]\n",
            " [0.6858852 ]\n",
            " [0.677079  ]\n",
            " [0.666819  ]]\n"
          ]
        }
      ]
    },
    {
      "cell_type": "code",
      "source": [
        "\n",
        "model1 = Sequential()\n",
        "model1.add(Dense(5,activation = 'relu',input_dim=look_back))\n",
        "model1.add(Dense(1))\n",
        "model1.summary()"
      ],
      "metadata": {
        "colab": {
          "base_uri": "https://localhost:8080/"
        },
        "id": "o39uSgu_HoPe",
        "outputId": "8f9b4914-a354-4ef3-8e93-dda9f1526d3f"
      },
      "execution_count": 137,
      "outputs": [
        {
          "output_type": "stream",
          "name": "stdout",
          "text": [
            "Model: \"sequential_5\"\n",
            "_________________________________________________________________\n",
            " Layer (type)                Output Shape              Param #   \n",
            "=================================================================\n",
            " dense_10 (Dense)            (None, 5)                 15        \n",
            "                                                                 \n",
            " dense_11 (Dense)            (None, 1)                 6         \n",
            "                                                                 \n",
            "=================================================================\n",
            "Total params: 21\n",
            "Trainable params: 21\n",
            "Non-trainable params: 0\n",
            "_________________________________________________________________\n"
          ]
        }
      ]
    },
    {
      "cell_type": "code",
      "source": [
        "model1.compile(optimizer='adam',loss='mse')\n",
        "model1.fit(X_train.reshape(X_train.shape[0],look_back),y_train.flatten(),epochs=200, verbose=0)\n",
        "trainPredict, testPredict = DataPreparationRNN.EstimaRMSE(model1,X_train,X_test,y_train,y_test,scaler,look_back)\n",
        "#DataPreparationRNN.PintaResultado(trainN,trainPredict,testPredict,look_back)"
      ],
      "metadata": {
        "id": "SnyVXBZbGQOF",
        "colab": {
          "base_uri": "https://localhost:8080/"
        },
        "outputId": "a54a6fdd-601f-457e-fff1-9f4b9b8d4c00"
      },
      "execution_count": 138,
      "outputs": [
        {
          "output_type": "stream",
          "name": "stdout",
          "text": [
            "420/420 [==============================] - 0s 1ms/step\n",
            "12/12 [==============================] - 0s 2ms/step\n",
            "Train Score: 389.89 RMSE\n",
            "Test Score: 380.54 RMSE\n",
            "Train Score: 1.90 MAPE\n",
            "Test Score: 1.47 MAPE\n"
          ]
        }
      ]
    },
    {
      "cell_type": "code",
      "source": [
        "plt.plot(scaler.inverse_transform(y_test),'b',label='Real demand')\n",
        "plt.plot(testPredict,'g',label='Predicted demand')\n",
        "plt.legend()\n",
        "plt.show()"
      ],
      "metadata": {
        "colab": {
          "base_uri": "https://localhost:8080/",
          "height": 265
        },
        "id": "dT3OJzjTYpNp",
        "outputId": "be77cd99-562c-4813-a596-ef5c7543527a"
      },
      "execution_count": 139,
      "outputs": [
        {
          "output_type": "display_data",
          "data": {
            "text/plain": [
              "<Figure size 432x288 with 1 Axes>"
            ],
            "image/png": "[encoded data removed]"
          },
          "metadata": {
            "needs_background": "light"
          }
        }
      ]
    }
  ]
}